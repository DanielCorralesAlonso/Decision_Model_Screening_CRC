{
 "cells": [
  {
   "cell_type": "code",
   "execution_count": 1,
   "metadata": {},
   "outputs": [],
   "source": [
    "import pysmile\n",
    "import pysmile_license\n",
    "import numpy as np\n",
    "import pandas as pd\n",
    "\n",
    "from df_plot import plot_df \n",
    "from info_value_to_net import info_value_to_net\n",
    "from get_info_values import mutual_info_measures, cond_kl_divergence\n",
    "from save_info_values import save_info_values\n",
    "from plots import plot_cond_mut_info, plot_relative_cond_mut_info, plot_cond_mut_info_bounds\n",
    "\n",
    "np.seterr(divide='ignore', invalid = 'ignore')\n",
    "\n",
    "# Read the network\n",
    "net = pysmile.Network()\n",
    "net.read_file(\"genie_models/Basic_ID_screening_current_read.xdsl\")"
   ]
  },
  {
   "cell_type": "code",
   "execution_count": 2,
   "metadata": {},
   "outputs": [
    {
     "name": "stdout",
     "output_type": "stream",
     "text": [
      "David's probability of CRC: 0.0008571886717245085\n"
     ]
    }
   ],
   "source": [
    "net.clear_all_evidence()\n",
    "\n",
    "net.set_evidence(\"Age\", \"age_4_adult\")\n",
    "net.set_evidence(\"Sex\", \"M\")\n",
    "net.set_evidence(\"SD\", \"SD_1_short\")\n",
    "net.set_evidence(\"PA\", \"PA_2\")\n",
    "net.set_evidence(\"Smoking\", \"sm_1_not_smoker\")\n",
    "net.set_evidence(\"BMI\", \"bmi_3_overweight\")\n",
    "net.set_evidence(\"Alcohol\", \"low\")\n",
    "\n",
    "net.update_beliefs()\n",
    "\n",
    "print(\"David's probability of CRC:\", net.get_node_value(\"CRC\")[1])"
   ]
  },
  {
   "cell_type": "code",
   "execution_count": 3,
   "metadata": {},
   "outputs": [
    {
     "name": "stdout",
     "output_type": "stream",
     "text": [
      "Dani's probability of CRC: 0.00016487156854109932\n"
     ]
    }
   ],
   "source": [
    "net.clear_all_evidence()\n",
    "\n",
    "net.set_evidence(\"Age\", \"age_2_young\")\n",
    "net.set_evidence(\"Sex\", \"M\")\n",
    "net.set_evidence(\"SD\", \"SD_1_short\")\n",
    "net.set_evidence(\"PA\", \"PA_2\")\n",
    "net.set_evidence(\"Smoking\", \"sm_1_not_smoker\")\n",
    "net.set_evidence(\"BMI\", \"bmi_2_normal\")\n",
    "net.set_evidence(\"Alcohol\", \"low\")\n",
    "\n",
    "net.update_beliefs()\n",
    "\n",
    "print(\"Dani's probability of CRC:\", net.get_node_value(\"CRC\")[1])"
   ]
  }
 ],
 "metadata": {
  "kernelspec": {
   "display_name": "Python 3",
   "language": "python",
   "name": "python3"
  },
  "language_info": {
   "codemirror_mode": {
    "name": "ipython",
    "version": 3
   },
   "file_extension": ".py",
   "mimetype": "text/x-python",
   "name": "python",
   "nbconvert_exporter": "python",
   "pygments_lexer": "ipython3",
   "version": "3.11.9"
  }
 },
 "nbformat": 4,
 "nbformat_minor": 2
}
