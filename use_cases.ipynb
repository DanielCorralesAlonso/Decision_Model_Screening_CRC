{
 "cells": [
  {
   "cell_type": "code",
   "execution_count": 10,
   "metadata": {},
   "outputs": [
    {
     "data": {
      "text/plain": [
       "{'divide': 'ignore', 'over': 'ignore', 'under': 'ignore', 'invalid': 'ignore'}"
      ]
     },
     "execution_count": 10,
     "metadata": {},
     "output_type": "execute_result"
    }
   ],
   "source": [
    "import pysmile\n",
    "import pysmile_license\n",
    "import numpy as np\n",
    "import pandas as pd\n",
    "\n",
    "from df_plot import plot_df \n",
    "from info_value_to_net import info_value_to_net\n",
    "from get_info_values import mutual_info_measures, cond_kl_divergence\n",
    "from save_info_values import save_info_values\n",
    "\n",
    "from preprocessing import preprocessing\n",
    "\n",
    "np.seterr(divide='ignore', invalid = 'ignore')"
   ]
  },
  {
   "cell_type": "markdown",
   "metadata": {},
   "source": [
    "### Designing a national strategy"
   ]
  },
  {
   "cell_type": "markdown",
   "metadata": {},
   "source": [
    "#### Option 1: Perform FIT to the n patients with higher utility measured by the model, being n the number of people that the current screening strategy covers (that is, the number of people above the age of 54)"
   ]
  },
  {
   "cell_type": "code",
   "execution_count": 104,
   "metadata": {},
   "outputs": [],
   "source": [
    "from preprocessing import preprocessing\n",
    "\n",
    "\n",
    "try: \n",
    "    df_test = pd.read_csv(\"private/df_2016.csv\")\n",
    "    df_test = preprocessing(df_test)\n",
    "\n",
    "    df_test = df_test.rename(columns = {\"Hyperchol.\": \"Hyperchol_\"})\n",
    "\n",
    "    df_utilities_2016 = pd.read_csv(\"utilities_2016.csv\")\n",
    "\n",
    "except:\n",
    "    model_type = \"linear\"\n",
    "\n",
    "    net = pysmile.Network()\n",
    "    net.read_file(f\"decision_models/DM_screening_rel_pcmi_{model_type}.xdsl\")\n",
    "\n",
    "    df_test = pd.read_csv(\"private/df_2016.csv\")\n",
    "    df_test = preprocessing(df_test)\n",
    "\n",
    "    df_test = df_test.rename(columns = {\"Hyperchol.\": \"Hyperchol_\"})\n",
    "\n",
    "    y = np.array(list(df_test[\"CRC\"]*1))\n",
    "\n",
    "    vars1 = np.array([\"No scr\", \"gFOBT\", \"FIT\", \"Blood_test\", \"sDNA\", \"CTC\", \"CC\", \"Colonoscopy\"])\n",
    "\n",
    "    df_utilities_2016 = pd.DataFrame([], columns = vars1)\n",
    "\n",
    "    for i in range(df_test.shape[0]):\n",
    "        sample = df_test.iloc[i].drop(labels = [\"CRC\"])\n",
    "        sample_dict = sample.to_dict() \n",
    "\n",
    "        net.clear_all_evidence()\n",
    "\n",
    "        for key, value in sample.items():\n",
    "            if type(value) == np.bool_:\n",
    "                net.set_evidence(key, bool(value))\n",
    "            else:\n",
    "                net.set_evidence(key, value)\n",
    "\n",
    "        net.update_beliefs()\n",
    "\n",
    "        arr = np.array(net.get_node_value(\"U\"))\n",
    "\n",
    "        U = np.concatenate((arr[::2], [arr[1]]), axis = 0)\n",
    "\n",
    "        row = pd.DataFrame(U.reshape(1,8), columns=vars1)\n",
    "        df_utilities_2016 = pd.concat([df_utilities_2016, row], ignore_index = True)\n",
    "\n",
    "    df_utilities_2016 = pd.concat( [df_utilities_2016, df_test[\"CRC\"] ] , axis = 1)\n",
    "    df_utilities_2016.to_csv(\"utilities_2016.csv\", index = False)\n"
   ]
  },
  {
   "cell_type": "code",
   "execution_count": 105,
   "metadata": {},
   "outputs": [
    {
     "name": "stdout",
     "output_type": "stream",
     "text": [
      "------------------------\n",
      "Number of selected patients by current strategy is:  49074\n",
      "Number of patients with CRC by current strategy is:  107\n",
      "Percentage of total patients with CRC detected: 49.08 %\n",
      "------------------------\n",
      "Selecting the same number of patients for the new strategy, that is,  49074\n",
      "Number of patentes with CRC by new strategy is:  109\n",
      "Percentage of total patients with CRC detected: 50.0 %\n",
      "------------------------\n",
      "This is an improvement of  2 patients\n",
      "A proportional improvement of  1.87 %\n"
     ]
    }
   ],
   "source": [
    "df_selected_current_strategy = df_test[df_test[\"Age\"] == \"age_5_old_adult\"]\n",
    "tot_num_patients = df_selected_current_strategy.shape[0]   \n",
    "print(\"------------------------\")\n",
    "print(\"Number of selected patients by current strategy is: \", tot_num_patients)\n",
    "print(\"Number of patients with CRC by current strategy is: \", df_selected_current_strategy[\"CRC\"].sum())\n",
    "print(\"Percentage of total patients with CRC detected:\",  (df_selected_current_strategy[\"CRC\"].sum() / df_test[\"CRC\"].sum()).round(4) * 100, \"%\")\n",
    "\n",
    "print(\"------------------------\")\n",
    "print(\"Selecting the same number of patients for the new strategy, that is, \", df_utilities_2016.sort_values(by = \"FIT\", ascending = False)[:tot_num_patients].shape[0])\n",
    "print(\"Number of patentes with CRC by new strategy is: \", df_utilities_2016.sort_values(by = \"FIT\", ascending = False)[:tot_num_patients][\"CRC\"].sum())\n",
    "print(\"Percentage of total patients with CRC detected:\", (df_utilities_2016.sort_values(by = \"FIT\", ascending = False)[:tot_num_patients][\"CRC\"].sum() / df_test[\"CRC\"].sum()).round(4) * 100, \"%\")\n",
    "\n",
    "print(\"------------------------\")\n",
    "print(\"This is an improvement of \", df_utilities_2016.sort_values(by = \"FIT\", ascending = False)[:tot_num_patients][\"CRC\"].sum() - df_selected_current_strategy[\"CRC\"].sum(), \"patients\")\n",
    "print(\"A proportional improvement of \", ((df_utilities_2016.sort_values(by = \"FIT\", ascending = False)[:tot_num_patients][\"CRC\"].sum() - df_selected_current_strategy[\"CRC\"].sum()) / df_selected_current_strategy[\"CRC\"].sum()).round(4) * 100, \"%\")"
   ]
  },
  {
   "cell_type": "markdown",
   "metadata": {},
   "source": [
    "#### Option 2: Apply new national strategy with N FITs and M colonoscopies available."
   ]
  },
  {
   "cell_type": "code",
   "execution_count": 5,
   "metadata": {},
   "outputs": [],
   "source": [
    "N_FIT = 2000\n",
    "M_COL = 600"
   ]
  },
  {
   "cell_type": "code",
   "execution_count": 96,
   "metadata": {},
   "outputs": [],
   "source": [
    "import numpy as np\n",
    "import pandas as pd\n",
    "\n",
    "def simulate_test_results(sensitivity_scr, specificity_scr, cost_scr,\n",
    "                           sensitivity_col, specificity_col, cost_col,  patient_data):\n",
    "    \"\"\"\n",
    "    Simulate test results based on sensitivity, specificity, and actual number of patients\n",
    "    with and without the disease.\n",
    "    \n",
    "    Parameters:\n",
    "    - sensitivity (float): Sensitivity of the test (true positive rate)\n",
    "    - specificity (float): Specificity of the test (true negative rate)\n",
    "    - num_with_disease (int): Number of patients who have the disease\n",
    "    - num_without_disease (int): Number of patients who do not have the disease\n",
    "    \n",
    "    Returns:\n",
    "    - pandas DataFrame: A DataFrame with the simulated test results, true conditions, and test outcomes.\n",
    "    \"\"\"\n",
    "    print(\"Number of patients considered: \", patient_data.shape[0])\n",
    "\n",
    "    num_with_disease = patient_data.sum()\n",
    "    num_without_disease = len(patient_data) - num_with_disease\n",
    "\n",
    "    # Step 1: Create a list of patients with and without the disease\n",
    "    conditions = patient_data\n",
    "\n",
    "    print(f\"Cost of screening: {cost_scr*patient_data.shape[0]} €\")\n",
    "    \n",
    "    # Step 2: Simulate test results\n",
    "    scr_results = []\n",
    "    col_results = []\n",
    "    \n",
    "    for condition in conditions:\n",
    "        if condition == 1:\n",
    "            # Patient has the disease, test is positive with probability = sensitivity\n",
    "            scr_result = np.random.choice([1, 0], p=[sensitivity_scr, 1 - sensitivity_scr])\n",
    "            \n",
    "        else:\n",
    "            # Patient does not have the disease, test is negative with probability = specificity\n",
    "            scr_result = np.random.choice([0, 1], p=[specificity_scr, 1 - specificity_scr])\n",
    "            col_result = np.random.choice([0, 1], p=[specificity_col, 1 - specificity_col])\n",
    "\n",
    "        scr_results.append(scr_result)\n",
    "        col_results.append(col_result)\n",
    "    \n",
    "    # Step 3: Create a DataFrame to store the results\n",
    "    df_scr = pd.DataFrame({\n",
    "        'Condition': conditions,    # True condition of the patient\n",
    "        'TestResult': scr_results  # Simulated test result\n",
    "    })\n",
    "\n",
    "    # Add columns to indicate true positives, false positives, etc.\n",
    "    df_scr['TruePositive'] = (df_scr['Condition'] == 1) & (df_scr['TestResult'] == 1)\n",
    "    df_scr['FalsePositive'] = (df_scr['Condition'] == 0) & (df_scr['TestResult'] == 1)\n",
    "    df_scr['TrueNegative'] = (df_scr['Condition'] == 0) & (df_scr['TestResult'] == 0)\n",
    "    df_scr['FalseNegative'] = (df_scr['Condition'] == 1) & (df_scr['TestResult'] == 0)\n",
    "    \n",
    "    # Step 4: Calculate confusion matrix components\n",
    "    TP = df_scr['TruePositive'].sum()\n",
    "    FP = df_scr['FalsePositive'].sum()\n",
    "    TN = df_scr['TrueNegative'].sum()\n",
    "    FN = df_scr['FalseNegative'].sum()\n",
    "    \n",
    "    # Create confusion matrix\n",
    "    confusion_matrix_scr = pd.DataFrame({\n",
    "        'Predicted Negative': [TN, FN],\n",
    "        'Predicted Positive': [FP, TP]\n",
    "    }, index=['Actual Negative', 'Actual Positive'])\n",
    "\n",
    "\n",
    "    # For FIT positives, perform colonoscopy:\n",
    "    FIT_positives = df_scr[df_scr[\"TestResult\"] == 1]\n",
    "\n",
    "    print(\"Number of FIT positives: \", FIT_positives.shape[0])\n",
    "    print(\"Number of colonoscopies to be done: \", FIT_positives.shape[0])\n",
    "\n",
    "    print(f\"Cost of colonoscopy program: {cost_col*FIT_positives.shape[0]} €\")\n",
    "\n",
    "\n",
    "    conditions = FIT_positives[\"Condition\"].to_list()\n",
    "\n",
    "    col_results = []\n",
    "\n",
    "    for condition in conditions:\n",
    "        if condition == 1:\n",
    "            # Patient has the disease, test is positive with probability = sensitivity\n",
    "            col_result = np.random.choice([1, 0], p=[sensitivity_col, 1 - sensitivity_col])\n",
    "        else:\n",
    "            # Patient does not have the disease, test is negative with probability = specificity\n",
    "            col_result = np.random.choice([0, 1], p=[specificity_col, 1 - specificity_col])\n",
    "\n",
    "        col_results.append(col_result)\n",
    "\n",
    "    # Step 5: Create a DataFrame to store the results\n",
    "    df_col = pd.DataFrame({\n",
    "        'Condition': conditions,    # True condition of the patient\n",
    "        'TestResult': col_results  # Simulated test result\n",
    "    })\n",
    "\n",
    "    # Add columns to indicate true positives, false positives, etc.\n",
    "    df_col['TruePositive'] = (df_col['Condition'] == 1) & (df_col['TestResult'] == 1)\n",
    "    df_col['FalsePositive'] = (df_col['Condition'] == 0) & (df_col['TestResult'] == 1)\n",
    "    df_col['TrueNegative'] = (df_col['Condition'] == 0) & (df_col['TestResult'] == 0)\n",
    "    df_col['FalseNegative'] = (df_col['Condition'] == 1) & (df_col['TestResult'] == 0)\n",
    "\n",
    "    # Step 6: Calculate confusion matrix components\n",
    "    TP = df_col['TruePositive'].sum()\n",
    "    FP = df_col['FalsePositive'].sum()\n",
    "    TN = df_col['TrueNegative'].sum()\n",
    "    FN = df_col['FalseNegative'].sum()\n",
    "\n",
    "    # Create confusion matrix\n",
    "    confusion_matrix_col = pd.DataFrame({\n",
    "        'Predicted Negative': [TN, FN],\n",
    "        'Predicted Positive': [FP, TP]\n",
    "    }, index=['Actual Negative', 'Actual Positive'])\n",
    "\n",
    "    print(\"Number of CRC true positive cases detected by colonoscopy: \", TP)\n",
    "    print(\"Number of false positives by colonoscopy: \", FP)\n",
    "\n",
    "    print(f\"Total cost of screening and colonoscopy: {cost_scr*patient_data.shape[0] + cost_col*FIT_positives.shape[0]} €\")\n",
    "    print(\"Proportion of total CRC cases in the whole population detected by the method: \", TP / df_test[\"CRC\"].sum())\n",
    "    print(\"Proportion of cases in the high-risk target population detected by the method: \", TP / y.sum())\n",
    "    \n",
    "    return df_scr, confusion_matrix_scr, df_col, confusion_matrix_col"
   ]
  },
  {
   "cell_type": "markdown",
   "metadata": {},
   "source": [
    "**Old screening strategy**"
   ]
  },
  {
   "cell_type": "code",
   "execution_count": 97,
   "metadata": {},
   "outputs": [],
   "source": [
    "df_test = pd.read_csv(\"private/df_2016.csv\")\n",
    "df_test = preprocessing(df_test)\n",
    "\n",
    "df_test = df_test.rename(columns = {\"Hyperchol.\": \"Hyperchol_\"})"
   ]
  },
  {
   "cell_type": "code",
   "execution_count": 99,
   "metadata": {},
   "outputs": [
    {
     "name": "stdout",
     "output_type": "stream",
     "text": [
      "Number of patients considered:  49074\n",
      "Cost of screening: 703721.16 €\n",
      "Number of FIT positives:  1768\n",
      "Number of colonoscopies to be done:  1768\n",
      "Cost of colonoscopy program: 1768000 €\n",
      "Number of CRC true positive cases detected by colonoscopy:  70\n",
      "Number of false positives by colonoscopy:  21\n",
      "Total cost of screening and colonoscopy: 2471721.16 €\n",
      "Proportion of total CRC cases in the whole population detected by the method:  0.3211009174311927\n",
      "Proportion of cases in the high-risk target population detected by the method:  0.6542056074766355\n"
     ]
    }
   ],
   "source": [
    "sensitivity_scr = 0.75\n",
    "specificity_scr = 0.966\n",
    "cost_scr = 14.34\n",
    "\n",
    "sensitivity_col = 0.95\n",
    "specificity_col = 0.99\n",
    "cost_col = 1000\n",
    "\n",
    "# Select old adults as high-risk target population\n",
    "y = np.array(list(df_test[df_test[\"Age\"] == \"age_5_old_adult\"][\"CRC\"]*1))\n",
    "\n",
    "df_scr, confusion_matrix_scr, df_col, confusion_matrix_col = simulate_test_results(sensitivity_scr, specificity_scr, cost_scr, \n",
    "                                                                                    sensitivity_col, specificity_col, cost_col, y)"
   ]
  },
  {
   "cell_type": "markdown",
   "metadata": {},
   "source": [
    "**New screening strategy**"
   ]
  },
  {
   "cell_type": "markdown",
   "metadata": {},
   "source": [
    "Say we have 10,000 FITs and 2,000 colonoscopies. We would take the first 2,000 patients with highest utility based on our model and perform FIT on them. If positive, then proceed with a colonoscopy."
   ]
  },
  {
   "cell_type": "code",
   "execution_count": 83,
   "metadata": {},
   "outputs": [],
   "source": [
    "df_utilities_2016 = pd.read_csv(\"utilities_2016.csv\")\n",
    "df_utilities_2016_sorted = df_utilities_2016.sort_values(by = \"FIT\", ascending = False)"
   ]
  },
  {
   "cell_type": "code",
   "execution_count": 103,
   "metadata": {},
   "outputs": [
    {
     "name": "stdout",
     "output_type": "stream",
     "text": [
      "Number of patients considered:  49074\n",
      "Cost of screening: 703721.16 €\n",
      "Number of FIT positives:  1695\n",
      "Number of colonoscopies to be done:  1695\n",
      "Cost of colonoscopy program: 1695000 €\n",
      "Number of CRC true positive cases detected by colonoscopy:  77\n",
      "Number of false positives by colonoscopy:  14\n",
      "Total cost of screening and colonoscopy: 2398721.16 €\n",
      "Proportion of total CRC cases in the whole population detected by the method:  0.3532110091743119\n",
      "Proportion of cases in the high-risk target population detected by the method:  0.7064220183486238\n"
     ]
    }
   ],
   "source": [
    "sensitivity_scr = 0.75\n",
    "specificity_scr = 0.966\n",
    "cost_scr = 14.34\n",
    "\n",
    "sensitivity_col = 0.95\n",
    "specificity_col = 0.99\n",
    "cost_col = 1000\n",
    "\n",
    "# Select as high-risk target population the top 20000 patients according to utility in our model\n",
    "y = np.array(list(df_utilities_2016_sorted[\"CRC\"]*1))[:49074]\n",
    "\n",
    "df_scr, confusion_matrix_scr, df_col, confusion_matrix_col = simulate_test_results(sensitivity_scr, specificity_scr, cost_scr, sensitivity_col, specificity_col, cost_col, y)"
   ]
  }
 ],
 "metadata": {
  "kernelspec": {
   "display_name": "Python 3",
   "language": "python",
   "name": "python3"
  },
  "language_info": {
   "codemirror_mode": {
    "name": "ipython",
    "version": 3
   },
   "file_extension": ".py",
   "mimetype": "text/x-python",
   "name": "python",
   "nbconvert_exporter": "python",
   "pygments_lexer": "ipython3",
   "version": "3.11.9"
  }
 },
 "nbformat": 4,
 "nbformat_minor": 2
}
