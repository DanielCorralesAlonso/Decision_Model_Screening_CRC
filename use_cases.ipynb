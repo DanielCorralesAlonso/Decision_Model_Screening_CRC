{
 "cells": [
  {
   "cell_type": "code",
   "execution_count": 1,
   "metadata": {},
   "outputs": [
    {
     "data": {
      "text/plain": [
       "{'divide': 'ignore', 'over': 'ignore', 'under': 'ignore', 'invalid': 'ignore'}"
      ]
     },
     "execution_count": 1,
     "metadata": {},
     "output_type": "execute_result"
    }
   ],
   "source": [
    "import pysmile\n",
    "import pysmile_license\n",
    "import numpy as np\n",
    "import pandas as pd\n",
    "\n",
    "from df_plot import plot_df \n",
    "from info_value_to_net import info_value_to_net\n",
    "from get_info_values import mutual_info_measures, cond_kl_divergence\n",
    "from save_info_values import save_info_values\n",
    "\n",
    "from preprocessing import preprocessing\n",
    "\n",
    "np.seterr(divide='ignore', invalid = 'ignore')"
   ]
  },
  {
   "cell_type": "markdown",
   "metadata": {},
   "source": [
    "### Designing a national strategy"
   ]
  },
  {
   "cell_type": "markdown",
   "metadata": {},
   "source": [
    "#### Option 1: Perform FIT to the n patients with higher utility measured by the model, being n the number of people that the current screening strategy covers (that is, the number of people above the age of 54)"
   ]
  },
  {
   "cell_type": "code",
   "execution_count": 29,
   "metadata": {},
   "outputs": [
    {
     "name": "stderr",
     "output_type": "stream",
     "text": [
      "C:\\Users\\danie\\AppData\\Local\\Temp\\ipykernel_25940\\2674396849.py:52: FutureWarning: The behavior of DataFrame concatenation with empty or all-NA entries is deprecated. In a future version, this will no longer exclude empty or all-NA columns when determining the result dtypes. To retain the old behavior, exclude the relevant entries before the concat operation.\n",
      "  df_utilities_2016 = pd.concat([df_utilities_2016, row], ignore_index = True)\n"
     ]
    }
   ],
   "source": [
    "from preprocessing import preprocessing\n",
    "\n",
    "flag = True\n",
    "\n",
    "if not flag:\n",
    "    df_test = pd.read_csv(\"private/df_2016.csv\")\n",
    "    df_test = preprocessing(df_test)\n",
    "\n",
    "    df_test = df_test.rename(columns = {\"Hyperchol.\": \"Hyperchol_\"})\n",
    "\n",
    "    df_utilities_2016 = pd.read_csv(\"outputs/utilities_2016.csv\")\n",
    "\n",
    "else:\n",
    "    model_type = \"linear\"\n",
    "\n",
    "    net = pysmile.Network()\n",
    "    net.read_file(f\"decision_models/DM_screening_rel_pcmi_{model_type}.xdsl\")\n",
    "\n",
    "    df_test = pd.read_csv(\"private/df_2016.csv\")\n",
    "    df_test = preprocessing(df_test)\n",
    "\n",
    "    df_test = df_test.rename(columns = {\"Hyperchol.\": \"Hyperchol_\"})\n",
    "\n",
    "    # Just keep variables that influence the decision\n",
    "    # df_test.drop(columns = [\"Hyperchol_\", \"Hypertension\", \"Diabetes\", \"SES\", \"Anxiety\", \"Depression\"], inplace = True)\n",
    "\n",
    "    y = np.array(list(df_test[\"CRC\"]*1))\n",
    "\n",
    "    vars1 = np.array([\"No scr\", \"gFOBT\", \"FIT\", \"Blood_test\", \"sDNA\", \"CTC\", \"CC\", \"Colonoscopy\"])\n",
    "\n",
    "    df_utilities_2016 = pd.DataFrame([], columns = vars1)\n",
    "\n",
    "    for i in range(df_test.shape[0]):\n",
    "        sample = df_test.iloc[i].drop(labels = [\"CRC\"])\n",
    "        sample_dict = sample.to_dict() \n",
    "\n",
    "        net.clear_all_evidence()\n",
    "\n",
    "        for key, value in sample.items():\n",
    "            if type(value) == np.bool_:\n",
    "                net.set_evidence(key, bool(value))\n",
    "            else:\n",
    "                net.set_evidence(key, value)\n",
    "\n",
    "        net.update_beliefs()\n",
    "\n",
    "        arr = np.array(net.get_node_value(\"U\"))\n",
    "\n",
    "        U = np.concatenate((arr[::2], [arr[1]]), axis = 0)\n",
    "\n",
    "        row = pd.DataFrame(U.reshape(1,8), columns=vars1)\n",
    "        df_utilities_2016 = pd.concat([df_utilities_2016, row], ignore_index = True)\n",
    "\n",
    "    df_utilities_2016 = pd.concat( [df_utilities_2016, df_test[\"CRC\"] ] , axis = 1)\n",
    "    df_utilities_2016.to_csv(\"outputs/utilities_2016_fulldataset.csv\", index = False)\n"
   ]
  },
  {
   "cell_type": "code",
   "execution_count": 30,
   "metadata": {},
   "outputs": [
    {
     "data": {
      "text/html": [
       "<div>\n",
       "<style scoped>\n",
       "    .dataframe tbody tr th:only-of-type {\n",
       "        vertical-align: middle;\n",
       "    }\n",
       "\n",
       "    .dataframe tbody tr th {\n",
       "        vertical-align: top;\n",
       "    }\n",
       "\n",
       "    .dataframe thead th {\n",
       "        text-align: right;\n",
       "    }\n",
       "</style>\n",
       "<table border=\"1\" class=\"dataframe\">\n",
       "  <thead>\n",
       "    <tr style=\"text-align: right;\">\n",
       "      <th></th>\n",
       "      <th>Age</th>\n",
       "      <th>Sex</th>\n",
       "      <th>BMI</th>\n",
       "      <th>Alcohol</th>\n",
       "      <th>Smoking</th>\n",
       "      <th>PA</th>\n",
       "      <th>Depression</th>\n",
       "      <th>Anxiety</th>\n",
       "      <th>Diabetes</th>\n",
       "      <th>Hypertension</th>\n",
       "      <th>Hyperchol_</th>\n",
       "      <th>SD</th>\n",
       "      <th>SES</th>\n",
       "      <th>CRC</th>\n",
       "    </tr>\n",
       "  </thead>\n",
       "  <tbody>\n",
       "    <tr>\n",
       "      <th>0</th>\n",
       "      <td>age_3_young_adult</td>\n",
       "      <td>M</td>\n",
       "      <td>bmi_3_overweight</td>\n",
       "      <td>low</td>\n",
       "      <td>sm_1_not_smoker</td>\n",
       "      <td>PA_2</td>\n",
       "      <td>False</td>\n",
       "      <td>False</td>\n",
       "      <td>False</td>\n",
       "      <td>False</td>\n",
       "      <td>False</td>\n",
       "      <td>SD_2_normal</td>\n",
       "      <td>ses_1</td>\n",
       "      <td>False</td>\n",
       "    </tr>\n",
       "    <tr>\n",
       "      <th>1</th>\n",
       "      <td>age_4_adult</td>\n",
       "      <td>M</td>\n",
       "      <td>bmi_3_overweight</td>\n",
       "      <td>low</td>\n",
       "      <td>sm_2_smoker</td>\n",
       "      <td>PA_1</td>\n",
       "      <td>False</td>\n",
       "      <td>False</td>\n",
       "      <td>False</td>\n",
       "      <td>False</td>\n",
       "      <td>False</td>\n",
       "      <td>SD_2_normal</td>\n",
       "      <td>ses_1</td>\n",
       "      <td>False</td>\n",
       "    </tr>\n",
       "    <tr>\n",
       "      <th>2</th>\n",
       "      <td>age_5_old_adult</td>\n",
       "      <td>M</td>\n",
       "      <td>bmi_4_obese</td>\n",
       "      <td>low</td>\n",
       "      <td>sm_3_ex_smoker</td>\n",
       "      <td>PA_2</td>\n",
       "      <td>False</td>\n",
       "      <td>False</td>\n",
       "      <td>False</td>\n",
       "      <td>True</td>\n",
       "      <td>False</td>\n",
       "      <td>SD_2_normal</td>\n",
       "      <td>ses_1</td>\n",
       "      <td>False</td>\n",
       "    </tr>\n",
       "    <tr>\n",
       "      <th>3</th>\n",
       "      <td>age_4_adult</td>\n",
       "      <td>M</td>\n",
       "      <td>bmi_2_normal</td>\n",
       "      <td>low</td>\n",
       "      <td>sm_1_not_smoker</td>\n",
       "      <td>PA_2</td>\n",
       "      <td>False</td>\n",
       "      <td>False</td>\n",
       "      <td>False</td>\n",
       "      <td>False</td>\n",
       "      <td>False</td>\n",
       "      <td>SD_2_normal</td>\n",
       "      <td>ses_1</td>\n",
       "      <td>False</td>\n",
       "    </tr>\n",
       "    <tr>\n",
       "      <th>4</th>\n",
       "      <td>age_3_young_adult</td>\n",
       "      <td>M</td>\n",
       "      <td>bmi_3_overweight</td>\n",
       "      <td>low</td>\n",
       "      <td>sm_1_not_smoker</td>\n",
       "      <td>PA_1</td>\n",
       "      <td>False</td>\n",
       "      <td>False</td>\n",
       "      <td>False</td>\n",
       "      <td>False</td>\n",
       "      <td>False</td>\n",
       "      <td>SD_2_normal</td>\n",
       "      <td>ses_1</td>\n",
       "      <td>False</td>\n",
       "    </tr>\n",
       "    <tr>\n",
       "      <th>...</th>\n",
       "      <td>...</td>\n",
       "      <td>...</td>\n",
       "      <td>...</td>\n",
       "      <td>...</td>\n",
       "      <td>...</td>\n",
       "      <td>...</td>\n",
       "      <td>...</td>\n",
       "      <td>...</td>\n",
       "      <td>...</td>\n",
       "      <td>...</td>\n",
       "      <td>...</td>\n",
       "      <td>...</td>\n",
       "      <td>...</td>\n",
       "      <td>...</td>\n",
       "    </tr>\n",
       "    <tr>\n",
       "      <th>339702</th>\n",
       "      <td>age_4_adult</td>\n",
       "      <td>M</td>\n",
       "      <td>bmi_3_overweight</td>\n",
       "      <td>low</td>\n",
       "      <td>sm_1_not_smoker</td>\n",
       "      <td>PA_1</td>\n",
       "      <td>False</td>\n",
       "      <td>False</td>\n",
       "      <td>False</td>\n",
       "      <td>False</td>\n",
       "      <td>True</td>\n",
       "      <td>SD_2_normal</td>\n",
       "      <td>ses_1</td>\n",
       "      <td>False</td>\n",
       "    </tr>\n",
       "    <tr>\n",
       "      <th>339703</th>\n",
       "      <td>age_4_adult</td>\n",
       "      <td>M</td>\n",
       "      <td>bmi_2_normal</td>\n",
       "      <td>low</td>\n",
       "      <td>sm_1_not_smoker</td>\n",
       "      <td>PA_2</td>\n",
       "      <td>False</td>\n",
       "      <td>False</td>\n",
       "      <td>False</td>\n",
       "      <td>False</td>\n",
       "      <td>False</td>\n",
       "      <td>SD_2_normal</td>\n",
       "      <td>ses_1</td>\n",
       "      <td>False</td>\n",
       "    </tr>\n",
       "    <tr>\n",
       "      <th>339704</th>\n",
       "      <td>age_4_adult</td>\n",
       "      <td>M</td>\n",
       "      <td>bmi_2_normal</td>\n",
       "      <td>high</td>\n",
       "      <td>sm_1_not_smoker</td>\n",
       "      <td>PA_2</td>\n",
       "      <td>False</td>\n",
       "      <td>False</td>\n",
       "      <td>False</td>\n",
       "      <td>False</td>\n",
       "      <td>False</td>\n",
       "      <td>SD_2_normal</td>\n",
       "      <td>ses_1</td>\n",
       "      <td>False</td>\n",
       "    </tr>\n",
       "    <tr>\n",
       "      <th>339705</th>\n",
       "      <td>age_2_young</td>\n",
       "      <td>M</td>\n",
       "      <td>bmi_3_overweight</td>\n",
       "      <td>low</td>\n",
       "      <td>sm_1_not_smoker</td>\n",
       "      <td>PA_2</td>\n",
       "      <td>False</td>\n",
       "      <td>False</td>\n",
       "      <td>False</td>\n",
       "      <td>False</td>\n",
       "      <td>False</td>\n",
       "      <td>SD_2_normal</td>\n",
       "      <td>ses_1</td>\n",
       "      <td>False</td>\n",
       "    </tr>\n",
       "    <tr>\n",
       "      <th>339706</th>\n",
       "      <td>age_4_adult</td>\n",
       "      <td>M</td>\n",
       "      <td>bmi_3_overweight</td>\n",
       "      <td>low</td>\n",
       "      <td>sm_1_not_smoker</td>\n",
       "      <td>PA_1</td>\n",
       "      <td>False</td>\n",
       "      <td>False</td>\n",
       "      <td>False</td>\n",
       "      <td>False</td>\n",
       "      <td>True</td>\n",
       "      <td>SD_2_normal</td>\n",
       "      <td>ses_2</td>\n",
       "      <td>False</td>\n",
       "    </tr>\n",
       "  </tbody>\n",
       "</table>\n",
       "<p>339707 rows × 14 columns</p>\n",
       "</div>"
      ],
      "text/plain": [
       "                      Age Sex               BMI Alcohol          Smoking  \\\n",
       "0       age_3_young_adult   M  bmi_3_overweight     low  sm_1_not_smoker   \n",
       "1             age_4_adult   M  bmi_3_overweight     low      sm_2_smoker   \n",
       "2         age_5_old_adult   M       bmi_4_obese     low   sm_3_ex_smoker   \n",
       "3             age_4_adult   M      bmi_2_normal     low  sm_1_not_smoker   \n",
       "4       age_3_young_adult   M  bmi_3_overweight     low  sm_1_not_smoker   \n",
       "...                   ...  ..               ...     ...              ...   \n",
       "339702        age_4_adult   M  bmi_3_overweight     low  sm_1_not_smoker   \n",
       "339703        age_4_adult   M      bmi_2_normal     low  sm_1_not_smoker   \n",
       "339704        age_4_adult   M      bmi_2_normal    high  sm_1_not_smoker   \n",
       "339705        age_2_young   M  bmi_3_overweight     low  sm_1_not_smoker   \n",
       "339706        age_4_adult   M  bmi_3_overweight     low  sm_1_not_smoker   \n",
       "\n",
       "          PA  Depression  Anxiety  Diabetes  Hypertension  Hyperchol_  \\\n",
       "0       PA_2       False    False     False         False       False   \n",
       "1       PA_1       False    False     False         False       False   \n",
       "2       PA_2       False    False     False          True       False   \n",
       "3       PA_2       False    False     False         False       False   \n",
       "4       PA_1       False    False     False         False       False   \n",
       "...      ...         ...      ...       ...           ...         ...   \n",
       "339702  PA_1       False    False     False         False        True   \n",
       "339703  PA_2       False    False     False         False       False   \n",
       "339704  PA_2       False    False     False         False       False   \n",
       "339705  PA_2       False    False     False         False       False   \n",
       "339706  PA_1       False    False     False         False        True   \n",
       "\n",
       "                 SD    SES    CRC  \n",
       "0       SD_2_normal  ses_1  False  \n",
       "1       SD_2_normal  ses_1  False  \n",
       "2       SD_2_normal  ses_1  False  \n",
       "3       SD_2_normal  ses_1  False  \n",
       "4       SD_2_normal  ses_1  False  \n",
       "...             ...    ...    ...  \n",
       "339702  SD_2_normal  ses_1  False  \n",
       "339703  SD_2_normal  ses_1  False  \n",
       "339704  SD_2_normal  ses_1  False  \n",
       "339705  SD_2_normal  ses_1  False  \n",
       "339706  SD_2_normal  ses_2  False  \n",
       "\n",
       "[339707 rows x 14 columns]"
      ]
     },
     "execution_count": 30,
     "metadata": {},
     "output_type": "execute_result"
    }
   ],
   "source": [
    "df_test"
   ]
  },
  {
   "cell_type": "code",
   "execution_count": 31,
   "metadata": {},
   "outputs": [
    {
     "name": "stdout",
     "output_type": "stream",
     "text": [
      "------------------------\n",
      "Number of selected patients by current strategy is:  49074\n",
      "Number of patients with CRC by current strategy is:  107\n",
      "Percentage of total patients with CRC detected: 49.08 %\n",
      "------------------------\n",
      "Selecting the same number of patients for the new strategy, that is,  49074\n",
      "Number of patentes with CRC by new strategy is:  109\n",
      "Percentage of total patients with CRC detected: 50.0 %\n",
      "------------------------\n",
      "This is an improvement of  2 patients\n",
      "A proportional improvement of  1.87 %\n"
     ]
    }
   ],
   "source": [
    "df_selected_current_strategy = df_test[df_test[\"Age\"] == \"age_5_old_adult\"]\n",
    "tot_num_patients = df_selected_current_strategy.shape[0]   \n",
    "print(\"------------------------\")\n",
    "print(\"Number of selected patients by current strategy is: \", tot_num_patients)\n",
    "print(\"Number of patients with CRC by current strategy is: \", df_selected_current_strategy[\"CRC\"].sum())\n",
    "print(\"Percentage of total patients with CRC detected:\",  (df_selected_current_strategy[\"CRC\"].sum() / df_test[\"CRC\"].sum()).round(4) * 100, \"%\")\n",
    "\n",
    "print(\"------------------------\")\n",
    "print(\"Selecting the same number of patients for the new strategy, that is, \", df_utilities_2016.sort_values(by = \"FIT\", ascending = False)[:tot_num_patients].shape[0])\n",
    "print(\"Number of patentes with CRC by new strategy is: \", df_utilities_2016.sort_values(by = \"FIT\", ascending = False)[:tot_num_patients][\"CRC\"].sum())\n",
    "print(\"Percentage of total patients with CRC detected:\", (df_utilities_2016.sort_values(by = \"FIT\", ascending = False)[:tot_num_patients][\"CRC\"].sum() / df_test[\"CRC\"].sum()).round(4) * 100, \"%\")\n",
    "\n",
    "print(\"------------------------\")\n",
    "print(\"This is an improvement of \", df_utilities_2016.sort_values(by = \"FIT\", ascending = False)[:tot_num_patients][\"CRC\"].sum() - df_selected_current_strategy[\"CRC\"].sum(), \"patients\")\n",
    "print(\"A proportional improvement of \", ((df_utilities_2016.sort_values(by = \"FIT\", ascending = False)[:tot_num_patients][\"CRC\"].sum() - df_selected_current_strategy[\"CRC\"].sum()) / df_selected_current_strategy[\"CRC\"].sum()).round(4) * 100, \"%\")"
   ]
  },
  {
   "cell_type": "markdown",
   "metadata": {},
   "source": [
    "**Comment:** Using the full dataset with information on the medical conditions, we improve in detecting CRC as now our target population has 2 more actual CRC positive patients. This is a small improvement (around 2%) but it might mean 2 lives saved. On the contrary, using the selected variables for the decision node (that is, the ones that are simpler and supposedly do not require a GP check) does not change the number of CRC detected patients.\n",
    "\n",
    "-> **Questions:**\n",
    "- Does the target population even change at all for the second case?\n",
    "- What is the effect of adding each of the medical conditions separately?"
   ]
  },
  {
   "cell_type": "code",
   "execution_count": null,
   "metadata": {},
   "outputs": [],
   "source": []
  },
  {
   "cell_type": "markdown",
   "metadata": {},
   "source": []
  },
  {
   "cell_type": "markdown",
   "metadata": {},
   "source": [
    "#### Option 2: Apply new national strategy with N FITs and M colonoscopies available."
   ]
  },
  {
   "cell_type": "code",
   "execution_count": 4,
   "metadata": {},
   "outputs": [],
   "source": [
    "N_FIT = 2000\n",
    "M_COL = 600"
   ]
  },
  {
   "cell_type": "code",
   "execution_count": 4,
   "metadata": {},
   "outputs": [],
   "source": [
    "import numpy as np\n",
    "import pandas as pd\n",
    "\n",
    "def simulate_test_results(sensitivity_scr, specificity_scr,\n",
    "                           sensitivity_col, specificity_col, y_crc):\n",
    "    \"\"\"\n",
    "    Simulate test results based on sensitivity, specificity, and actual number of patients\n",
    "    with and without the disease.\n",
    "    \n",
    "    Parameters:\n",
    "    - sensitivity (float): Sensitivity of the test (true positive rate)\n",
    "    - specificity (float): Specificity of the test (true negative rate)\n",
    "    - num_with_disease (int): Number of patients who have the disease\n",
    "    - num_without_disease (int): Number of patients who do not have the disease\n",
    "    \n",
    "    Returns:\n",
    "    - pandas DataFrame: A DataFrame with the simulated test results, true conditions, and test outcomes.\n",
    "    \"\"\"\n",
    "    \n",
    "\n",
    "    num_with_disease = y_crc.sum()\n",
    "    num_without_disease = len(y_crc) - num_with_disease\n",
    "\n",
    "    # Step 1: Create a list of patients with and without the disease\n",
    "    \n",
    "    # Step 2: Simulate test results\n",
    "    scr_results = []\n",
    "    col_results = []\n",
    "    \n",
    "    for y in y_crc:\n",
    "        if y == 1:\n",
    "            # Patient has the disease, test is positive with probability = sensitivity\n",
    "            scr_result = np.random.choice([1, 0], p=[sensitivity_scr, 1 - sensitivity_scr])\n",
    "        else:\n",
    "            # Patient does not have the disease, test is negative with probability = specificity\n",
    "            scr_result = np.random.choice([0, 1], p=[specificity_scr, 1 - specificity_scr])\n",
    "\n",
    "        scr_results.append(scr_result)\n",
    "    \n",
    "    # Step 3: Create a DataFrame to store the results\n",
    "    df_scr = pd.DataFrame({\n",
    "        'Condition': y_crc,    # True condition of the patient\n",
    "        'TestResult': scr_results  # Simulated test result\n",
    "    })\n",
    "\n",
    "\n",
    "    # For FIT positives, perform colonoscopy:\n",
    "    FIT_positives = df_scr[df_scr[\"TestResult\"] == 1]\n",
    "\n",
    "    conditions = FIT_positives[\"Condition\"].to_list()\n",
    "\n",
    "    col_results = []\n",
    "\n",
    "    for condition in conditions:\n",
    "        if condition == 1:\n",
    "            # Patient has the disease, test is positive with probability = sensitivity\n",
    "            col_result = np.random.choice([1, 0], p=[sensitivity_col, 1 - sensitivity_col])\n",
    "        else:\n",
    "            # Patient does not have the disease, test is negative with probability = specificity\n",
    "            col_result = np.random.choice([0, 1], p=[specificity_col, 1 - specificity_col])\n",
    "\n",
    "        col_results.append(col_result)\n",
    "\n",
    "    # Step 5: Create a DataFrame to store the results\n",
    "    df_col = pd.DataFrame({\n",
    "        'Condition': conditions,    # True condition of the patient\n",
    "        'TestResult': col_results  # Simulated test result\n",
    "    })\n",
    "\n",
    "    \n",
    "    \n",
    "    return df_scr, df_col"
   ]
  },
  {
   "cell_type": "code",
   "execution_count": 5,
   "metadata": {},
   "outputs": [],
   "source": [
    "def output_test_results(df_scr, cost_scr, df_col, cost_col, verbose = False):\n",
    "\n",
    "    # Add columns to indicate true positives, false positives, etc.\n",
    "    df_scr['TruePositive'] = (df_scr['Condition'] == 1) & (df_scr['TestResult'] == 1)\n",
    "    df_scr['FalsePositive'] = (df_scr['Condition'] == 0) & (df_scr['TestResult'] == 1)\n",
    "    df_scr['TrueNegative'] = (df_scr['Condition'] == 0) & (df_scr['TestResult'] == 0)\n",
    "    df_scr['FalseNegative'] = (df_scr['Condition'] == 1) & (df_scr['TestResult'] == 0)\n",
    "    \n",
    "    # Step 4: Calculate confusion matrix components\n",
    "    TP_scr = df_scr['TruePositive'].sum()\n",
    "    FP_scr = df_scr['FalsePositive'].sum()\n",
    "    TN_scr = df_scr['TrueNegative'].sum()\n",
    "    FN_scr = df_scr['FalseNegative'].sum()\n",
    "    \n",
    "    # Create confusion matrix\n",
    "    confusion_matrix_scr = pd.DataFrame({\n",
    "        'Predicted Negative': [TN_scr, FN_scr],\n",
    "        'Predicted Positive': [FP_scr, TP_scr]\n",
    "    }, index=['Actual Negative', 'Actual Positive'])\n",
    "\n",
    "\n",
    "    FIT_positives = df_scr[df_scr[\"TestResult\"] == 1]\n",
    "    patient_data = df_scr[\"Condition\"]\n",
    "\n",
    "    if verbose:\n",
    "        print(\"Number of patients considered: \", patient_data.shape[0])\n",
    "        print(f\"Cost of screening: {cost_scr*(patient_data.shape[0])} €\")\n",
    "        print(\"Number of FIT positives: \", FIT_positives.shape[0])\n",
    "        print(\"Number of colonoscopies to be done: \", FIT_positives.shape[0])\n",
    "        print(f\"Cost of colonoscopy program: {cost_col*FIT_positives.shape[0]} €\")\n",
    "\n",
    "    \n",
    "    # Add columns to indicate true positives, false positives, etc.\n",
    "    df_col['TruePositive'] = (df_col['Condition'] == 1) & (df_col['TestResult'] == 1)\n",
    "    df_col['FalsePositive'] = (df_col['Condition'] == 0) & (df_col['TestResult'] == 1)\n",
    "    df_col['TrueNegative'] = (df_col['Condition'] == 0) & (df_col['TestResult'] == 0)\n",
    "    df_col['FalseNegative'] = (df_col['Condition'] == 1) & (df_col['TestResult'] == 0)\n",
    "\n",
    "    # Step 6: Calculate confusion matrix components\n",
    "    TP_col = df_col['TruePositive'].sum()\n",
    "    FP_col = df_col['FalsePositive'].sum()\n",
    "    TN_col = df_col['TrueNegative'].sum()\n",
    "    FN_col = df_col['FalseNegative'].sum()\n",
    "\n",
    "    # Create confusion matrix\n",
    "    confusion_matrix_col = pd.DataFrame({\n",
    "        'Predicted Negative': [TN_col, FN_col],\n",
    "        'Predicted Positive': [FP_col, TP_col]\n",
    "    }, index=['Actual Negative', 'Actual Positive'])\n",
    "\n",
    "    total_cost = cost_scr*df_scr[\"Condition\"].shape[0] + cost_col*FIT_positives.shape[0]\n",
    "\n",
    "    if verbose:\n",
    "        print(\"Number of CRC true positive cases detected by colonoscopy: \", TP_scr)\n",
    "        print(\"Number of false positives by colonoscopy: \", FP_scr)\n",
    "        print(f\"Total cost of screening and colonoscopy: {total_cost} €\")\n",
    "        print(\"Proportion of total CRC cases in the whole population detected by the method: \", TP_scr / df_test[\"CRC\"].sum())\n",
    "        print(\"Proportion of cases in the high-risk target population detected by the method: \", TP_scr / y.sum())\n",
    "\n",
    "    combined_confusion_matrix = pd.DataFrame({\n",
    "        'Predicted Negative': [TN_scr + TN_col, FN_scr + FN_col],\n",
    "        'Predicted Positive': [FP_col, TP_col]\n",
    "    }, index=['Actual Negative', 'Actual Positive'])\n",
    "\n",
    "    # Calculate sensitivity and specificity using the combined confusion matrix\n",
    "    sensitivity = TP_col / (TP_col + FN_col + FN_scr)\n",
    "    specificity = (TN_scr + TN_col) / (TN_scr +TN_col + FP_col)\n",
    "    PPV = TP_col / (TP_col + FP_col)\n",
    "    NPV = (TN_scr + TN_col) / (TN_scr + TN_col + FN_scr + FN_col)\n",
    "\n",
    "    metrics = {\n",
    "        \"sensitivity\": sensitivity,\n",
    "        \"specificity\": specificity,\n",
    "        \"PPV\": PPV,\n",
    "        \"NPV\": NPV\n",
    "    }\n",
    "    \n",
    "    return confusion_matrix_scr, confusion_matrix_col, combined_confusion_matrix, total_cost, metrics\n",
    "    "
   ]
  },
  {
   "cell_type": "markdown",
   "metadata": {},
   "source": [
    "**Old screening strategy**"
   ]
  },
  {
   "cell_type": "code",
   "execution_count": 6,
   "metadata": {},
   "outputs": [],
   "source": [
    "df_test = pd.read_csv(\"private/df_2016.csv\")\n",
    "df_test = preprocessing(df_test)\n",
    "\n",
    "df_test = df_test.rename(columns = {\"Hyperchol.\": \"Hyperchol_\"})"
   ]
  },
  {
   "cell_type": "code",
   "execution_count": 7,
   "metadata": {},
   "outputs": [],
   "source": [
    "sensitivity_scr = 0.75\n",
    "specificity_scr = 0.966\n",
    "cost_scr = 14.34\n",
    "\n",
    "sensitivity_col = 0.95\n",
    "specificity_col = 0.99\n",
    "cost_col = 1000\n",
    "\n",
    "# Select old adults as high-risk target population\n",
    "y = np.array(list(df_test[df_test[\"Age\"] == \"age_5_old_adult\"][\"CRC\"]*1))\n",
    "\n",
    "df_scr, df_col = simulate_test_results(sensitivity_scr, specificity_scr, sensitivity_col, specificity_col, y)"
   ]
  },
  {
   "cell_type": "code",
   "execution_count": 8,
   "metadata": {},
   "outputs": [
    {
     "name": "stdout",
     "output_type": "stream",
     "text": [
      "Number of patients considered:  49074\n",
      "Cost of screening: 703721.16 €\n",
      "Number of FIT positives:  1734\n",
      "Number of colonoscopies to be done:  1734\n",
      "Cost of colonoscopy program: 1734000 €\n",
      "Number of CRC true positive cases detected by colonoscopy:  75\n",
      "Number of false positives by colonoscopy:  1659\n",
      "Total cost of screening and colonoscopy: 2437721.16 €\n",
      "Proportion of total CRC cases in the whole population detected by the method:  0.3440366972477064\n",
      "Proportion of cases in the high-risk target population detected by the method:  0.7009345794392523\n"
     ]
    }
   ],
   "source": [
    "confusion_matrix_scr, confusion_matrix_col, combined_confusion_matrix, total_cost, metrics = output_test_results(df_scr, cost_scr, df_col, cost_col, verbose = True)"
   ]
  },
  {
   "cell_type": "code",
   "execution_count": 9,
   "metadata": {},
   "outputs": [
    {
     "data": {
      "text/html": [
       "<div>\n",
       "<style scoped>\n",
       "    .dataframe tbody tr th:only-of-type {\n",
       "        vertical-align: middle;\n",
       "    }\n",
       "\n",
       "    .dataframe tbody tr th {\n",
       "        vertical-align: top;\n",
       "    }\n",
       "\n",
       "    .dataframe thead th {\n",
       "        text-align: right;\n",
       "    }\n",
       "</style>\n",
       "<table border=\"1\" class=\"dataframe\">\n",
       "  <thead>\n",
       "    <tr style=\"text-align: right;\">\n",
       "      <th></th>\n",
       "      <th>Predicted Negative</th>\n",
       "      <th>Predicted Positive</th>\n",
       "    </tr>\n",
       "  </thead>\n",
       "  <tbody>\n",
       "    <tr>\n",
       "      <th>Actual Negative</th>\n",
       "      <td>47308</td>\n",
       "      <td>1659</td>\n",
       "    </tr>\n",
       "    <tr>\n",
       "      <th>Actual Positive</th>\n",
       "      <td>32</td>\n",
       "      <td>75</td>\n",
       "    </tr>\n",
       "  </tbody>\n",
       "</table>\n",
       "</div>"
      ],
      "text/plain": [
       "                 Predicted Negative  Predicted Positive\n",
       "Actual Negative               47308                1659\n",
       "Actual Positive                  32                  75"
      ]
     },
     "execution_count": 9,
     "metadata": {},
     "output_type": "execute_result"
    }
   ],
   "source": [
    "confusion_matrix_scr"
   ]
  },
  {
   "cell_type": "code",
   "execution_count": 10,
   "metadata": {},
   "outputs": [
    {
     "data": {
      "text/html": [
       "<div>\n",
       "<style scoped>\n",
       "    .dataframe tbody tr th:only-of-type {\n",
       "        vertical-align: middle;\n",
       "    }\n",
       "\n",
       "    .dataframe tbody tr th {\n",
       "        vertical-align: top;\n",
       "    }\n",
       "\n",
       "    .dataframe thead th {\n",
       "        text-align: right;\n",
       "    }\n",
       "</style>\n",
       "<table border=\"1\" class=\"dataframe\">\n",
       "  <thead>\n",
       "    <tr style=\"text-align: right;\">\n",
       "      <th></th>\n",
       "      <th>Predicted Negative</th>\n",
       "      <th>Predicted Positive</th>\n",
       "    </tr>\n",
       "  </thead>\n",
       "  <tbody>\n",
       "    <tr>\n",
       "      <th>Actual Negative</th>\n",
       "      <td>1646</td>\n",
       "      <td>13</td>\n",
       "    </tr>\n",
       "    <tr>\n",
       "      <th>Actual Positive</th>\n",
       "      <td>1</td>\n",
       "      <td>74</td>\n",
       "    </tr>\n",
       "  </tbody>\n",
       "</table>\n",
       "</div>"
      ],
      "text/plain": [
       "                 Predicted Negative  Predicted Positive\n",
       "Actual Negative                1646                  13\n",
       "Actual Positive                   1                  74"
      ]
     },
     "execution_count": 10,
     "metadata": {},
     "output_type": "execute_result"
    }
   ],
   "source": [
    "confusion_matrix_col"
   ]
  },
  {
   "cell_type": "code",
   "execution_count": 11,
   "metadata": {},
   "outputs": [
    {
     "data": {
      "text/html": [
       "<div>\n",
       "<style scoped>\n",
       "    .dataframe tbody tr th:only-of-type {\n",
       "        vertical-align: middle;\n",
       "    }\n",
       "\n",
       "    .dataframe tbody tr th {\n",
       "        vertical-align: top;\n",
       "    }\n",
       "\n",
       "    .dataframe thead th {\n",
       "        text-align: right;\n",
       "    }\n",
       "</style>\n",
       "<table border=\"1\" class=\"dataframe\">\n",
       "  <thead>\n",
       "    <tr style=\"text-align: right;\">\n",
       "      <th></th>\n",
       "      <th>Predicted Negative</th>\n",
       "      <th>Predicted Positive</th>\n",
       "    </tr>\n",
       "  </thead>\n",
       "  <tbody>\n",
       "    <tr>\n",
       "      <th>Actual Negative</th>\n",
       "      <td>48954</td>\n",
       "      <td>13</td>\n",
       "    </tr>\n",
       "    <tr>\n",
       "      <th>Actual Positive</th>\n",
       "      <td>33</td>\n",
       "      <td>74</td>\n",
       "    </tr>\n",
       "  </tbody>\n",
       "</table>\n",
       "</div>"
      ],
      "text/plain": [
       "                 Predicted Negative  Predicted Positive\n",
       "Actual Negative               48954                  13\n",
       "Actual Positive                  33                  74"
      ]
     },
     "execution_count": 11,
     "metadata": {},
     "output_type": "execute_result"
    }
   ],
   "source": [
    "combined_confusion_matrix"
   ]
  },
  {
   "cell_type": "code",
   "execution_count": 12,
   "metadata": {},
   "outputs": [
    {
     "data": {
      "text/plain": [
       "{'sensitivity': 0.6915887850467289,\n",
       " 'specificity': 0.9997345150815855,\n",
       " 'PPV': 0.8505747126436781,\n",
       " 'NPV': 0.9993263518892768}"
      ]
     },
     "execution_count": 12,
     "metadata": {},
     "output_type": "execute_result"
    }
   ],
   "source": [
    "metrics"
   ]
  },
  {
   "cell_type": "markdown",
   "metadata": {},
   "source": [
    "**New screening strategy**"
   ]
  },
  {
   "cell_type": "markdown",
   "metadata": {},
   "source": [
    "Say we have 10,000 FITs and 2,000 colonoscopies. We would take the first 2,000 patients with highest utility based on our model and perform FIT on them. If positive, then proceed with a colonoscopy."
   ]
  },
  {
   "cell_type": "code",
   "execution_count": 13,
   "metadata": {},
   "outputs": [],
   "source": [
    "df_utilities_2016 = pd.read_csv(\"utilities_2016.csv\")\n",
    "df_utilities_2016_sorted = df_utilities_2016.sort_values(by = \"FIT\", ascending = False)"
   ]
  },
  {
   "cell_type": "code",
   "execution_count": 14,
   "metadata": {},
   "outputs": [],
   "source": [
    "sensitivity_scr = 0.75\n",
    "specificity_scr = 0.966\n",
    "cost_scr = 14.34\n",
    "\n",
    "sensitivity_col = 0.95\n",
    "specificity_col = 0.99\n",
    "cost_col = 1000\n",
    "\n",
    "# Select as high-risk target population the top 20000 patients according to utility in our model\n",
    "y = np.array(list(df_utilities_2016_sorted[\"CRC\"]*1))[:49074]\n",
    "\n",
    "df_scr,  df_col = simulate_test_results(sensitivity_scr, specificity_scr, sensitivity_col, specificity_col, y)"
   ]
  },
  {
   "cell_type": "code",
   "execution_count": 15,
   "metadata": {},
   "outputs": [
    {
     "name": "stdout",
     "output_type": "stream",
     "text": [
      "Number of patients considered:  49074\n",
      "Cost of screening: 703721.16 €\n",
      "Number of FIT positives:  1667\n",
      "Number of colonoscopies to be done:  1667\n",
      "Cost of colonoscopy program: 1667000 €\n",
      "Number of CRC true positive cases detected by colonoscopy:  83\n",
      "Number of false positives by colonoscopy:  1584\n",
      "Total cost of screening and colonoscopy: 2370721.16 €\n",
      "Proportion of total CRC cases in the whole population detected by the method:  0.38073394495412843\n",
      "Proportion of cases in the high-risk target population detected by the method:  0.7614678899082569\n"
     ]
    }
   ],
   "source": [
    "confusion_matrix_scr, confusion_matrix_col, combined_confusion_matrix, total_cost, metrics = output_test_results(df_scr, cost_scr, df_col, cost_col, verbose = True)"
   ]
  },
  {
   "cell_type": "code",
   "execution_count": 16,
   "metadata": {},
   "outputs": [
    {
     "data": {
      "text/html": [
       "<div>\n",
       "<style scoped>\n",
       "    .dataframe tbody tr th:only-of-type {\n",
       "        vertical-align: middle;\n",
       "    }\n",
       "\n",
       "    .dataframe tbody tr th {\n",
       "        vertical-align: top;\n",
       "    }\n",
       "\n",
       "    .dataframe thead th {\n",
       "        text-align: right;\n",
       "    }\n",
       "</style>\n",
       "<table border=\"1\" class=\"dataframe\">\n",
       "  <thead>\n",
       "    <tr style=\"text-align: right;\">\n",
       "      <th></th>\n",
       "      <th>Predicted Negative</th>\n",
       "      <th>Predicted Positive</th>\n",
       "    </tr>\n",
       "  </thead>\n",
       "  <tbody>\n",
       "    <tr>\n",
       "      <th>Actual Negative</th>\n",
       "      <td>47381</td>\n",
       "      <td>1584</td>\n",
       "    </tr>\n",
       "    <tr>\n",
       "      <th>Actual Positive</th>\n",
       "      <td>26</td>\n",
       "      <td>83</td>\n",
       "    </tr>\n",
       "  </tbody>\n",
       "</table>\n",
       "</div>"
      ],
      "text/plain": [
       "                 Predicted Negative  Predicted Positive\n",
       "Actual Negative               47381                1584\n",
       "Actual Positive                  26                  83"
      ]
     },
     "execution_count": 16,
     "metadata": {},
     "output_type": "execute_result"
    }
   ],
   "source": [
    "confusion_matrix_scr"
   ]
  },
  {
   "cell_type": "code",
   "execution_count": 17,
   "metadata": {},
   "outputs": [
    {
     "data": {
      "text/html": [
       "<div>\n",
       "<style scoped>\n",
       "    .dataframe tbody tr th:only-of-type {\n",
       "        vertical-align: middle;\n",
       "    }\n",
       "\n",
       "    .dataframe tbody tr th {\n",
       "        vertical-align: top;\n",
       "    }\n",
       "\n",
       "    .dataframe thead th {\n",
       "        text-align: right;\n",
       "    }\n",
       "</style>\n",
       "<table border=\"1\" class=\"dataframe\">\n",
       "  <thead>\n",
       "    <tr style=\"text-align: right;\">\n",
       "      <th></th>\n",
       "      <th>Predicted Negative</th>\n",
       "      <th>Predicted Positive</th>\n",
       "    </tr>\n",
       "  </thead>\n",
       "  <tbody>\n",
       "    <tr>\n",
       "      <th>Actual Negative</th>\n",
       "      <td>1573</td>\n",
       "      <td>11</td>\n",
       "    </tr>\n",
       "    <tr>\n",
       "      <th>Actual Positive</th>\n",
       "      <td>3</td>\n",
       "      <td>80</td>\n",
       "    </tr>\n",
       "  </tbody>\n",
       "</table>\n",
       "</div>"
      ],
      "text/plain": [
       "                 Predicted Negative  Predicted Positive\n",
       "Actual Negative                1573                  11\n",
       "Actual Positive                   3                  80"
      ]
     },
     "execution_count": 17,
     "metadata": {},
     "output_type": "execute_result"
    }
   ],
   "source": [
    "confusion_matrix_col"
   ]
  },
  {
   "cell_type": "code",
   "execution_count": 18,
   "metadata": {},
   "outputs": [
    {
     "data": {
      "text/html": [
       "<div>\n",
       "<style scoped>\n",
       "    .dataframe tbody tr th:only-of-type {\n",
       "        vertical-align: middle;\n",
       "    }\n",
       "\n",
       "    .dataframe tbody tr th {\n",
       "        vertical-align: top;\n",
       "    }\n",
       "\n",
       "    .dataframe thead th {\n",
       "        text-align: right;\n",
       "    }\n",
       "</style>\n",
       "<table border=\"1\" class=\"dataframe\">\n",
       "  <thead>\n",
       "    <tr style=\"text-align: right;\">\n",
       "      <th></th>\n",
       "      <th>Predicted Negative</th>\n",
       "      <th>Predicted Positive</th>\n",
       "    </tr>\n",
       "  </thead>\n",
       "  <tbody>\n",
       "    <tr>\n",
       "      <th>Actual Negative</th>\n",
       "      <td>48954</td>\n",
       "      <td>11</td>\n",
       "    </tr>\n",
       "    <tr>\n",
       "      <th>Actual Positive</th>\n",
       "      <td>29</td>\n",
       "      <td>80</td>\n",
       "    </tr>\n",
       "  </tbody>\n",
       "</table>\n",
       "</div>"
      ],
      "text/plain": [
       "                 Predicted Negative  Predicted Positive\n",
       "Actual Negative               48954                  11\n",
       "Actual Positive                  29                  80"
      ]
     },
     "execution_count": 18,
     "metadata": {},
     "output_type": "execute_result"
    }
   ],
   "source": [
    "combined_confusion_matrix"
   ]
  },
  {
   "cell_type": "code",
   "execution_count": 19,
   "metadata": {},
   "outputs": [
    {
     "data": {
      "text/plain": [
       "{'sensitivity': 0.7339449541284404,\n",
       " 'specificity': 0.9997753497396099,\n",
       " 'PPV': 0.8791208791208791,\n",
       " 'NPV': 0.999407957862932}"
      ]
     },
     "execution_count": 19,
     "metadata": {},
     "output_type": "execute_result"
    }
   ],
   "source": [
    "metrics"
   ]
  },
  {
   "cell_type": "markdown",
   "metadata": {},
   "source": [
    "### Simulation"
   ]
  },
  {
   "cell_type": "code",
   "execution_count": 21,
   "metadata": {},
   "outputs": [
    {
     "name": "stdout",
     "output_type": "stream",
     "text": [
      "Sample 20 done\n",
      "Sample 40 done\n",
      "Sample 60 done\n",
      "Sample 80 done\n",
      "Sample 100 done\n",
      "Sample 120 done\n",
      "Sample 140 done\n",
      "Sample 160 done\n",
      "Sample 180 done\n",
      "Sample 200 done\n",
      "Average metrics for old strategy:  [0.71070093 0.99965834 0.82071877 0.99936803]\n",
      "Std for estimates:  [4.55582075e-02 8.34731953e-05 3.77652862e-02 9.94610607e-05]\n",
      "Average cost of old strategy:  2447711.16000001\n",
      "Average metrics for new strategy:  [0.70779817 0.99965782 0.82264662 0.99934975] (+/- [4.23983260e-02 8.01576064e-05 3.50670101e-02 9.42864195e-05] )\n",
      "Std for estimates:  [4.23983260e-02 8.01576064e-05 3.50670101e-02 9.42864195e-05]\n",
      "Average cost of new strategy:  2448911.16000001\n"
     ]
    }
   ],
   "source": [
    "n_samples = 200\n",
    "\n",
    "sensitivity_scr = 0.75\n",
    "specificity_scr = 0.966\n",
    "cost_scr = 14.34\n",
    "\n",
    "sensitivity_col = 0.95\n",
    "specificity_col = 0.99\n",
    "cost_col = 1000\n",
    "\n",
    "total_cost_old_strat = 0\n",
    "total_cost_new_strat = 0  \n",
    "\n",
    "metrics_tot_old = np.array([0.0,0.0,0.0,0.0])\n",
    "metrics_tot_new = np.array([0.0,0.0,0.0,0.0])\n",
    "\n",
    "# Old strategy\n",
    "# Select old adults as high-risk target population\n",
    "y_old = np.array(list(df_test[df_test[\"Age\"] == \"age_5_old_adult\"][\"CRC\"]*1))\n",
    "patients_selected = y_old.shape[0]\n",
    "\n",
    "# New strategy\n",
    "# Select as high-risk target population the top --- patients according to utility in our model\n",
    "y_new = np.array(list(df_utilities_2016_sorted[\"CRC\"]*1))[:patients_selected]\n",
    "\n",
    "for i in range(n_samples):\n",
    "\n",
    "    # -----\n",
    "    df_scr,  df_col = simulate_test_results(sensitivity_scr, specificity_scr, sensitivity_col, specificity_col, y_old)\n",
    "    confusion_matrix_scr, confusion_matrix_col, combined_confusion_matrix, total_cost, metrics = output_test_results(df_scr, cost_scr, df_col, cost_col, verbose = False)\n",
    "\n",
    "    if i == 0:\n",
    "        metrics_tot_old = np.array([*metrics.values()])\n",
    "    else:\n",
    "        metrics_tot_old = np.concatenate((metrics_tot_old, np.array([*metrics.values()])), axis = 0)\n",
    "\n",
    "    total_cost_old = cost_scr*df_scr.shape[0] + cost_col*df_col.shape[0]\n",
    "    total_cost_old_strat += total_cost_old\n",
    "\n",
    "\n",
    "    # -----\n",
    "    df_scr,  df_col = simulate_test_results(sensitivity_scr, specificity_scr, sensitivity_col, specificity_col, y_new)\n",
    "    confusion_matrix_scr, confusion_matrix_col, combined_confusion_matrix, total_cost, metrics = output_test_results(df_scr, cost_scr, df_col, cost_col, verbose = False)\n",
    "\n",
    "    if i == 0:\n",
    "        metrics_tot_new = np.array([*metrics.values()])\n",
    "    else:\n",
    "        metrics_tot_new = np.concatenate((metrics_tot_new, np.array([*metrics.values()])), axis = 0)\n",
    "\n",
    "    total_cost_new = total_cost = cost_scr*df_scr.shape[0] + cost_col*df_col.shape[0]\n",
    "    total_cost_new_strat += total_cost_new\n",
    "\n",
    "    if (i+1) % 20 == 0:\n",
    "        print(f\"Sample {i+1} done\")\n",
    "\n",
    "\n",
    "metrics_tot_old = metrics_tot_old.reshape(n_samples, 4)\n",
    "metrics_tot_new = metrics_tot_new.reshape(n_samples, 4)\n",
    "\n",
    "print(\"Average metrics for old strategy: \", metrics_tot_old.mean(axis=0))\n",
    "print(\"Std for estimates: \" , metrics_tot_old.std(axis=0))\n",
    "print(\"Average cost of old strategy: \", total_cost_old_strat / n_samples)\n",
    "\n",
    "print(\"Average metrics for new strategy: \", metrics_tot_new.mean(axis=0), \"(+/-\" , metrics_tot_new.std(axis=0), \")\")\n",
    "print(\"Std for estimates: \" , metrics_tot_new.std(axis=0))\n",
    "print(\"Average cost of new strategy: \", total_cost_new_strat / n_samples)"
   ]
  },
  {
   "cell_type": "code",
   "execution_count": 30,
   "metadata": {},
   "outputs": [
    {
     "data": {
      "text/plain": [
       "array([[357.39252336, 499.82835379, 410.30531622, 499.68847327],\n",
       "       [  0.65137615,   0.99965281,   0.80681818,   0.99922427],\n",
       "       [  0.65137615,   0.99965281,   0.80681818,   0.99922427],\n",
       "       [  0.65137615,   0.99965281,   0.80681818,   0.99922427],\n",
       "       [  0.65137615,   0.99965281,   0.80681818,   0.99922427],\n",
       "       [  0.65137615,   0.99965281,   0.80681818,   0.99922427],\n",
       "       [  0.65137615,   0.99965281,   0.80681818,   0.99922427]])"
      ]
     },
     "execution_count": 30,
     "metadata": {},
     "output_type": "execute_result"
    }
   ],
   "source": [
    "metrics_tot_old = np.concatenate((metrics_tot_old, np.array([*metrics.values()])), axis = 0)\n",
    "metrics_tot_old.reshape(7,4)"
   ]
  },
  {
   "cell_type": "code",
   "execution_count": 34,
   "metadata": {},
   "outputs": [
    {
     "data": {
      "text/plain": [
       "array([51.61439718, 72.26089581, 59.30660362, 72.24054555])"
      ]
     },
     "execution_count": 34,
     "metadata": {},
     "output_type": "execute_result"
    }
   ],
   "source": [
    "metrics_tot_old.reshape(7,4).mean(axis = 0)"
   ]
  },
  {
   "cell_type": "code",
   "execution_count": 123,
   "metadata": {},
   "outputs": [],
   "source": [
    "n_samples = 100\n",
    "\n",
    "sensitivity_scr = 0.75\n",
    "specificity_scr = 0.966\n",
    "cost_scr = 14.34\n",
    "\n",
    "sensitivity_col = 0.95\n",
    "specificity_col = 0.99\n",
    "cost_col = 1000\n",
    "\n",
    "total_cost_old_strat = 0\n",
    "total_cost_new_strat = 0  \n",
    "\n",
    "metrics_tot_old = np.array([0.0,0.0,0.0,0.0])\n",
    "metrics_tot_new = np.array([0.0,0.0,0.0,0.0])\n",
    "\n",
    "\n",
    "def run_iteration(i, df_test, df_utilities_2016_sorted, sensitivity_scr, specificity_scr, sensitivity_col, specificity_col, cost_scr, cost_col):\n",
    "\n",
    "    # Old strategy\n",
    "    # Select old adults as high-risk target population\n",
    "    y = np.array(list(df_test[df_test[\"Age\"] == \"age_5_old_adult\"][\"CRC\"]*1))\n",
    "    patients_selected = y.shape[0]\n",
    "\n",
    "    df_scr,  df_col = simulate_test_results(sensitivity_scr, specificity_scr, sensitivity_col, specificity_col, y)\n",
    "    confusion_matrix_scr, confusion_matrix_col, combined_confusion_matrix, total_cost, metrics_old = output_test_results(df_scr, cost_scr, df_col, cost_col, verbose = False)\n",
    "\n",
    "    total_cost_old_value = cost_scr*df_scr.shape[0] + cost_col*df_col.shape[0]\n",
    "\n",
    "\n",
    "    # New strategy\n",
    "    # Select as high-risk target population the top --- patients according to utility in our model\n",
    "    y = np.array(list(df_utilities_2016_sorted[\"CRC\"]*1))[:patients_selected]\n",
    "\n",
    "    df_scr,  df_col = simulate_test_results(sensitivity_scr, specificity_scr, sensitivity_col, specificity_col, y)\n",
    "    confusion_matrix_scr, confusion_matrix_col, combined_confusion_matrix, total_cost, metrics_new = output_test_results(df_scr, cost_scr, df_col, cost_col, verbose = False)\n",
    "\n",
    "    metrics_tot_new += np.array([*metrics.values()])\n",
    "\n",
    "    total_cost_new_value = total_cost = cost_scr*df_scr.shape[0] + cost_col*df_col.shape[0]\n",
    "\n",
    "\n",
    "    return {\n",
    "        \"metrics_old\": metrics_old,\n",
    "        \"total_cost_old\": total_cost_old_value,\n",
    "        \"metrics_new\": metrics_new,\n",
    "        \"total_cost_new\": total_cost_new_value\n",
    "    }\n",
    "\n"
   ]
  },
  {
   "cell_type": "code",
   "execution_count": 124,
   "metadata": {},
   "outputs": [],
   "source": [
    "import numpy as np\n",
    "import pandas as pd\n",
    "from concurrent.futures import ProcessPoolExecutor, as_completed\n",
    "\n",
    "# Parameters\n",
    "n_samples = 100  # Define your number of samples here\n",
    "metrics_tot_old = np.zeros(4)  # Adjust based on your metrics' size\n",
    "metrics_tot_new = np.zeros(4)  # Adjust based on your metrics' size\n",
    "total_cost_old_strat = 0\n",
    "total_cost_new_strat = 0\n",
    "\n",
    "# Create a process pool\n",
    "with ProcessPoolExecutor() as executor:\n",
    "    # Submit all iterations\n",
    "    futures = {executor.submit(run_iteration, i, df_test, df_utilities_2016_sorted, sensitivity_scr, specificity_scr, sensitivity_col, specificity_col, cost_scr, cost_col): i for i in range(n_samples)}\n",
    "\n",
    "    for future in as_completed(futures):\n",
    "        result = future.result()\n",
    "        metrics_tot_old += np.array([*result[\"metrics_old\"].values()])\n",
    "        total_cost_old_strat += result[\"total_cost_old\"]\n",
    "        \n",
    "        metrics_tot_new += np.array([*result[\"metrics_new\"].values()])\n",
    "        total_cost_new_strat += result[\"total_cost_new\"]\n",
    "        \n",
    "        sample_index = futures[future]\n",
    "        if (sample_index + 1) % 20 == 0:\n",
    "            print(f\"Sample {sample_index} done\")\n",
    "\n",
    "# Final results\n",
    "print(\"Average metrics for old strategy: \", metrics_tot_old / n_samples)\n",
    "print(\"Average cost of old strategy: \", total_cost_old_strat / n_samples)\n",
    "\n",
    "print(\"Average metrics for new strategy: \", metrics_tot_new / n_samples)\n",
    "print(\"Average cost of new strategy: \", total_cost_new_strat / n_samples)"
   ]
  }
 ],
 "metadata": {
  "kernelspec": {
   "display_name": "Python 3",
   "language": "python",
   "name": "python3"
  },
  "language_info": {
   "codemirror_mode": {
    "name": "ipython",
    "version": 3
   },
   "file_extension": ".py",
   "mimetype": "text/x-python",
   "name": "python",
   "nbconvert_exporter": "python",
   "pygments_lexer": "ipython3",
   "version": "3.11.9"
  }
 },
 "nbformat": 4,
 "nbformat_minor": 2
}
