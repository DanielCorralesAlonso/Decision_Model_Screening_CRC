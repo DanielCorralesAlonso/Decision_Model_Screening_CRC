{
 "cells": [
  {
   "cell_type": "code",
   "execution_count": 10,
   "metadata": {},
   "outputs": [
    {
     "data": {
      "text/plain": [
       "{'divide': 'ignore', 'over': 'warn', 'under': 'ignore', 'invalid': 'ignore'}"
      ]
     },
     "execution_count": 10,
     "metadata": {},
     "output_type": "execute_result"
    }
   ],
   "source": [
    "import pysmile\n",
    "import pysmile_license\n",
    "import numpy as np\n",
    "import pandas as pd\n",
    "\n",
    "from df_plot import plot_df \n",
    "np.seterr(divide='ignore', invalid = 'ignore')"
   ]
  },
  {
   "cell_type": "markdown",
   "metadata": {},
   "source": [
    "## Using information-related metrics as value functions for a medical test:\n",
    "Let $X, T, Y$ be random variables describing the results of screening, the results of the colonoscopy and the presence of CRC, respectively; and Z and C decision variables representing the first decision of screening and the decision of colonoscopy. A value function that we could use would be $$V(X,T,Y | Z=z, C=c) = I(X,Y | Z = z) + I(T,Y | C = c)$$ which measures the mutual information of $X$ and $Y$ and the correspondent to $T$ and $Y$. This quantity represents the amount of uncertainty of $Y$ that could be explained by the other variable. \n",
    "\n",
    "Check if adding this quantities is correct or if I have to reformulate the value function. "
   ]
  },
  {
   "cell_type": "markdown",
   "metadata": {},
   "source": [
    "### **Conditional Mutual Information** "
   ]
  },
  {
   "cell_type": "markdown",
   "metadata": {},
   "source": [
    "$$ \\begin{align*} I(X,Y|Z=z) &= H(X|Z=z) - H(X|Y, Z=z) = \\\\ \n",
    "& = -\\sum_{x} p(x|z) \\log{p(x|z)} + \\sum_{y} p(y|z) \\sum_{x} p(x|y,z) \\log{p(x|y,z)} = \\\\\n",
    "& = \\left( \\sum_x \\sum_y \\left( p(y|z) p(x| y,z) \\log{ \\frac{p(x |y,z)}{\\sum_y p(y|z) p(x| y,z)}} \\right) \\right) = \\\\\n",
    "& = \\sum_x \\sum_y \\left( p(y) p(x| y,z) \\log{ \\frac{p(x |y,z)}{\\sum_y p(y) p(x| y,z)}} \\right) \n",
    "\\end{align*}$$"
   ]
  },
  {
   "cell_type": "code",
   "execution_count": 11,
   "metadata": {},
   "outputs": [],
   "source": [
    "# Read the network\n",
    "net = pysmile.Network()\n",
    "net.read_file(\"genie_models/Basic_ID_screening_06032024.xdsl\")\n",
    "\n",
    "net.set_evidence(\"CRC\", False)\n",
    "p_CRC_false = net.prob_evidence()\n",
    "\n",
    "net.set_evidence(\"CRC\", True)\n",
    "p_CRC_true = net.prob_evidence()"
   ]
  },
  {
   "cell_type": "markdown",
   "metadata": {},
   "source": [
    "#### **- Screening:**"
   ]
  },
  {
   "cell_type": "code",
   "execution_count": 12,
   "metadata": {},
   "outputs": [
    {
     "name": "stdout",
     "output_type": "stream",
     "text": [
      "H_y:  0.005921053223493746\n"
     ]
    }
   ],
   "source": [
    "# Get the entropy of the target variable\n",
    "p_y = np.array([p_CRC_false, p_CRC_true])\n",
    "H_y = np.sum(p_y * np.log(1 / p_y) )\n",
    "print(\"H_y: \", H_y)"
   ]
  },
  {
   "cell_type": "code",
   "execution_count": 13,
   "metadata": {},
   "outputs": [
    {
     "name": "stdout",
     "output_type": "stream",
     "text": [
      "Conditional Mutual Information for Screening:\n"
     ]
    },
    {
     "data": {
      "text/html": [
       "<div>\n",
       "<style scoped>\n",
       "    .dataframe tbody tr th:only-of-type {\n",
       "        vertical-align: middle;\n",
       "    }\n",
       "\n",
       "    .dataframe tbody tr th {\n",
       "        vertical-align: top;\n",
       "    }\n",
       "\n",
       "    .dataframe thead tr th {\n",
       "        text-align: left;\n",
       "    }\n",
       "</style>\n",
       "<table border=\"1\" class=\"dataframe\">\n",
       "  <thead>\n",
       "    <tr>\n",
       "      <th>CRC</th>\n",
       "      <th colspan=\"7\" halign=\"left\">False</th>\n",
       "      <th colspan=\"7\" halign=\"left\">True</th>\n",
       "    </tr>\n",
       "    <tr>\n",
       "      <th>Screening</th>\n",
       "      <th>No_screening</th>\n",
       "      <th>gFOBT</th>\n",
       "      <th>FIT</th>\n",
       "      <th>Blood_based</th>\n",
       "      <th>Stool_DNA</th>\n",
       "      <th>CTC</th>\n",
       "      <th>Colon_capsule</th>\n",
       "      <th>No_screening</th>\n",
       "      <th>gFOBT</th>\n",
       "      <th>FIT</th>\n",
       "      <th>Blood_based</th>\n",
       "      <th>Stool_DNA</th>\n",
       "      <th>CTC</th>\n",
       "      <th>Colon_capsule</th>\n",
       "    </tr>\n",
       "  </thead>\n",
       "  <tbody>\n",
       "    <tr>\n",
       "      <th>No_pred_screening</th>\n",
       "      <td>3.625619e-10</td>\n",
       "      <td>0.000000</td>\n",
       "      <td>0.000000</td>\n",
       "      <td>0.000000</td>\n",
       "      <td>0.000000</td>\n",
       "      <td>0.000000</td>\n",
       "      <td>0.000000</td>\n",
       "      <td>2.607914e-13</td>\n",
       "      <td>0.000000</td>\n",
       "      <td>0.000000</td>\n",
       "      <td>0.000000</td>\n",
       "      <td>0.000000</td>\n",
       "      <td>0.000000</td>\n",
       "      <td>0.000000</td>\n",
       "    </tr>\n",
       "    <tr>\n",
       "      <th>Predicted_False</th>\n",
       "      <td>0.000000e+00</td>\n",
       "      <td>0.000307</td>\n",
       "      <td>0.000514</td>\n",
       "      <td>0.000410</td>\n",
       "      <td>0.000567</td>\n",
       "      <td>0.000496</td>\n",
       "      <td>0.000568</td>\n",
       "      <td>0.000000e+00</td>\n",
       "      <td>-0.000227</td>\n",
       "      <td>-0.000243</td>\n",
       "      <td>-0.000240</td>\n",
       "      <td>-0.000134</td>\n",
       "      <td>-0.000215</td>\n",
       "      <td>-0.000183</td>\n",
       "    </tr>\n",
       "    <tr>\n",
       "      <th>Predicted_True</th>\n",
       "      <td>0.000000e+00</td>\n",
       "      <td>-0.000305</td>\n",
       "      <td>-0.000510</td>\n",
       "      <td>-0.000408</td>\n",
       "      <td>-0.000566</td>\n",
       "      <td>-0.000494</td>\n",
       "      <td>-0.000565</td>\n",
       "      <td>0.000000e+00</td>\n",
       "      <td>0.000972</td>\n",
       "      <td>0.001660</td>\n",
       "      <td>0.000943</td>\n",
       "      <td>0.001277</td>\n",
       "      <td>0.001138</td>\n",
       "      <td>0.001488</td>\n",
       "    </tr>\n",
       "  </tbody>\n",
       "</table>\n",
       "</div>"
      ],
      "text/plain": [
       "CRC                       False                                            \\\n",
       "Screening          No_screening     gFOBT       FIT Blood_based Stool_DNA   \n",
       "No_pred_screening  3.625619e-10  0.000000  0.000000    0.000000  0.000000   \n",
       "Predicted_False    0.000000e+00  0.000307  0.000514    0.000410  0.000567   \n",
       "Predicted_True     0.000000e+00 -0.000305 -0.000510   -0.000408 -0.000566   \n",
       "\n",
       "CRC                                                True                      \\\n",
       "Screening               CTC Colon_capsule  No_screening     gFOBT       FIT   \n",
       "No_pred_screening  0.000000      0.000000  2.607914e-13  0.000000  0.000000   \n",
       "Predicted_False    0.000496      0.000568  0.000000e+00 -0.000227 -0.000243   \n",
       "Predicted_True    -0.000494     -0.000565  0.000000e+00  0.000972  0.001660   \n",
       "\n",
       "CRC                                                              \n",
       "Screening         Blood_based Stool_DNA       CTC Colon_capsule  \n",
       "No_pred_screening    0.000000  0.000000  0.000000      0.000000  \n",
       "Predicted_False     -0.000240 -0.000134 -0.000215     -0.000183  \n",
       "Predicted_True       0.000943  0.001277  0.001138      0.001488  "
      ]
     },
     "execution_count": 13,
     "metadata": {},
     "output_type": "execute_result"
    }
   ],
   "source": [
    "# Get the entropy of the target variable given the evidence\n",
    "p_x_yz = np.array(net.get_node_definition(\"Results_of_Screening\")).reshape(2,7,3)\n",
    "\n",
    "p_y = np.array([p_CRC_false, p_CRC_true])\n",
    "p_y = np.repeat(p_y, 21).reshape(2,7,3)\n",
    "\n",
    "p_x_z = p_y * p_x_yz\n",
    "p_x_z = np.sum(p_x_z, axis = 0)\n",
    "p_x_z = np.tile(p_x_z, (2,1)).reshape((2,7,3))\n",
    "\n",
    "p_x_yz.reshape((2,7,3))\n",
    "\n",
    "# Calculate the conditional entropy\n",
    "cond_mut_info_scr = (p_y * ( p_x_yz * np.log( p_x_yz.reshape((2,7,3)) / p_x_z ) ).reshape(2,7,3))\n",
    "cond_mut_info_scr = np.nan_to_num(cond_mut_info_scr, 0)\n",
    "\n",
    "# Save the conditional mutual information for screening\n",
    "pd.DataFrame(cond_mut_info_scr.flatten()).transpose().to_csv(\"value_of_info_csv/cond_mut_info_scr.csv\")\n",
    "\n",
    "print(\"Conditional Mutual Information for Screening:\")\n",
    "df_plotted = plot_df(cond_mut_info_scr, net, [\"Results_of_Screening\", \"CRC\", \"Screening\"])\n",
    "df_plotted"
   ]
  },
  {
   "cell_type": "markdown",
   "metadata": {},
   "source": [
    "#### **- Colonoscopy:**"
   ]
  },
  {
   "cell_type": "code",
   "execution_count": 14,
   "metadata": {},
   "outputs": [
    {
     "name": "stdout",
     "output_type": "stream",
     "text": [
      "Conditional Mutual Information for Colonoscopy:\n"
     ]
    },
    {
     "data": {
      "text/html": [
       "<div>\n",
       "<style scoped>\n",
       "    .dataframe tbody tr th:only-of-type {\n",
       "        vertical-align: middle;\n",
       "    }\n",
       "\n",
       "    .dataframe tbody tr th {\n",
       "        vertical-align: top;\n",
       "    }\n",
       "\n",
       "    .dataframe thead tr th {\n",
       "        text-align: left;\n",
       "    }\n",
       "</style>\n",
       "<table border=\"1\" class=\"dataframe\">\n",
       "  <thead>\n",
       "    <tr>\n",
       "      <th>CRC</th>\n",
       "      <th colspan=\"2\" halign=\"left\">False</th>\n",
       "      <th colspan=\"2\" halign=\"left\">True</th>\n",
       "    </tr>\n",
       "    <tr>\n",
       "      <th>Colonoscopy</th>\n",
       "      <th>No_Colonoscopy</th>\n",
       "      <th>Colonoscopy</th>\n",
       "      <th>No_Colonoscopy</th>\n",
       "      <th>Colonoscopy</th>\n",
       "    </tr>\n",
       "  </thead>\n",
       "  <tbody>\n",
       "    <tr>\n",
       "      <th>no_pred</th>\n",
       "      <td>3.625619e-10</td>\n",
       "      <td>0.000000</td>\n",
       "      <td>2.607914e-13</td>\n",
       "      <td>0.000000</td>\n",
       "    </tr>\n",
       "    <tr>\n",
       "      <th>colon_pred_false</th>\n",
       "      <td>0.000000e+00</td>\n",
       "      <td>0.000690</td>\n",
       "      <td>0.000000e+00</td>\n",
       "      <td>-0.000075</td>\n",
       "    </tr>\n",
       "    <tr>\n",
       "      <th>colon_pred_true</th>\n",
       "      <td>0.000000e+00</td>\n",
       "      <td>-0.000667</td>\n",
       "      <td>0.000000e+00</td>\n",
       "      <td>0.003143</td>\n",
       "    </tr>\n",
       "  </tbody>\n",
       "</table>\n",
       "</div>"
      ],
      "text/plain": [
       "CRC                       False                       True            \n",
       "Colonoscopy      No_Colonoscopy Colonoscopy No_Colonoscopy Colonoscopy\n",
       "no_pred            3.625619e-10    0.000000   2.607914e-13    0.000000\n",
       "colon_pred_false   0.000000e+00    0.000690   0.000000e+00   -0.000075\n",
       "colon_pred_true    0.000000e+00   -0.000667   0.000000e+00    0.003143"
      ]
     },
     "execution_count": 14,
     "metadata": {},
     "output_type": "execute_result"
    }
   ],
   "source": [
    "# Get the entropy of the target variable given the evidence\n",
    "p_t_yc = np.array(net.get_node_definition(\"Results_of_Colonoscopy\")).reshape(2,2,3)\n",
    "p_t_yc = np.swapaxes(p_t_yc,0,1)\n",
    "\n",
    "p_y = np.array([p_CRC_false, p_CRC_true])\n",
    "p_y = np.repeat(p_y, 6).reshape(2,2,3)\n",
    "\n",
    "p_t_c = p_y * p_t_yc\n",
    "p_t_c = np.sum(p_t_c, axis = 0)\n",
    "p_t_c = np.tile(p_t_c, (2,1)).reshape((2,2,3))\n",
    "\n",
    "p_t_yc.reshape((2,2,3))\n",
    "\n",
    "cond_mut_info_col = (p_y * (p_t_yc * np.log( p_t_yc.reshape((2,2,3)) / p_t_c ) ).reshape(2,2,3))\n",
    "cond_mut_info_col = np.nan_to_num(cond_mut_info_col, 0)\n",
    "# cond_mut_info_col = np.swapaxes(cond_mut_info_col,0,1)\n",
    "\n",
    "pd.DataFrame((cond_mut_info_col).flatten()).transpose().to_csv(\"value_of_info_csv/cond_mut_info_col.csv\")\n",
    "\n",
    "print(\"Conditional Mutual Information for Colonoscopy:\")\n",
    "df_plotted = plot_df(cond_mut_info_col, net, [\"Results_of_Colonoscopy\", \"CRC\", \"Colonoscopy\"])\n",
    "df_plotted"
   ]
  },
  {
   "cell_type": "markdown",
   "metadata": {},
   "source": [
    "### **Pointwise conditional mutual information**"
   ]
  },
  {
   "cell_type": "markdown",
   "metadata": {},
   "source": [
    "Mutual Information between two events conditioned on another, aka, **pointwise conditional mutual information**: $$ \\log \\frac{p(x,y|z)}{p(x|z)p(y|z)} $$"
   ]
  },
  {
   "cell_type": "markdown",
   "metadata": {},
   "source": [
    "#### **- Screening**"
   ]
  },
  {
   "cell_type": "code",
   "execution_count": 15,
   "metadata": {},
   "outputs": [
    {
     "name": "stdout",
     "output_type": "stream",
     "text": [
      "Pointwise Conditional Mutual Information for Screening:\n"
     ]
    },
    {
     "data": {
      "text/html": [
       "<div>\n",
       "<style scoped>\n",
       "    .dataframe tbody tr th:only-of-type {\n",
       "        vertical-align: middle;\n",
       "    }\n",
       "\n",
       "    .dataframe tbody tr th {\n",
       "        vertical-align: top;\n",
       "    }\n",
       "\n",
       "    .dataframe thead tr th {\n",
       "        text-align: left;\n",
       "    }\n",
       "</style>\n",
       "<table border=\"1\" class=\"dataframe\">\n",
       "  <thead>\n",
       "    <tr>\n",
       "      <th>CRC</th>\n",
       "      <th colspan=\"7\" halign=\"left\">False</th>\n",
       "      <th colspan=\"7\" halign=\"left\">True</th>\n",
       "    </tr>\n",
       "    <tr>\n",
       "      <th>Screening</th>\n",
       "      <th>No_screening</th>\n",
       "      <th>gFOBT</th>\n",
       "      <th>FIT</th>\n",
       "      <th>Blood_based</th>\n",
       "      <th>Stool_DNA</th>\n",
       "      <th>CTC</th>\n",
       "      <th>Colon_capsule</th>\n",
       "      <th>No_screening</th>\n",
       "      <th>gFOBT</th>\n",
       "      <th>FIT</th>\n",
       "      <th>Blood_based</th>\n",
       "      <th>Stool_DNA</th>\n",
       "      <th>CTC</th>\n",
       "      <th>Colon_capsule</th>\n",
       "    </tr>\n",
       "  </thead>\n",
       "  <tbody>\n",
       "    <tr>\n",
       "      <th>No_pred_screening</th>\n",
       "      <td>3.628227e-10</td>\n",
       "      <td>0.000000</td>\n",
       "      <td>0.000000</td>\n",
       "      <td>0.000000</td>\n",
       "      <td>0.000000</td>\n",
       "      <td>0.000000</td>\n",
       "      <td>0.000000</td>\n",
       "      <td>3.628227e-10</td>\n",
       "      <td>0.000000</td>\n",
       "      <td>0.000000</td>\n",
       "      <td>0.000000</td>\n",
       "      <td>0.000000</td>\n",
       "      <td>0.000000</td>\n",
       "      <td>0.000000</td>\n",
       "    </tr>\n",
       "    <tr>\n",
       "      <th>Predicted_False</th>\n",
       "      <td>0.000000e+00</td>\n",
       "      <td>0.000315</td>\n",
       "      <td>0.000533</td>\n",
       "      <td>0.000450</td>\n",
       "      <td>0.000655</td>\n",
       "      <td>0.000557</td>\n",
       "      <td>0.000617</td>\n",
       "      <td>0.000000e+00</td>\n",
       "      <td>-0.575277</td>\n",
       "      <td>-1.351170</td>\n",
       "      <td>-0.984049</td>\n",
       "      <td>-2.419424</td>\n",
       "      <td>-1.492347</td>\n",
       "      <td>-1.956222</td>\n",
       "    </tr>\n",
       "    <tr>\n",
       "      <th>Predicted_True</th>\n",
       "      <td>0.000000e+00</td>\n",
       "      <td>-0.013887</td>\n",
       "      <td>-0.015023</td>\n",
       "      <td>-0.004542</td>\n",
       "      <td>-0.004223</td>\n",
       "      <td>-0.004499</td>\n",
       "      <td>-0.007073</td>\n",
       "      <td>0.000000e+00</td>\n",
       "      <td>3.004318</td>\n",
       "      <td>3.078689</td>\n",
       "      <td>1.987888</td>\n",
       "      <td>1.925566</td>\n",
       "      <td>1.979633</td>\n",
       "      <td>2.379394</td>\n",
       "    </tr>\n",
       "  </tbody>\n",
       "</table>\n",
       "</div>"
      ],
      "text/plain": [
       "CRC                       False                                            \\\n",
       "Screening          No_screening     gFOBT       FIT Blood_based Stool_DNA   \n",
       "No_pred_screening  3.628227e-10  0.000000  0.000000    0.000000  0.000000   \n",
       "Predicted_False    0.000000e+00  0.000315  0.000533    0.000450  0.000655   \n",
       "Predicted_True     0.000000e+00 -0.013887 -0.015023   -0.004542 -0.004223   \n",
       "\n",
       "CRC                                                True                      \\\n",
       "Screening               CTC Colon_capsule  No_screening     gFOBT       FIT   \n",
       "No_pred_screening  0.000000      0.000000  3.628227e-10  0.000000  0.000000   \n",
       "Predicted_False    0.000557      0.000617  0.000000e+00 -0.575277 -1.351170   \n",
       "Predicted_True    -0.004499     -0.007073  0.000000e+00  3.004318  3.078689   \n",
       "\n",
       "CRC                                                              \n",
       "Screening         Blood_based Stool_DNA       CTC Colon_capsule  \n",
       "No_pred_screening    0.000000  0.000000  0.000000      0.000000  \n",
       "Predicted_False     -0.984049 -2.419424 -1.492347     -1.956222  \n",
       "Predicted_True       1.987888  1.925566  1.979633      2.379394  "
      ]
     },
     "execution_count": 15,
     "metadata": {},
     "output_type": "execute_result"
    }
   ],
   "source": [
    "point_cond_mut_info_scr = np.log( p_x_yz.reshape((2,7,3)) / p_x_z )\n",
    "point_cond_mut_info_scr = np.nan_to_num(point_cond_mut_info_scr, 0)\n",
    "\n",
    "pd.DataFrame(point_cond_mut_info_scr.flatten()).transpose().to_csv(\"value_of_info_csv/point_cond_mut_info_scr.csv\")\n",
    "\n",
    "# Print the DataFrame\n",
    "print(\"Pointwise Conditional Mutual Information for Screening:\") \n",
    "plot_df(point_cond_mut_info_scr, net, [\"Results_of_Screening\", \"CRC\", \"Screening\"])"
   ]
  },
  {
   "cell_type": "markdown",
   "metadata": {},
   "source": [
    "#### **- Colonoscopy**"
   ]
  },
  {
   "cell_type": "code",
   "execution_count": 16,
   "metadata": {},
   "outputs": [
    {
     "name": "stdout",
     "output_type": "stream",
     "text": [
      "Pointwise Conditional Mutual Information for Colonoscopy:\n"
     ]
    },
    {
     "data": {
      "text/html": [
       "<div>\n",
       "<style scoped>\n",
       "    .dataframe tbody tr th:only-of-type {\n",
       "        vertical-align: middle;\n",
       "    }\n",
       "\n",
       "    .dataframe tbody tr th {\n",
       "        vertical-align: top;\n",
       "    }\n",
       "\n",
       "    .dataframe thead tr th {\n",
       "        text-align: left;\n",
       "    }\n",
       "</style>\n",
       "<table border=\"1\" class=\"dataframe\">\n",
       "  <thead>\n",
       "    <tr>\n",
       "      <th>CRC</th>\n",
       "      <th colspan=\"2\" halign=\"left\">False</th>\n",
       "      <th colspan=\"2\" halign=\"left\">True</th>\n",
       "    </tr>\n",
       "    <tr>\n",
       "      <th>Colonoscopy</th>\n",
       "      <th>No_Colonoscopy</th>\n",
       "      <th>Colonoscopy</th>\n",
       "      <th>No_Colonoscopy</th>\n",
       "      <th>Colonoscopy</th>\n",
       "    </tr>\n",
       "  </thead>\n",
       "  <tbody>\n",
       "    <tr>\n",
       "      <th>no_pred</th>\n",
       "      <td>3.628227e-10</td>\n",
       "      <td>0.000000</td>\n",
       "      <td>3.628227e-10</td>\n",
       "      <td>0.000000</td>\n",
       "    </tr>\n",
       "    <tr>\n",
       "      <th>colon_pred_false</th>\n",
       "      <td>0.000000e+00</td>\n",
       "      <td>0.000697</td>\n",
       "      <td>0.000000e+00</td>\n",
       "      <td>-3.495810</td>\n",
       "    </tr>\n",
       "    <tr>\n",
       "      <th>colon_pred_true</th>\n",
       "      <td>0.000000e+00</td>\n",
       "      <td>-0.066727</td>\n",
       "      <td>0.000000e+00</td>\n",
       "      <td>4.507984</td>\n",
       "    </tr>\n",
       "  </tbody>\n",
       "</table>\n",
       "</div>"
      ],
      "text/plain": [
       "CRC                       False                       True            \n",
       "Colonoscopy      No_Colonoscopy Colonoscopy No_Colonoscopy Colonoscopy\n",
       "no_pred            3.628227e-10    0.000000   3.628227e-10    0.000000\n",
       "colon_pred_false   0.000000e+00    0.000697   0.000000e+00   -3.495810\n",
       "colon_pred_true    0.000000e+00   -0.066727   0.000000e+00    4.507984"
      ]
     },
     "execution_count": 16,
     "metadata": {},
     "output_type": "execute_result"
    }
   ],
   "source": [
    "point_cond_mut_info_col = np.log( p_t_yc.reshape((2,2,3)) / p_t_c )\n",
    "point_cond_mut_info_col = np.nan_to_num(point_cond_mut_info_col, 0)\n",
    "\n",
    "pd.DataFrame(point_cond_mut_info_col.flatten()).transpose().to_csv(\"value_of_info_csv/point_cond_mut_info_col.csv\")\n",
    "\n",
    "# Print the DataFrame\n",
    "print(\"Pointwise Conditional Mutual Information for Colonoscopy:\") \n",
    "plot_df(point_cond_mut_info_col, net, [\"Results_of_Colonoscopy\", \"CRC\", \"Colonoscopy\"])"
   ]
  },
  {
   "cell_type": "markdown",
   "metadata": {},
   "source": [
    "#### **Normalized pointwise conditional mutual information**"
   ]
  },
  {
   "cell_type": "markdown",
   "metadata": {},
   "source": [
    "$$ \\frac{ \\left(\\log \\frac{p(x,y|z)}{p(x|z)p(y|z)} \\right) }{\\log p(x,y|z)} $$"
   ]
  },
  {
   "cell_type": "markdown",
   "metadata": {},
   "source": [
    "##### **- Screening**"
   ]
  },
  {
   "cell_type": "code",
   "execution_count": 17,
   "metadata": {},
   "outputs": [
    {
     "name": "stdout",
     "output_type": "stream",
     "text": [
      "Normalized Pointwise Conditional Mutual Information for Screening:\n"
     ]
    },
    {
     "data": {
      "text/html": [
       "<div>\n",
       "<style scoped>\n",
       "    .dataframe tbody tr th:only-of-type {\n",
       "        vertical-align: middle;\n",
       "    }\n",
       "\n",
       "    .dataframe tbody tr th {\n",
       "        vertical-align: top;\n",
       "    }\n",
       "\n",
       "    .dataframe thead tr th {\n",
       "        text-align: left;\n",
       "    }\n",
       "</style>\n",
       "<table border=\"1\" class=\"dataframe\">\n",
       "  <thead>\n",
       "    <tr>\n",
       "      <th>CRC</th>\n",
       "      <th colspan=\"7\" halign=\"left\">False</th>\n",
       "      <th colspan=\"7\" halign=\"left\">True</th>\n",
       "    </tr>\n",
       "    <tr>\n",
       "      <th>Screening</th>\n",
       "      <th>No_screening</th>\n",
       "      <th>gFOBT</th>\n",
       "      <th>FIT</th>\n",
       "      <th>Blood_based</th>\n",
       "      <th>Stool_DNA</th>\n",
       "      <th>CTC</th>\n",
       "      <th>Colon_capsule</th>\n",
       "      <th>No_screening</th>\n",
       "      <th>gFOBT</th>\n",
       "      <th>FIT</th>\n",
       "      <th>Blood_based</th>\n",
       "      <th>Stool_DNA</th>\n",
       "      <th>CTC</th>\n",
       "      <th>Colon_capsule</th>\n",
       "    </tr>\n",
       "  </thead>\n",
       "  <tbody>\n",
       "    <tr>\n",
       "      <th>No_pred_screening</th>\n",
       "      <td>5.045907e-07</td>\n",
       "      <td>0.000000</td>\n",
       "      <td>0.000000</td>\n",
       "      <td>0.000000</td>\n",
       "      <td>0.000000</td>\n",
       "      <td>0.000000</td>\n",
       "      <td>0.000000</td>\n",
       "      <td>5.012783e-11</td>\n",
       "      <td>0.000000</td>\n",
       "      <td>0.000000</td>\n",
       "      <td>0.000000</td>\n",
       "      <td>0.000000</td>\n",
       "      <td>0.000000</td>\n",
       "      <td>0.000000</td>\n",
       "    </tr>\n",
       "    <tr>\n",
       "      <th>Predicted_False</th>\n",
       "      <td>0.000000e+00</td>\n",
       "      <td>0.013700</td>\n",
       "      <td>0.015092</td>\n",
       "      <td>0.004739</td>\n",
       "      <td>0.004531</td>\n",
       "      <td>0.004754</td>\n",
       "      <td>0.007341</td>\n",
       "      <td>0.000000e+00</td>\n",
       "      <td>-0.073417</td>\n",
       "      <td>-0.156671</td>\n",
       "      <td>-0.118321</td>\n",
       "      <td>-0.246832</td>\n",
       "      <td>-0.168677</td>\n",
       "      <td>-0.210841</td>\n",
       "    </tr>\n",
       "    <tr>\n",
       "      <th>Predicted_True</th>\n",
       "      <td>0.000000e+00</td>\n",
       "      <td>-0.003638</td>\n",
       "      <td>-0.004442</td>\n",
       "      <td>-0.001886</td>\n",
       "      <td>-0.002100</td>\n",
       "      <td>-0.002037</td>\n",
       "      <td>-0.002800</td>\n",
       "      <td>0.000000e+00</td>\n",
       "      <td>0.373836</td>\n",
       "      <td>0.409094</td>\n",
       "      <td>0.259737</td>\n",
       "      <td>0.263125</td>\n",
       "      <td>0.265327</td>\n",
       "      <td>0.322533</td>\n",
       "    </tr>\n",
       "  </tbody>\n",
       "</table>\n",
       "</div>"
      ],
      "text/plain": [
       "CRC                       False                                            \\\n",
       "Screening          No_screening     gFOBT       FIT Blood_based Stool_DNA   \n",
       "No_pred_screening  5.045907e-07  0.000000  0.000000    0.000000  0.000000   \n",
       "Predicted_False    0.000000e+00  0.013700  0.015092    0.004739  0.004531   \n",
       "Predicted_True     0.000000e+00 -0.003638 -0.004442   -0.001886 -0.002100   \n",
       "\n",
       "CRC                                                True                      \\\n",
       "Screening               CTC Colon_capsule  No_screening     gFOBT       FIT   \n",
       "No_pred_screening  0.000000      0.000000  5.012783e-11  0.000000  0.000000   \n",
       "Predicted_False    0.004754      0.007341  0.000000e+00 -0.073417 -0.156671   \n",
       "Predicted_True    -0.002037     -0.002800  0.000000e+00  0.373836  0.409094   \n",
       "\n",
       "CRC                                                              \n",
       "Screening         Blood_based Stool_DNA       CTC Colon_capsule  \n",
       "No_pred_screening    0.000000  0.000000  0.000000      0.000000  \n",
       "Predicted_False     -0.118321 -0.246832 -0.168677     -0.210841  \n",
       "Predicted_True       0.259737  0.263125  0.265327      0.322533  "
      ]
     },
     "execution_count": 17,
     "metadata": {},
     "output_type": "execute_result"
    }
   ],
   "source": [
    "p_y = np.array([p_CRC_false, p_CRC_true])\n",
    "p_y = np.repeat(p_y, 21).reshape(2,7,3)\n",
    " \n",
    "norm_point_mi_scr = np.log( p_x_yz.reshape((2,7,3)) / p_x_z ) / - np.log( p_x_yz.reshape((2,7,3)) * p_y)\n",
    "norm_point_mi_scr =  np.nan_to_num(norm_point_mi_scr, 0)\n",
    "pd.DataFrame(norm_point_mi_scr.flatten()).transpose().to_csv(\"value_of_info_csv/norm_point_mi_scr.csv\")\n",
    "\n",
    "print(\"Normalized Pointwise Conditional Mutual Information for Screening:\") \n",
    "plot_df(norm_point_mi_scr, net, [\"Results_of_Screening\", \"CRC\", \"Screening\"])"
   ]
  },
  {
   "cell_type": "markdown",
   "metadata": {},
   "source": [
    "##### **- Colonoscopy**"
   ]
  },
  {
   "cell_type": "code",
   "execution_count": 18,
   "metadata": {},
   "outputs": [
    {
     "name": "stdout",
     "output_type": "stream",
     "text": [
      "Normalized Pointwise Conditional Mutual Information for Colonoscopy:\n"
     ]
    },
    {
     "data": {
      "text/html": [
       "<div>\n",
       "<style scoped>\n",
       "    .dataframe tbody tr th:only-of-type {\n",
       "        vertical-align: middle;\n",
       "    }\n",
       "\n",
       "    .dataframe tbody tr th {\n",
       "        vertical-align: top;\n",
       "    }\n",
       "\n",
       "    .dataframe thead tr th {\n",
       "        text-align: left;\n",
       "    }\n",
       "</style>\n",
       "<table border=\"1\" class=\"dataframe\">\n",
       "  <thead>\n",
       "    <tr>\n",
       "      <th>CRC</th>\n",
       "      <th colspan=\"2\" halign=\"left\">False</th>\n",
       "      <th colspan=\"2\" halign=\"left\">True</th>\n",
       "    </tr>\n",
       "    <tr>\n",
       "      <th>Colonoscopy</th>\n",
       "      <th>No_Colonoscopy</th>\n",
       "      <th>Colonoscopy</th>\n",
       "      <th>No_Colonoscopy</th>\n",
       "      <th>Colonoscopy</th>\n",
       "    </tr>\n",
       "  </thead>\n",
       "  <tbody>\n",
       "    <tr>\n",
       "      <th>no_pred</th>\n",
       "      <td>5.045907e-07</td>\n",
       "      <td>0.000000</td>\n",
       "      <td>5.012783e-11</td>\n",
       "      <td>0.000000</td>\n",
       "    </tr>\n",
       "    <tr>\n",
       "      <th>colon_pred_false</th>\n",
       "      <td>0.000000e+00</td>\n",
       "      <td>0.064743</td>\n",
       "      <td>0.000000e+00</td>\n",
       "      <td>-0.325358</td>\n",
       "    </tr>\n",
       "    <tr>\n",
       "      <th>colon_pred_true</th>\n",
       "      <td>0.000000e+00</td>\n",
       "      <td>-0.014487</td>\n",
       "      <td>0.000000e+00</td>\n",
       "      <td>0.620216</td>\n",
       "    </tr>\n",
       "  </tbody>\n",
       "</table>\n",
       "</div>"
      ],
      "text/plain": [
       "CRC                       False                       True            \n",
       "Colonoscopy      No_Colonoscopy Colonoscopy No_Colonoscopy Colonoscopy\n",
       "no_pred            5.045907e-07    0.000000   5.012783e-11    0.000000\n",
       "colon_pred_false   0.000000e+00    0.064743   0.000000e+00   -0.325358\n",
       "colon_pred_true    0.000000e+00   -0.014487   0.000000e+00    0.620216"
      ]
     },
     "execution_count": 18,
     "metadata": {},
     "output_type": "execute_result"
    }
   ],
   "source": [
    "p_y = np.array([p_CRC_false, p_CRC_true])\n",
    "p_y = np.repeat(p_y, 6).reshape(2,2,3)\n",
    "\n",
    "norm_point_mi_col = np.log( p_t_yc.reshape((2,2,3)) / p_t_c ) / - np.log( p_t_yc.reshape((2,2,3))* p_y)\n",
    "norm_point_mi_col =  np.nan_to_num(norm_point_mi_col, 0)\n",
    "pd.DataFrame(norm_point_mi_col.flatten()).transpose().to_csv(\"value_of_info_csv/norm_point_mi_col.csv\")\n",
    "\n",
    "# Print the DataFrame\n",
    "print(\"Normalized Pointwise Conditional Mutual Information for Colonoscopy:\") \n",
    "plot_df(norm_point_mi_col, net, [\"Results_of_Colonoscopy\", \"CRC\", \"Colonoscopy\"])"
   ]
  },
  {
   "cell_type": "markdown",
   "metadata": {},
   "source": [
    "---\n",
    "#### Normalized conditional mutual information"
   ]
  },
  {
   "attachments": {
    "image.png": {
     "image/png": "[encoded data removed]"
    }
   },
   "cell_type": "markdown",
   "metadata": {},
   "source": [
    "There exist several ways of normalizing the mutual information, but it can be shown that the tightest\n",
    "\n",
    "![image.png](attachment:image.png)"
   ]
  },
  {
   "cell_type": "markdown",
   "metadata": {},
   "source": [
    "-----\n",
    "### **Mutual Information** (without conditioning on screening)"
   ]
  },
  {
   "cell_type": "markdown",
   "metadata": {},
   "source": [
    "$$ \\begin{align*} I(X,Y) &= H(X) - H(X|Y) = \\\\ \n",
    "& = -\\sum_{x} p(x) \\log{p(x)} + \\sum_{y} p(y) \\sum_{x} p(x|y) \\log{p(x|y)} = \\\\\n",
    "& = \\left( \\sum_x \\sum_y \\left( p(y|z) p(x| y,z) \\log{ \\frac{p(x |y,z)}{\\sum_y p(y|z) p(x| y,z)}} \\right) \\right) = \\\\\n",
    "& = \\sum_x \\sum_y \\left( \\sum_z \\frac{1}{|Z|} \\left( p(y) p(x| y,z) \\log{ \\frac{\\sum_z p(x |y,z)}{\\sum_z \\sum_y p(y) p(x| y,z)}} \\right) \\right) \n",
    "\\end{align*}$$"
   ]
  },
  {
   "cell_type": "markdown",
   "metadata": {},
   "source": [
    "#### **- Screening**"
   ]
  },
  {
   "cell_type": "code",
   "execution_count": 19,
   "metadata": {},
   "outputs": [
    {
     "name": "stdout",
     "output_type": "stream",
     "text": [
      "Mutual Information for Screening:\n"
     ]
    },
    {
     "data": {
      "text/html": [
       "<div>\n",
       "<style scoped>\n",
       "    .dataframe tbody tr th:only-of-type {\n",
       "        vertical-align: middle;\n",
       "    }\n",
       "\n",
       "    .dataframe tbody tr th {\n",
       "        vertical-align: top;\n",
       "    }\n",
       "\n",
       "    .dataframe thead th {\n",
       "        text-align: right;\n",
       "    }\n",
       "</style>\n",
       "<table border=\"1\" class=\"dataframe\">\n",
       "  <thead>\n",
       "    <tr style=\"text-align: right;\">\n",
       "      <th></th>\n",
       "      <th>False</th>\n",
       "      <th>True</th>\n",
       "    </tr>\n",
       "  </thead>\n",
       "  <tbody>\n",
       "    <tr>\n",
       "      <th>No_pred_screening</th>\n",
       "      <td>5.179455e-11</td>\n",
       "      <td>3.725591e-14</td>\n",
       "    </tr>\n",
       "    <tr>\n",
       "      <th>Predicted_False</th>\n",
       "      <td>4.088006e-04</td>\n",
       "      <td>-2.022738e-04</td>\n",
       "    </tr>\n",
       "    <tr>\n",
       "      <th>Predicted_True</th>\n",
       "      <td>-4.074548e-04</td>\n",
       "      <td>1.025395e-03</td>\n",
       "    </tr>\n",
       "  </tbody>\n",
       "</table>\n",
       "</div>"
      ],
      "text/plain": [
       "                          False          True\n",
       "No_pred_screening  5.179455e-11  3.725591e-14\n",
       "Predicted_False    4.088006e-04 -2.022738e-04\n",
       "Predicted_True    -4.074548e-04  1.025395e-03"
      ]
     },
     "execution_count": 19,
     "metadata": {},
     "output_type": "execute_result"
    }
   ],
   "source": [
    "p_x_yz = np.array(net.get_node_definition(\"Results_of_Screening\")).reshape(2,7,3)\n",
    "\n",
    "p_x_y = p_x_yz.mean(axis=1)\n",
    "\n",
    "p_y = np.array([p_CRC_false, p_CRC_true])\n",
    "p_y = np.repeat(p_y, 3).reshape(2,3)\n",
    "\n",
    "p_x = np.repeat((p_y * p_x_y).sum(axis=0) , 2).reshape(3,2).transpose()\n",
    "\n",
    "mut_info_scr = (p_y * p_x_y) * np.log(p_x_y / p_x)\n",
    "\n",
    "mut_info_scr = np.nan_to_num(mut_info_scr, 0)\n",
    "\n",
    "pd.DataFrame(mut_info_scr.flatten()).transpose().to_csv(\"value_of_info_csv/mut_info_scr.csv\")\n",
    "\n",
    "print(\"Mutual Information for Screening:\")\n",
    "df_plotted = plot_df(mut_info_scr, net, [\"Results_of_Screening\", \"CRC\"], mod=\"mi\")\n",
    "df_plotted"
   ]
  },
  {
   "cell_type": "markdown",
   "metadata": {},
   "source": [
    "#### **- Colonoscopy**"
   ]
  },
  {
   "cell_type": "code",
   "execution_count": 20,
   "metadata": {},
   "outputs": [
    {
     "name": "stdout",
     "output_type": "stream",
     "text": [
      "Mutual Information for Colonoscopy:\n"
     ]
    },
    {
     "data": {
      "text/html": [
       "<div>\n",
       "<style scoped>\n",
       "    .dataframe tbody tr th:only-of-type {\n",
       "        vertical-align: middle;\n",
       "    }\n",
       "\n",
       "    .dataframe tbody tr th {\n",
       "        vertical-align: top;\n",
       "    }\n",
       "\n",
       "    .dataframe thead th {\n",
       "        text-align: right;\n",
       "    }\n",
       "</style>\n",
       "<table border=\"1\" class=\"dataframe\">\n",
       "  <thead>\n",
       "    <tr style=\"text-align: right;\">\n",
       "      <th></th>\n",
       "      <th>False</th>\n",
       "      <th>True</th>\n",
       "    </tr>\n",
       "  </thead>\n",
       "  <tbody>\n",
       "    <tr>\n",
       "      <th>no_pred</th>\n",
       "      <td>1.812809e-10</td>\n",
       "      <td>1.303957e-13</td>\n",
       "    </tr>\n",
       "    <tr>\n",
       "      <th>colon_pred_false</th>\n",
       "      <td>3.448890e-04</td>\n",
       "      <td>-3.769102e-05</td>\n",
       "    </tr>\n",
       "    <tr>\n",
       "      <th>colon_pred_true</th>\n",
       "      <td>-3.333939e-04</td>\n",
       "      <td>1.571531e-03</td>\n",
       "    </tr>\n",
       "  </tbody>\n",
       "</table>\n",
       "</div>"
      ],
      "text/plain": [
       "                         False          True\n",
       "no_pred           1.812809e-10  1.303957e-13\n",
       "colon_pred_false  3.448890e-04 -3.769102e-05\n",
       "colon_pred_true  -3.333939e-04  1.571531e-03"
      ]
     },
     "execution_count": 20,
     "metadata": {},
     "output_type": "execute_result"
    }
   ],
   "source": [
    "p_t_yc = np.array(net.get_node_definition(\"Results_of_Colonoscopy\")).reshape(2,2,3)\n",
    "p_t_yc = np.swapaxes(p_t_yc,0,1)\n",
    "\n",
    "p_t_y = p_t_yc.mean(axis = 1)\n",
    "\n",
    "p_y = np.array([p_CRC_false, p_CRC_true])\n",
    "p_y = np.repeat(p_y, 3).reshape(2,3)\n",
    "\n",
    "p_t = np.repeat((p_y * p_t_y).sum(axis=0) , 2).reshape(3,2).transpose()\n",
    "\n",
    "mut_info_col = (p_y * p_t_y) * np.log(p_t_y / p_t)\n",
    "mut_info_col = np.nan_to_num(mut_info_col, 0)\n",
    "\n",
    "pd.DataFrame(mut_info_col.flatten()).transpose().to_csv(\"value_of_info_csv/mut_info_col.csv\")\n",
    "\n",
    "print(\"Mutual Information for Colonoscopy:\")\n",
    "df_plotted = plot_df(mut_info_col, net, [\"Results_of_Colonoscopy\", \"CRC\"], mod=\"mi\")\n",
    "df_plotted"
   ]
  },
  {
   "cell_type": "markdown",
   "metadata": {},
   "source": [
    "### **Pointwise Mutual Information:**"
   ]
  },
  {
   "cell_type": "markdown",
   "metadata": {},
   "source": [
    "#### **- Screening**"
   ]
  },
  {
   "cell_type": "code",
   "execution_count": 22,
   "metadata": {},
   "outputs": [
    {
     "name": "stdout",
     "output_type": "stream",
     "text": [
      "Pointwise Mutual Information for Screening:\n"
     ]
    },
    {
     "data": {
      "text/html": [
       "<div>\n",
       "<style scoped>\n",
       "    .dataframe tbody tr th:only-of-type {\n",
       "        vertical-align: middle;\n",
       "    }\n",
       "\n",
       "    .dataframe tbody tr th {\n",
       "        vertical-align: top;\n",
       "    }\n",
       "\n",
       "    .dataframe thead th {\n",
       "        text-align: right;\n",
       "    }\n",
       "</style>\n",
       "<table border=\"1\" class=\"dataframe\">\n",
       "  <thead>\n",
       "    <tr style=\"text-align: right;\">\n",
       "      <th></th>\n",
       "      <th>False</th>\n",
       "      <th>True</th>\n",
       "    </tr>\n",
       "  </thead>\n",
       "  <tbody>\n",
       "    <tr>\n",
       "      <th>No_pred_screening</th>\n",
       "      <td>3.628224e-10</td>\n",
       "      <td>3.628224e-10</td>\n",
       "    </tr>\n",
       "    <tr>\n",
       "      <th>Predicted_False</th>\n",
       "      <td>5.178414e-04</td>\n",
       "      <td>-1.273352e+00</td>\n",
       "    </tr>\n",
       "    <tr>\n",
       "      <th>Predicted_True</th>\n",
       "      <td>-6.072840e-03</td>\n",
       "      <td>2.242528e+00</td>\n",
       "    </tr>\n",
       "  </tbody>\n",
       "</table>\n",
       "</div>"
      ],
      "text/plain": [
       "                          False          True\n",
       "No_pred_screening  3.628224e-10  3.628224e-10\n",
       "Predicted_False    5.178414e-04 -1.273352e+00\n",
       "Predicted_True    -6.072840e-03  2.242528e+00"
      ]
     },
     "execution_count": 22,
     "metadata": {},
     "output_type": "execute_result"
    }
   ],
   "source": [
    "point_mi_scr = np.log( p_x_yz.reshape((2,7,3)).mean(axis=1) / p_x_z.mean(axis=1) )\n",
    "point_mi_scr = np.nan_to_num(point_mi_scr, 0)\n",
    "\n",
    "pd.DataFrame(point_mi_scr.flatten()).transpose().to_csv(\"value_of_info_csv/point_mut_info_scr.csv\")\n",
    "\n",
    "print(\"Pointwise Mutual Information for Screening:\")\n",
    "df_plotted = plot_df(point_mi_scr, net, [\"Results_of_Screening\", \"CRC\"], mod=\"mi\")\n",
    "df_plotted"
   ]
  },
  {
   "cell_type": "markdown",
   "metadata": {},
   "source": [
    "#### **- Colonoscopy**"
   ]
  },
  {
   "cell_type": "code",
   "execution_count": 23,
   "metadata": {},
   "outputs": [
    {
     "name": "stdout",
     "output_type": "stream",
     "text": [
      "Mutual Information for Colonoscopy:\n"
     ]
    },
    {
     "data": {
      "text/html": [
       "<div>\n",
       "<style scoped>\n",
       "    .dataframe tbody tr th:only-of-type {\n",
       "        vertical-align: middle;\n",
       "    }\n",
       "\n",
       "    .dataframe tbody tr th {\n",
       "        vertical-align: top;\n",
       "    }\n",
       "\n",
       "    .dataframe thead th {\n",
       "        text-align: right;\n",
       "    }\n",
       "</style>\n",
       "<table border=\"1\" class=\"dataframe\">\n",
       "  <thead>\n",
       "    <tr style=\"text-align: right;\">\n",
       "      <th></th>\n",
       "      <th>False</th>\n",
       "      <th>True</th>\n",
       "    </tr>\n",
       "  </thead>\n",
       "  <tbody>\n",
       "    <tr>\n",
       "      <th>no_pred</th>\n",
       "      <td>3.628227e-10</td>\n",
       "      <td>3.628227e-10</td>\n",
       "    </tr>\n",
       "    <tr>\n",
       "      <th>colon_pred_false</th>\n",
       "      <td>6.972467e-04</td>\n",
       "      <td>-3.495810e+00</td>\n",
       "    </tr>\n",
       "    <tr>\n",
       "      <th>colon_pred_true</th>\n",
       "      <td>-6.672675e-02</td>\n",
       "      <td>4.507984e+00</td>\n",
       "    </tr>\n",
       "  </tbody>\n",
       "</table>\n",
       "</div>"
      ],
      "text/plain": [
       "                         False          True\n",
       "no_pred           3.628227e-10  3.628227e-10\n",
       "colon_pred_false  6.972467e-04 -3.495810e+00\n",
       "colon_pred_true  -6.672675e-02  4.507984e+00"
      ]
     },
     "execution_count": 23,
     "metadata": {},
     "output_type": "execute_result"
    }
   ],
   "source": [
    "point_mi_col = np.log( p_t_yc.reshape((2,2,3)).mean(axis=1) / p_t_c.mean(axis=1) )\n",
    "\n",
    "point_mi_col = np.nan_to_num(point_mi_col, 0)\n",
    "pd.DataFrame(point_mi_col.flatten()).transpose().to_csv(\"value_of_info_csv/point_mut_info_col.csv\")\n",
    "\n",
    "print(\"Mutual Information for Colonoscopy:\")\n",
    "df_plotted = plot_df(point_mi_col, net, [\"Results_of_Colonoscopy\", \"CRC\"], mod=\"mi\")\n",
    "df_plotted"
   ]
  },
  {
   "cell_type": "markdown",
   "metadata": {},
   "source": [
    "#### **Normalized Pointwise Mutual Information**"
   ]
  },
  {
   "cell_type": "markdown",
   "metadata": {},
   "source": [
    "##### **-Screening**"
   ]
  },
  {
   "cell_type": "code",
   "execution_count": 25,
   "metadata": {},
   "outputs": [
    {
     "name": "stdout",
     "output_type": "stream",
     "text": [
      "Normalized Pointwise Mutual Information for Screening:\n"
     ]
    },
    {
     "data": {
      "text/html": [
       "<div>\n",
       "<style scoped>\n",
       "    .dataframe tbody tr th:only-of-type {\n",
       "        vertical-align: middle;\n",
       "    }\n",
       "\n",
       "    .dataframe tbody tr th {\n",
       "        vertical-align: top;\n",
       "    }\n",
       "\n",
       "    .dataframe thead th {\n",
       "        text-align: right;\n",
       "    }\n",
       "</style>\n",
       "<table border=\"1\" class=\"dataframe\">\n",
       "  <thead>\n",
       "    <tr style=\"text-align: right;\">\n",
       "      <th></th>\n",
       "      <th>False</th>\n",
       "      <th>True</th>\n",
       "    </tr>\n",
       "  </thead>\n",
       "  <tbody>\n",
       "    <tr>\n",
       "      <th>No_pred_screening</th>\n",
       "      <td>1.863850e-10</td>\n",
       "      <td>3.950653e-11</td>\n",
       "    </tr>\n",
       "    <tr>\n",
       "      <th>Predicted_False</th>\n",
       "      <td>2.190147e-03</td>\n",
       "      <td>-1.455669e-01</td>\n",
       "    </tr>\n",
       "    <tr>\n",
       "      <th>Predicted_True</th>\n",
       "      <td>-2.247825e-03</td>\n",
       "      <td>2.916054e-01</td>\n",
       "    </tr>\n",
       "  </tbody>\n",
       "</table>\n",
       "</div>"
      ],
      "text/plain": [
       "                          False          True\n",
       "No_pred_screening  1.863850e-10  3.950653e-11\n",
       "Predicted_False    2.190147e-03 -1.455669e-01\n",
       "Predicted_True    -2.247825e-03  2.916054e-01"
      ]
     },
     "execution_count": 25,
     "metadata": {},
     "output_type": "execute_result"
    }
   ],
   "source": [
    "norm_point_mi_scr = np.log( p_x_yz.reshape((2,7,3)).mean(axis=1) / p_x_z.mean(axis=1) ) / - np.log( p_x_yz.reshape((2,7,3)).mean(axis=1) *p_y)\n",
    "norm_point_mi_scr = np.nan_to_num(norm_point_mi_scr, 0)\n",
    "\n",
    "pd.DataFrame(norm_point_mi_scr.flatten()).transpose().to_csv(\"value_of_info_csv/norm_point_mut_info_scr.csv\")\n",
    "\n",
    "print(\"Normalized Pointwise Mutual Information for Screening:\")\n",
    "df_plotted = plot_df(norm_point_mi_scr, net, [\"Results_of_Screening\", \"CRC\"], mod=\"mi\")\n",
    "df_plotted"
   ]
  },
  {
   "cell_type": "markdown",
   "metadata": {},
   "source": [
    "#### **- Colonoscopy**"
   ]
  },
  {
   "cell_type": "code",
   "execution_count": 26,
   "metadata": {},
   "outputs": [
    {
     "name": "stdout",
     "output_type": "stream",
     "text": [
      "Normalized Mutual Information for Colonoscopy:\n"
     ]
    },
    {
     "data": {
      "text/html": [
       "<div>\n",
       "<style scoped>\n",
       "    .dataframe tbody tr th:only-of-type {\n",
       "        vertical-align: middle;\n",
       "    }\n",
       "\n",
       "    .dataframe tbody tr th {\n",
       "        vertical-align: top;\n",
       "    }\n",
       "\n",
       "    .dataframe thead th {\n",
       "        text-align: right;\n",
       "    }\n",
       "</style>\n",
       "<table border=\"1\" class=\"dataframe\">\n",
       "  <thead>\n",
       "    <tr style=\"text-align: right;\">\n",
       "      <th></th>\n",
       "      <th>False</th>\n",
       "      <th>True</th>\n",
       "    </tr>\n",
       "  </thead>\n",
       "  <tbody>\n",
       "    <tr>\n",
       "      <th>no_pred</th>\n",
       "      <td>5.229000e-10</td>\n",
       "      <td>4.574685e-11</td>\n",
       "    </tr>\n",
       "    <tr>\n",
       "      <th>colon_pred_false</th>\n",
       "      <td>9.905246e-04</td>\n",
       "      <td>-3.056405e-01</td>\n",
       "    </tr>\n",
       "    <tr>\n",
       "      <th>colon_pred_true</th>\n",
       "      <td>-1.259224e-02</td>\n",
       "      <td>5.662191e-01</td>\n",
       "    </tr>\n",
       "  </tbody>\n",
       "</table>\n",
       "</div>"
      ],
      "text/plain": [
       "                         False          True\n",
       "no_pred           5.229000e-10  4.574685e-11\n",
       "colon_pred_false  9.905246e-04 -3.056405e-01\n",
       "colon_pred_true  -1.259224e-02  5.662191e-01"
      ]
     },
     "execution_count": 26,
     "metadata": {},
     "output_type": "execute_result"
    }
   ],
   "source": [
    "norm_point_mi_col = np.log( p_t_yc.reshape((2,2,3)).mean(axis=1) / p_t_c.mean(axis=1) )  /  - np.log( p_t_yc.reshape((2,2,3)).mean(axis = 1) * p_y)\n",
    "\n",
    "norm_point_mi_col = np.nan_to_num(norm_point_mi_col, 0)\n",
    "pd.DataFrame(norm_point_mi_col.flatten()).transpose().to_csv(\"value_of_info_csv/norm_point_mut_info_col.csv\")\n",
    "\n",
    "print(\"Normalized Mutual Information for Colonoscopy:\")\n",
    "df_plotted = plot_df(norm_point_mi_col, net, [\"Results_of_Colonoscopy\", \"CRC\"], mod=\"mi\")\n",
    "df_plotted"
   ]
  },
  {
   "cell_type": "markdown",
   "metadata": {},
   "source": [
    "------------------------\n",
    "## **Kullback Leibler Divergence**"
   ]
  },
  {
   "cell_type": "markdown",
   "metadata": {},
   "source": [
    "#### **- Screening**"
   ]
  },
  {
   "cell_type": "code",
   "execution_count": 30,
   "metadata": {},
   "outputs": [
    {
     "name": "stdout",
     "output_type": "stream",
     "text": [
      "Kullback-Leibler Divergence for Screening:\n"
     ]
    },
    {
     "data": {
      "text/html": [
       "<div>\n",
       "<style scoped>\n",
       "    .dataframe tbody tr th:only-of-type {\n",
       "        vertical-align: middle;\n",
       "    }\n",
       "\n",
       "    .dataframe tbody tr th {\n",
       "        vertical-align: top;\n",
       "    }\n",
       "\n",
       "    .dataframe thead th {\n",
       "        text-align: right;\n",
       "    }\n",
       "</style>\n",
       "<table border=\"1\" class=\"dataframe\">\n",
       "  <thead>\n",
       "    <tr style=\"text-align: right;\">\n",
       "      <th></th>\n",
       "      <th>False</th>\n",
       "      <th>True</th>\n",
       "    </tr>\n",
       "  </thead>\n",
       "  <tbody>\n",
       "    <tr>\n",
       "      <th>No_pred_screening</th>\n",
       "      <td>3.625619e-10</td>\n",
       "      <td>2.607914e-13</td>\n",
       "    </tr>\n",
       "    <tr>\n",
       "      <th>Predicted_False</th>\n",
       "      <td>5.177372e-04</td>\n",
       "      <td>-2.561754e-04</td>\n",
       "    </tr>\n",
       "    <tr>\n",
       "      <th>Predicted_True</th>\n",
       "      <td>-6.031734e-03</td>\n",
       "      <td>1.517938e-02</td>\n",
       "    </tr>\n",
       "  </tbody>\n",
       "</table>\n",
       "</div>"
      ],
      "text/plain": [
       "                          False          True\n",
       "No_pred_screening  3.625619e-10  2.607914e-13\n",
       "Predicted_False    5.177372e-04 -2.561754e-04\n",
       "Predicted_True    -6.031734e-03  1.517938e-02"
      ]
     },
     "execution_count": 30,
     "metadata": {},
     "output_type": "execute_result"
    }
   ],
   "source": [
    "p_xy = p_y*(p_x_yz.mean(axis=1)) \n",
    "p_y_x = p_xy / p_x\n",
    "\n",
    "values_KL = p_y_x * np.log(p_y_x / p_y)\n",
    "\n",
    "pd.DataFrame(values_KL.flatten()).transpose().to_csv(\"value_of_info_csv/values_KL_scr.csv\")\n",
    "\n",
    "print(\"Kullback-Leibler Divergence for Screening:\")\n",
    "df_plotted = plot_df(values_KL, net, [\"Results_of_Screening\", \"CRC\"], mod=\"mi\")\n",
    "df_plotted"
   ]
  },
  {
   "cell_type": "markdown",
   "metadata": {},
   "source": [
    "#### **- Colonoscopy**"
   ]
  },
  {
   "cell_type": "code",
   "execution_count": 34,
   "metadata": {},
   "outputs": [
    {
     "name": "stdout",
     "output_type": "stream",
     "text": [
      "Kullback-Leibler Divergence for Colonoscopy:\n"
     ]
    },
    {
     "data": {
      "text/html": [
       "<div>\n",
       "<style scoped>\n",
       "    .dataframe tbody tr th:only-of-type {\n",
       "        vertical-align: middle;\n",
       "    }\n",
       "\n",
       "    .dataframe tbody tr th {\n",
       "        vertical-align: top;\n",
       "    }\n",
       "\n",
       "    .dataframe thead th {\n",
       "        text-align: right;\n",
       "    }\n",
       "</style>\n",
       "<table border=\"1\" class=\"dataframe\">\n",
       "  <thead>\n",
       "    <tr style=\"text-align: right;\">\n",
       "      <th></th>\n",
       "      <th>False</th>\n",
       "      <th>True</th>\n",
       "    </tr>\n",
       "  </thead>\n",
       "  <tbody>\n",
       "    <tr>\n",
       "      <th>no_pred</th>\n",
       "      <td>3.625619e-10</td>\n",
       "      <td>2.607914e-13</td>\n",
       "    </tr>\n",
       "    <tr>\n",
       "      <th>colon_pred_false</th>\n",
       "      <td>6.972315e-04</td>\n",
       "      <td>-7.619659e-05</td>\n",
       "    </tr>\n",
       "    <tr>\n",
       "      <th>colon_pred_true</th>\n",
       "      <td>-6.237472e-02</td>\n",
       "      <td>2.940180e-01</td>\n",
       "    </tr>\n",
       "  </tbody>\n",
       "</table>\n",
       "</div>"
      ],
      "text/plain": [
       "                         False          True\n",
       "no_pred           3.625619e-10  2.607914e-13\n",
       "colon_pred_false  6.972315e-04 -7.619659e-05\n",
       "colon_pred_true  -6.237472e-02  2.940180e-01"
      ]
     },
     "execution_count": 34,
     "metadata": {},
     "output_type": "execute_result"
    }
   ],
   "source": [
    "p_tc = p_c*(p_t_yc.mean(axis=1)) \n",
    "p_c_t = p_tc / p_t\n",
    "\n",
    "values_KL = p_c_t * np.log(p_c_t / p_c)\n",
    "values_KL\n",
    "\n",
    "pd.DataFrame(values_KL.flatten()).transpose().to_csv(\"value_of_info_csv/values_KL_col.csv\")\n",
    "\n",
    "print(\"Kullback-Leibler Divergence for Colonoscopy:\")\n",
    "df_plotted = plot_df(values_KL, net, [\"Results_of_Colonoscopy\", \"CRC\"], mod=\"mi\")\n",
    "df_plotted"
   ]
  },
  {
   "cell_type": "markdown",
   "metadata": {},
   "source": [
    "---\n"
   ]
  },
  {
   "cell_type": "markdown",
   "metadata": {},
   "source": [
    "## **Information gain**"
   ]
  },
  {
   "cell_type": "code",
   "execution_count": 32,
   "metadata": {},
   "outputs": [],
   "source": [
    "net.clear_all_evidence()\n",
    "\n",
    "net.update_beliefs()"
   ]
  },
  {
   "cell_type": "code",
   "execution_count": 33,
   "metadata": {},
   "outputs": [],
   "source": [
    "net.set_evidence(\"CRC\", False)\n",
    "p_CRC_false = net.prob_evidence()\n",
    "\n",
    "net.set_evidence(\"CRC\", True)\n",
    "p_CRC_true = net.prob_evidence()"
   ]
  },
  {
   "cell_type": "code",
   "execution_count": 34,
   "metadata": {},
   "outputs": [],
   "source": [
    "p_r_sc = np.array(net.get_node_definition(\"Results_of_Screening\")).reshape(2,7,3)\n",
    "\n",
    "p_c = np.array([p_CRC_false, p_CRC_true])\n",
    "p_c = np.repeat(p_c, 3).reshape(2,3)"
   ]
  },
  {
   "cell_type": "code",
   "execution_count": 35,
   "metadata": {},
   "outputs": [],
   "source": [
    "sum_p_r_sc = np.array(net.get_node_definition(\"Results_of_Screening\")).reshape(2,7,3).mean(axis = 1)"
   ]
  },
  {
   "cell_type": "code",
   "execution_count": 36,
   "metadata": {},
   "outputs": [
    {
     "data": {
      "text/plain": [
       "array([0.00592105, 0.00592105, 0.00592105])"
      ]
     },
     "execution_count": 36,
     "metadata": {},
     "output_type": "execute_result"
    }
   ],
   "source": [
    "H_c = - (p_c * np.log(p_c)).sum(axis=0)\n",
    "H_c"
   ]
  },
  {
   "cell_type": "code",
   "execution_count": 37,
   "metadata": {},
   "outputs": [
    {
     "data": {
      "text/plain": [
       "array([[9.99281215e-01, 9.99281215e-01, 9.99281215e-01],\n",
       "       [7.18784668e-04, 7.18784668e-04, 7.18784668e-04]])"
      ]
     },
     "execution_count": 37,
     "metadata": {},
     "output_type": "execute_result"
    }
   ],
   "source": [
    "p_c = np.array([p_CRC_false, p_CRC_true])\n",
    "p_c = np.repeat(p_c, 3).reshape(2,3)\n",
    "p_c"
   ]
  },
  {
   "cell_type": "code",
   "execution_count": 38,
   "metadata": {},
   "outputs": [
    {
     "data": {
      "text/plain": [
       "array([[0.14285714, 0.78959101, 0.06755185],\n",
       "       [0.14285714, 0.78959101, 0.06755185]])"
      ]
     },
     "execution_count": 38,
     "metadata": {},
     "output_type": "execute_result"
    }
   ],
   "source": [
    "arr = np.repeat((p_c * sum_p_r_sc).sum(axis = 0),2).reshape(3,2).transpose()\n",
    "arr "
   ]
  },
  {
   "cell_type": "code",
   "execution_count": 39,
   "metadata": {},
   "outputs": [
    {
     "data": {
      "text/plain": [
       "array([[9.99281215e-01, 9.99798818e-01, 9.93231129e-01],\n",
       "       [7.18784669e-04, 2.01181890e-04, 6.76887106e-03]])"
      ]
     },
     "execution_count": 39,
     "metadata": {},
     "output_type": "execute_result"
    }
   ],
   "source": [
    "t1 = (p_c * sum_p_r_sc) / arr\n",
    "t1"
   ]
  },
  {
   "cell_type": "code",
   "execution_count": 40,
   "metadata": {},
   "outputs": [
    {
     "data": {
      "text/plain": [
       "array([0.00592105, 0.00191348, 0.04055927])"
      ]
     },
     "execution_count": 40,
     "metadata": {},
     "output_type": "execute_result"
    }
   ],
   "source": [
    "H_c_r = -(t1*np.log(t1)).sum(axis = 0)\n",
    "H_c_r"
   ]
  },
  {
   "cell_type": "code",
   "execution_count": 41,
   "metadata": {},
   "outputs": [
    {
     "data": {
      "text/plain": [
       "array([ 3.60674369e-10,  4.00757193e-03, -3.46382175e-02])"
      ]
     },
     "execution_count": 41,
     "metadata": {},
     "output_type": "execute_result"
    }
   ],
   "source": [
    "H_c - H_c_r"
   ]
  },
  {
   "cell_type": "markdown",
   "metadata": {},
   "source": [
    "### Other alternatives"
   ]
  },
  {
   "cell_type": "markdown",
   "metadata": {},
   "source": [
    "#### Brier score"
   ]
  },
  {
   "cell_type": "code",
   "execution_count": 42,
   "metadata": {},
   "outputs": [],
   "source": [
    "df = pd.read_csv(\"df_2016.csv\")\n",
    "\n",
    "try:\n",
    "    df.drop(columns = [\"Medication\", \"año_reco\", \"fpi\", \"Unnamed: 0\"], inplace = True)\n",
    "except:\n",
    "    df = df\n",
    "\n",
    "try:\n",
    "    df = df[(df[\"Age\"] != \"1_very_young\") & (df[\"Age\"] != \"6_elderly\")].copy()\n",
    "except:\n",
    "    df = df\n",
    "\n",
    "try:\n",
    "    df.rename(columns={\"Hyperchol.\": \"Hyperchol_\"}, inplace = True)\n",
    "except:\n",
    "    df = df\n"
   ]
  },
  {
   "cell_type": "markdown",
   "metadata": {},
   "source": [
    "The following code uses the information for each patient together with the prediction of the screening method (considering randomness in the method, that is, the possibility of making mistakes in the diagnosis) to predict CRC. The motivation is that knowing the screening result could help better diagnosing the patient. However, the task might be difficult due to the class imbalance and thus the probability of a false result being very high. The classification results seem to increase the sensitivity (great) but reduce the specificity (not so great).\n",
    "\n",
    "Would a slightly different framework aid?? Perhaps performing a colonoscopy after the screening would better the results."
   ]
  },
  {
   "cell_type": "markdown",
   "metadata": {},
   "source": [
    "---\n",
    "Original method: Just use patient data"
   ]
  },
  {
   "cell_type": "code",
   "execution_count": 43,
   "metadata": {},
   "outputs": [
    {
     "ename": "KeyboardInterrupt",
     "evalue": "",
     "output_type": "error",
     "traceback": [
      "\u001b[1;31m---------------------------------------------------------------------------\u001b[0m",
      "\u001b[1;31mKeyboardInterrupt\u001b[0m                         Traceback (most recent call last)",
      "Cell \u001b[1;32mIn[43], line 16\u001b[0m\n\u001b[0;32m     12\u001b[0m     net\u001b[38;5;241m.\u001b[39mset_evidence(keys,values)\n\u001b[0;32m     14\u001b[0m net\u001b[38;5;241m.\u001b[39mupdate_beliefs()\n\u001b[1;32m---> 16\u001b[0m crc_probs \u001b[38;5;241m=\u001b[39m \u001b[43mnet\u001b[49m\u001b[38;5;241;43m.\u001b[39;49m\u001b[43mget_node_value\u001b[49m\u001b[43m(\u001b[49m\u001b[38;5;124;43m\"\u001b[39;49m\u001b[38;5;124;43mCRC\u001b[39;49m\u001b[38;5;124;43m\"\u001b[39;49m\u001b[43m)\u001b[49m\n\u001b[0;32m     18\u001b[0m y_prob_pred\u001b[38;5;241m.\u001b[39mappend(crc_probs[\u001b[38;5;241m1\u001b[39m])\n",
      "\u001b[1;31mKeyboardInterrupt\u001b[0m: "
     ]
    }
   ],
   "source": [
    "net.clear_all_evidence()\n",
    "\n",
    "y_prob_pred = []\n",
    "\n",
    "for i in range(df.shape[0]):\n",
    "   \n",
    "    sample = df.iloc[i].drop(labels = [\"CRC\"])\n",
    "\n",
    "    sample_dict = sample.to_dict() \n",
    "\n",
    "    for keys, values in sample_dict.items():\n",
    "        net.set_evidence(keys,values)\n",
    "\n",
    "    net.update_beliefs()\n",
    "\n",
    "    crc_probs = net.get_node_value(\"CRC\")\n",
    "\n",
    "    y_prob_pred.append(crc_probs[1])"
   ]
  },
  {
   "cell_type": "code",
   "execution_count": null,
   "metadata": {},
   "outputs": [],
   "source": [
    "import numpy as np\n",
    "from sklearn.metrics import confusion_matrix, ConfusionMatrixDisplay, roc_curve, RocCurveDisplay, PrecisionRecallDisplay, fbeta_score, brier_score_loss\n",
    "from sklearn.metrics import classification_report\n",
    "import matplotlib.pyplot as plt\n",
    "from scipy.stats.mstats import gmean\n",
    "\n",
    "from sklearn.calibration import calibration_curve, CalibrationDisplay\n",
    "\n",
    "\n",
    "def evaluate(df_test, test_var, y_prob_pred, weights = [[1],[1]], ):\n",
    "\n",
    "    g_means_iter = []\n",
    "    sensitivity_iter = []\n",
    "    specificity_iter = []\n",
    "    brier_score = []\n",
    "\n",
    "\n",
    "    test_var = \"CRC\"\n",
    "    # df_test = df\n",
    "\n",
    "    fpr, tpr, thresholds = roc_curve(list(df_test[test_var]*1), y_prob_pred)\n",
    "    # calculate the g-mean for each threshold\n",
    "    gmeans = gmean( [tpr, 1-fpr], axis = 0, weights=weights)\n",
    "    # locate the index of the largest g-mean\n",
    "    ix = np.argmax(gmeans)\n",
    "    print('Best Threshold=%f, G-Mean=%.3f' % (thresholds[ix], gmeans[ix]))\n",
    "\n",
    "    g_means_iter.append(gmeans[ix])\n",
    "\n",
    "\n",
    "    y_pred = np.where(y_prob_pred > thresholds[ix], 1, 0)\n",
    "\n",
    "    beta = 2\n",
    "    fbeta = fbeta_score(list(df_test[test_var]*1), y_pred, beta=beta)\n",
    "    print(f\"F_{beta} score =\", fbeta)\n",
    "\n",
    "    roc_display = RocCurveDisplay.from_predictions(list(df_test[test_var]*1), y_prob_pred)\n",
    "\n",
    "\n",
    "    conf_mat = confusion_matrix(list(df_test[test_var]), y_pred)\n",
    "    disp = ConfusionMatrixDisplay(conf_mat, display_labels=np.array(sorted(set(df_test[test_var]*1))) )\n",
    "    disp.plot()\n",
    "\n",
    "    brier_score.append(brier_score_loss(list(df_test[test_var]*1), y_prob_pred))\n",
    "\n",
    "    print(\"Brier loss:\", brier_score_loss(list(df_test[test_var]*1), y_prob_pred))\n",
    "\n",
    "\n",
    "    prob_true, prob_pred = calibration_curve(list(df_test[test_var]*1), y_prob_pred, n_bins = 10, strategy=\"quantile\")\n",
    "    disp = CalibrationDisplay(prob_true, prob_pred, y_prob_pred)\n",
    "    disp.plot(name = test_var)\n",
    "\n",
    "    plt.xlim([0, max(max(prob_pred), max(prob_true))])  #CRC: 0.005, Diabetes: 0.25\n",
    "    plt.ylim([0, max(max(prob_pred), max(prob_true))])\n",
    "\n",
    "    dashed =  len(df_test[df_test[test_var] == True]) / len(df_test)\n",
    "    plt.axvline(x=dashed, linestyle = '--', color='gray') \n",
    "\n",
    "    # Show the modified plot\n",
    "    plt.title(f\"Calibration plot for {test_var}\")\n",
    "    plt.show()\n",
    "\n",
    "    report = classification_report(list(df_test[test_var]*1), y_pred, output_dict=True)\n",
    "\n",
    "    print(classification_report(list(df_test[test_var]*1), y_pred))\n",
    "\n",
    "    sensitivity_iter.append(report[\"1\"][\"recall\"])\n",
    "    specificity_iter.append(report[\"0\"][\"recall\"])\n",
    "\n",
    "    return y_pred, tpr, fpr, thresholds"
   ]
  },
  {
   "cell_type": "code",
   "execution_count": null,
   "metadata": {},
   "outputs": [
    {
     "name": "stdout",
     "output_type": "stream",
     "text": [
      "Best Threshold=0.000836, G-Mean=0.705\n",
      "F_2 score = 0.007614500478478746\n"
     ]
    },
    {
     "name": "stdout",
     "output_type": "stream",
     "text": [
      "Brier loss: 0.0006410318746597882\n"
     ]
    },
    {
     "data": {
      "image/png": "[encoded data removed]",
      "text/plain": [
       "<Figure size 640x480 with 1 Axes>"
      ]
     },
     "metadata": {},
     "output_type": "display_data"
    },
    {
     "data": {
      "image/png": "[encoded data removed]",
      "text/plain": [
       "<Figure size 640x480 with 2 Axes>"
      ]
     },
     "metadata": {},
     "output_type": "display_data"
    },
    {
     "data": {
      "image/png": "[encoded data removed]",
      "text/plain": [
       "<Figure size 640x480 with 1 Axes>"
      ]
     },
     "metadata": {},
     "output_type": "display_data"
    },
    {
     "name": "stdout",
     "output_type": "stream",
     "text": [
      "              precision    recall  f1-score   support\n",
      "\n",
      "           0       1.00      0.72      0.83    339489\n",
      "           1       0.00      0.68      0.00       218\n",
      "\n",
      "    accuracy                           0.72    339707\n",
      "   macro avg       0.50      0.70      0.42    339707\n",
      "weighted avg       1.00      0.72      0.83    339707\n",
      "\n"
     ]
    }
   ],
   "source": [
    "y_pred, tpr, fpr, thresholds = evaluate(df_test = df, test_var = \"CRC\", y_prob_pred=y_prob_pred, weights=[[1],[1]])"
   ]
  },
  {
   "cell_type": "code",
   "execution_count": null,
   "metadata": {},
   "outputs": [],
   "source": [
    "def find_thr_sens(df, test_var, y_prob_pred, tpr, fpr, thresholds, minimum_sensitivity):\n",
    "    g_means_iter = []\n",
    "\n",
    "\n",
    "    for i in [1,1.5,2,5,10,20,40,80,160]:\n",
    "\n",
    "        gmeans = gmean( [tpr, 1-fpr], axis = 0, weights=[[i], [1]])\n",
    "        # locate the index of the largest g-mean\n",
    "        ix = np.argmax(gmeans)\n",
    "        print('Best Threshold=%f, G-Mean=%.3f' % (thresholds[ix], gmeans[ix]))\n",
    "\n",
    "        g_means_iter.append(gmeans[ix])\n",
    "\n",
    "\n",
    "        y_pred = np.where(y_prob_pred > thresholds[ix], 1, 0)\n",
    "\n",
    "        report = classification_report(list(df[test_var]*1), y_pred, output_dict=True)\n",
    "\n",
    "        print(\"Weight =\", i)\n",
    "        print(\"Sensitivity:\", report[\"1\"][\"recall\"])\n",
    "        print(\"Specificity:\", report[\"0\"][\"recall\"])\n",
    "        print(\"----------\")\n",
    "\n",
    "        if minimum_sensitivity < report[\"1\"][\"recall\"]:\n",
    "            print(\"Sensitivity:\", report[\"1\"][\"recall\"])\n",
    "            print(\"Specificity:\", report[\"0\"][\"recall\"])\n",
    "\n",
    "            print(\"Threshold:\", thresholds[ix])\n",
    "            return y_pred, thresholds[ix]\n",
    "        \n",
    "    \n",
    "    return y_pred, thresholds[ix]\n",
    "    "
   ]
  },
  {
   "cell_type": "code",
   "execution_count": null,
   "metadata": {},
   "outputs": [
    {
     "name": "stdout",
     "output_type": "stream",
     "text": [
      "Best Threshold=0.000836, G-Mean=0.705\n"
     ]
    },
    {
     "name": "stdout",
     "output_type": "stream",
     "text": [
      "Weight = 1\n",
      "Sensitivity: 0.6788990825688074\n",
      "Specificity: 0.7167419268370993\n",
      "----------\n",
      "Best Threshold=0.000717, G-Mean=0.720\n",
      "Weight = 1.5\n",
      "Sensitivity: 0.7889908256880734\n",
      "Specificity: 0.6220407730441929\n",
      "----------\n",
      "Best Threshold=0.000717, G-Mean=0.732\n",
      "Weight = 2\n",
      "Sensitivity: 0.7889908256880734\n",
      "Specificity: 0.6220407730441929\n",
      "----------\n",
      "Best Threshold=0.000253, G-Mean=0.778\n",
      "Weight = 5\n",
      "Sensitivity: 0.8440366972477065\n",
      "Specificity: 0.5118722550657017\n",
      "----------\n",
      "Best Threshold=0.000195, G-Mean=0.846\n",
      "Weight = 10\n",
      "Sensitivity: 0.9403669724770642\n",
      "Specificity: 0.28680752542792254\n",
      "----------\n",
      "Sensitivity: 0.9403669724770642\n",
      "Specificity: 0.28680752542792254\n",
      "Threshold: 0.00019494499999999997\n"
     ]
    }
   ],
   "source": [
    "y_pred, thr = find_thr_sens(df, \"CRC\", y_prob_pred, tpr, fpr, thresholds, minimum_sensitivity = 0.9)"
   ]
  },
  {
   "cell_type": "code",
   "execution_count": null,
   "metadata": {},
   "outputs": [
    {
     "data": {
      "text/html": [
       "<div>\n",
       "<style scoped>\n",
       "    .dataframe tbody tr th:only-of-type {\n",
       "        vertical-align: middle;\n",
       "    }\n",
       "\n",
       "    .dataframe tbody tr th {\n",
       "        vertical-align: top;\n",
       "    }\n",
       "\n",
       "    .dataframe thead th {\n",
       "        text-align: right;\n",
       "    }\n",
       "</style>\n",
       "<table border=\"1\" class=\"dataframe\">\n",
       "  <thead>\n",
       "    <tr style=\"text-align: right;\">\n",
       "      <th></th>\n",
       "      <th>Age</th>\n",
       "      <th>Sex</th>\n",
       "      <th>BMI</th>\n",
       "      <th>Alcohol</th>\n",
       "      <th>Smoking</th>\n",
       "      <th>PA</th>\n",
       "      <th>Depression</th>\n",
       "      <th>Anxiety</th>\n",
       "      <th>Diabetes</th>\n",
       "      <th>Hypertension</th>\n",
       "      <th>Hyperchol_</th>\n",
       "      <th>SD</th>\n",
       "      <th>SES</th>\n",
       "      <th>CRC</th>\n",
       "    </tr>\n",
       "  </thead>\n",
       "  <tbody>\n",
       "    <tr>\n",
       "      <th>14</th>\n",
       "      <td>age_3_young_adult</td>\n",
       "      <td>M</td>\n",
       "      <td>bmi_4_obese</td>\n",
       "      <td>low</td>\n",
       "      <td>sm_2_smoker</td>\n",
       "      <td>PA_1</td>\n",
       "      <td>False</td>\n",
       "      <td>False</td>\n",
       "      <td>False</td>\n",
       "      <td>False</td>\n",
       "      <td>True</td>\n",
       "      <td>SD_2_normal</td>\n",
       "      <td>ses_2</td>\n",
       "      <td>False</td>\n",
       "    </tr>\n",
       "    <tr>\n",
       "      <th>18</th>\n",
       "      <td>age_2_young</td>\n",
       "      <td>W</td>\n",
       "      <td>bmi_2_normal</td>\n",
       "      <td>low</td>\n",
       "      <td>sm_1_not_smoker</td>\n",
       "      <td>PA_2</td>\n",
       "      <td>False</td>\n",
       "      <td>True</td>\n",
       "      <td>False</td>\n",
       "      <td>False</td>\n",
       "      <td>False</td>\n",
       "      <td>SD_2_normal</td>\n",
       "      <td>ses_1</td>\n",
       "      <td>False</td>\n",
       "    </tr>\n",
       "    <tr>\n",
       "      <th>22</th>\n",
       "      <td>age_4_adult</td>\n",
       "      <td>M</td>\n",
       "      <td>bmi_3_overweight</td>\n",
       "      <td>low</td>\n",
       "      <td>sm_3_ex_smoker</td>\n",
       "      <td>PA_1</td>\n",
       "      <td>False</td>\n",
       "      <td>False</td>\n",
       "      <td>True</td>\n",
       "      <td>False</td>\n",
       "      <td>True</td>\n",
       "      <td>SD_1_short</td>\n",
       "      <td>ses_2</td>\n",
       "      <td>False</td>\n",
       "    </tr>\n",
       "    <tr>\n",
       "      <th>30</th>\n",
       "      <td>age_4_adult</td>\n",
       "      <td>W</td>\n",
       "      <td>bmi_3_overweight</td>\n",
       "      <td>low</td>\n",
       "      <td>sm_2_smoker</td>\n",
       "      <td>PA_1</td>\n",
       "      <td>False</td>\n",
       "      <td>False</td>\n",
       "      <td>False</td>\n",
       "      <td>False</td>\n",
       "      <td>True</td>\n",
       "      <td>SD_2_normal</td>\n",
       "      <td>ses_2</td>\n",
       "      <td>False</td>\n",
       "    </tr>\n",
       "    <tr>\n",
       "      <th>32</th>\n",
       "      <td>age_5_old_adult</td>\n",
       "      <td>W</td>\n",
       "      <td>bmi_2_normal</td>\n",
       "      <td>low</td>\n",
       "      <td>sm_2_smoker</td>\n",
       "      <td>PA_1</td>\n",
       "      <td>False</td>\n",
       "      <td>False</td>\n",
       "      <td>False</td>\n",
       "      <td>False</td>\n",
       "      <td>True</td>\n",
       "      <td>SD_1_short</td>\n",
       "      <td>ses_1</td>\n",
       "      <td>False</td>\n",
       "    </tr>\n",
       "  </tbody>\n",
       "</table>\n",
       "</div>"
      ],
      "text/plain": [
       "                  Age Sex               BMI Alcohol          Smoking    PA  \\\n",
       "14  age_3_young_adult   M       bmi_4_obese     low      sm_2_smoker  PA_1   \n",
       "18        age_2_young   W      bmi_2_normal     low  sm_1_not_smoker  PA_2   \n",
       "22        age_4_adult   M  bmi_3_overweight     low   sm_3_ex_smoker  PA_1   \n",
       "30        age_4_adult   W  bmi_3_overweight     low      sm_2_smoker  PA_1   \n",
       "32    age_5_old_adult   W      bmi_2_normal     low      sm_2_smoker  PA_1   \n",
       "\n",
       "    Depression  Anxiety  Diabetes  Hypertension  Hyperchol_           SD  \\\n",
       "14       False    False     False         False        True  SD_2_normal   \n",
       "18       False     True     False         False       False  SD_2_normal   \n",
       "22       False    False      True         False        True   SD_1_short   \n",
       "30       False    False     False         False        True  SD_2_normal   \n",
       "32       False    False     False         False        True   SD_1_short   \n",
       "\n",
       "      SES    CRC  \n",
       "14  ses_2  False  \n",
       "18  ses_1  False  \n",
       "22  ses_2  False  \n",
       "30  ses_2  False  \n",
       "32  ses_1  False  "
      ]
     },
     "execution_count": 143,
     "metadata": {},
     "output_type": "execute_result"
    }
   ],
   "source": [
    "df[ df[\"CRC\"] == y_pred].head()"
   ]
  },
  {
   "cell_type": "code",
   "execution_count": null,
   "metadata": {},
   "outputs": [
    {
     "data": {
      "text/html": [
       "<div>\n",
       "<style scoped>\n",
       "    .dataframe tbody tr th:only-of-type {\n",
       "        vertical-align: middle;\n",
       "    }\n",
       "\n",
       "    .dataframe tbody tr th {\n",
       "        vertical-align: top;\n",
       "    }\n",
       "\n",
       "    .dataframe thead th {\n",
       "        text-align: right;\n",
       "    }\n",
       "</style>\n",
       "<table border=\"1\" class=\"dataframe\">\n",
       "  <thead>\n",
       "    <tr style=\"text-align: right;\">\n",
       "      <th></th>\n",
       "      <th>Age</th>\n",
       "      <th>Sex</th>\n",
       "      <th>BMI</th>\n",
       "      <th>Alcohol</th>\n",
       "      <th>Smoking</th>\n",
       "      <th>PA</th>\n",
       "      <th>Depression</th>\n",
       "      <th>Anxiety</th>\n",
       "      <th>Diabetes</th>\n",
       "      <th>Hypertension</th>\n",
       "      <th>Hyperchol_</th>\n",
       "      <th>SD</th>\n",
       "      <th>SES</th>\n",
       "      <th>CRC</th>\n",
       "    </tr>\n",
       "  </thead>\n",
       "  <tbody>\n",
       "    <tr>\n",
       "      <th>0</th>\n",
       "      <td>age_3_young_adult</td>\n",
       "      <td>M</td>\n",
       "      <td>bmi_3_overweight</td>\n",
       "      <td>low</td>\n",
       "      <td>sm_1_not_smoker</td>\n",
       "      <td>PA_2</td>\n",
       "      <td>False</td>\n",
       "      <td>False</td>\n",
       "      <td>False</td>\n",
       "      <td>False</td>\n",
       "      <td>False</td>\n",
       "      <td>SD_2_normal</td>\n",
       "      <td>ses_1</td>\n",
       "      <td>False</td>\n",
       "    </tr>\n",
       "    <tr>\n",
       "      <th>1</th>\n",
       "      <td>age_4_adult</td>\n",
       "      <td>M</td>\n",
       "      <td>bmi_3_overweight</td>\n",
       "      <td>low</td>\n",
       "      <td>sm_2_smoker</td>\n",
       "      <td>PA_1</td>\n",
       "      <td>False</td>\n",
       "      <td>False</td>\n",
       "      <td>False</td>\n",
       "      <td>False</td>\n",
       "      <td>False</td>\n",
       "      <td>SD_2_normal</td>\n",
       "      <td>ses_1</td>\n",
       "      <td>False</td>\n",
       "    </tr>\n",
       "    <tr>\n",
       "      <th>2</th>\n",
       "      <td>age_5_old_adult</td>\n",
       "      <td>M</td>\n",
       "      <td>bmi_4_obese</td>\n",
       "      <td>low</td>\n",
       "      <td>sm_3_ex_smoker</td>\n",
       "      <td>PA_2</td>\n",
       "      <td>False</td>\n",
       "      <td>False</td>\n",
       "      <td>False</td>\n",
       "      <td>True</td>\n",
       "      <td>False</td>\n",
       "      <td>SD_2_normal</td>\n",
       "      <td>ses_1</td>\n",
       "      <td>False</td>\n",
       "    </tr>\n",
       "    <tr>\n",
       "      <th>3</th>\n",
       "      <td>age_4_adult</td>\n",
       "      <td>M</td>\n",
       "      <td>bmi_2_normal</td>\n",
       "      <td>low</td>\n",
       "      <td>sm_1_not_smoker</td>\n",
       "      <td>PA_2</td>\n",
       "      <td>False</td>\n",
       "      <td>False</td>\n",
       "      <td>False</td>\n",
       "      <td>False</td>\n",
       "      <td>False</td>\n",
       "      <td>SD_2_normal</td>\n",
       "      <td>ses_1</td>\n",
       "      <td>False</td>\n",
       "    </tr>\n",
       "    <tr>\n",
       "      <th>4</th>\n",
       "      <td>age_3_young_adult</td>\n",
       "      <td>M</td>\n",
       "      <td>bmi_3_overweight</td>\n",
       "      <td>low</td>\n",
       "      <td>sm_1_not_smoker</td>\n",
       "      <td>PA_1</td>\n",
       "      <td>False</td>\n",
       "      <td>False</td>\n",
       "      <td>False</td>\n",
       "      <td>False</td>\n",
       "      <td>False</td>\n",
       "      <td>SD_2_normal</td>\n",
       "      <td>ses_1</td>\n",
       "      <td>False</td>\n",
       "    </tr>\n",
       "  </tbody>\n",
       "</table>\n",
       "</div>"
      ],
      "text/plain": [
       "                 Age Sex               BMI Alcohol          Smoking    PA  \\\n",
       "0  age_3_young_adult   M  bmi_3_overweight     low  sm_1_not_smoker  PA_2   \n",
       "1        age_4_adult   M  bmi_3_overweight     low      sm_2_smoker  PA_1   \n",
       "2    age_5_old_adult   M       bmi_4_obese     low   sm_3_ex_smoker  PA_2   \n",
       "3        age_4_adult   M      bmi_2_normal     low  sm_1_not_smoker  PA_2   \n",
       "4  age_3_young_adult   M  bmi_3_overweight     low  sm_1_not_smoker  PA_1   \n",
       "\n",
       "   Depression  Anxiety  Diabetes  Hypertension  Hyperchol_           SD  \\\n",
       "0       False    False     False         False       False  SD_2_normal   \n",
       "1       False    False     False         False       False  SD_2_normal   \n",
       "2       False    False     False          True       False  SD_2_normal   \n",
       "3       False    False     False         False       False  SD_2_normal   \n",
       "4       False    False     False         False       False  SD_2_normal   \n",
       "\n",
       "     SES    CRC  \n",
       "0  ses_1  False  \n",
       "1  ses_1  False  \n",
       "2  ses_1  False  \n",
       "3  ses_1  False  \n",
       "4  ses_1  False  "
      ]
     },
     "execution_count": 145,
     "metadata": {},
     "output_type": "execute_result"
    }
   ],
   "source": [
    "df_to_screen = df[ df[\"CRC\"] != y_pred ].reset_index(drop = True)\n",
    "df_to_screen.head()"
   ]
  },
  {
   "cell_type": "markdown",
   "metadata": {},
   "source": [
    "---\n",
    "Option #1: Do Colonoscopy for FIT positive"
   ]
  },
  {
   "cell_type": "code",
   "execution_count": null,
   "metadata": {},
   "outputs": [],
   "source": [
    "net.clear_all_evidence()\n",
    "net.set_evidence(\"Screening\", \"FIT\")\n",
    "\n",
    "y_prob_pred = []\n",
    "\n",
    "for i in range(df_to_screen.shape[0]):\n",
    "    net.clear_evidence(\"Results_of_Screening\")\n",
    "    net.clear_evidence(\"Results_of_Colonoscopy\")\n",
    "    net.clear_evidence(\"Colonoscopy\")\n",
    "   \n",
    "    sample = df_to_screen.iloc[i].drop(labels = [\"CRC\"])\n",
    "\n",
    "    sample_dict = sample.to_dict() \n",
    "\n",
    "    for keys, values in sample_dict.items():\n",
    "        net.set_evidence(keys,values)\n",
    "\n",
    "    net.update_beliefs()\n",
    "    \n",
    "    # Get probabilities of predicting or not CRC, choose one randomly using these probs\n",
    "    scr_result_probs = net.get_node_value(\"Results_of_Screening\")\n",
    "\n",
    "    # Note that there is randomness in the method\n",
    "    random_number = np.random.rand()\n",
    "\n",
    "    # Step 2: Determine the category based on cumulative probabilities\n",
    "    cumulative_probabilities = np.cumsum(scr_result_probs)\n",
    "    category = np.argmax(cumulative_probabilities > random_number)\n",
    "\n",
    "    net.set_evidence(\"Results_of_Screening\", category)\n",
    "\n",
    "    if category == 2: # Do a colonoscopy if result of FIT is positive\n",
    "        \n",
    "        net.set_evidence(\"Colonoscopy\", \"Colonoscopy\")\n",
    "\n",
    "        net.update_beliefs()\n",
    "        \n",
    "        col_result_probs = net.get_node_value(\"Results_of_Colonoscopy\")\n",
    "        random_number = np.random.rand()\n",
    "\n",
    "        # Step 2: Determine the category based on cumulative probabilities\n",
    "        cumulative_probabilities = np.cumsum(col_result_probs)\n",
    "        category = np.argmax(cumulative_probabilities > random_number)\n",
    "\n",
    "        net.set_evidence(\"Results_of_Colonoscopy\", category)\n",
    "\n",
    "    elif category == 1:\n",
    "        net.set_evidence(\"Colonoscopy\", \"No_Colonoscopy\")\n",
    "\n",
    "        net.update_beliefs()\n",
    "        \n",
    "        col_result_probs = net.get_node_value(\"Results_of_Colonoscopy\")\n",
    "        random_number = np.random.rand()\n",
    "\n",
    "        # Step 2: Determine the category based on cumulative probabilities\n",
    "        cumulative_probabilities = np.cumsum(col_result_probs)\n",
    "        category = np.argmax(cumulative_probabilities > random_number)\n",
    "\n",
    "        net.set_evidence(\"Results_of_Colonoscopy\", category)\n",
    "\n",
    "    net.update_beliefs()\n",
    "\n",
    "    crc_probs = net.get_node_value(\"CRC\")\n",
    "\n",
    "    y_prob_pred.append(crc_probs[1])\n"
   ]
  },
  {
   "cell_type": "code",
   "execution_count": null,
   "metadata": {},
   "outputs": [
    {
     "name": "stdout",
     "output_type": "stream",
     "text": [
      "Best Threshold=inf, G-Mean=0.000\n",
      "F_2 score = 0.0\n"
     ]
    },
    {
     "name": "stdout",
     "output_type": "stream",
     "text": [
      "Brier loss: 0.0006307265781291622\n"
     ]
    },
    {
     "data": {
      "image/png": "[encoded data removed]",
      "text/plain": [
       "<Figure size 640x480 with 1 Axes>"
      ]
     },
     "metadata": {},
     "output_type": "display_data"
    },
    {
     "data": {
      "image/png": "[encoded data removed]",
      "text/plain": [
       "<Figure size 640x480 with 2 Axes>"
      ]
     },
     "metadata": {},
     "output_type": "display_data"
    },
    {
     "data": {
      "image/png": "[encoded data removed]",
      "text/plain": [
       "<Figure size 640x480 with 1 Axes>"
      ]
     },
     "metadata": {},
     "output_type": "display_data"
    },
    {
     "name": "stderr",
     "output_type": "stream",
     "text": [
      "c:\\Users\\danie\\AppData\\Local\\Programs\\Python\\Python311\\Lib\\site-packages\\sklearn\\metrics\\_classification.py:1509: UndefinedMetricWarning: Precision is ill-defined and being set to 0.0 in labels with no predicted samples. Use `zero_division` parameter to control this behavior.\n",
      "  _warn_prf(average, modifier, f\"{metric.capitalize()} is\", len(result))\n",
      "c:\\Users\\danie\\AppData\\Local\\Programs\\Python\\Python311\\Lib\\site-packages\\sklearn\\metrics\\_classification.py:1509: UndefinedMetricWarning: Precision is ill-defined and being set to 0.0 in labels with no predicted samples. Use `zero_division` parameter to control this behavior.\n",
      "  _warn_prf(average, modifier, f\"{metric.capitalize()} is\", len(result))\n",
      "c:\\Users\\danie\\AppData\\Local\\Programs\\Python\\Python311\\Lib\\site-packages\\sklearn\\metrics\\_classification.py:1509: UndefinedMetricWarning: Precision is ill-defined and being set to 0.0 in labels with no predicted samples. Use `zero_division` parameter to control this behavior.\n",
      "  _warn_prf(average, modifier, f\"{metric.capitalize()} is\", len(result))\n",
      "c:\\Users\\danie\\AppData\\Local\\Programs\\Python\\Python311\\Lib\\site-packages\\sklearn\\metrics\\_classification.py:1509: UndefinedMetricWarning: Precision is ill-defined and being set to 0.0 in labels with no predicted samples. Use `zero_division` parameter to control this behavior.\n",
      "  _warn_prf(average, modifier, f\"{metric.capitalize()} is\", len(result))\n"
     ]
    },
    {
     "name": "stdout",
     "output_type": "stream",
     "text": [
      "              precision    recall  f1-score   support\n",
      "\n",
      "           0       1.00      1.00      1.00    242121\n",
      "           1       0.00      0.00      0.00        13\n",
      "\n",
      "    accuracy                           1.00    242134\n",
      "   macro avg       0.50      0.50      0.50    242134\n",
      "weighted avg       1.00      1.00      1.00    242134\n",
      "\n"
     ]
    },
    {
     "name": "stderr",
     "output_type": "stream",
     "text": [
      "c:\\Users\\danie\\AppData\\Local\\Programs\\Python\\Python311\\Lib\\site-packages\\sklearn\\metrics\\_classification.py:1509: UndefinedMetricWarning: Precision is ill-defined and being set to 0.0 in labels with no predicted samples. Use `zero_division` parameter to control this behavior.\n",
      "  _warn_prf(average, modifier, f\"{metric.capitalize()} is\", len(result))\n",
      "c:\\Users\\danie\\AppData\\Local\\Programs\\Python\\Python311\\Lib\\site-packages\\sklearn\\metrics\\_classification.py:1509: UndefinedMetricWarning: Precision is ill-defined and being set to 0.0 in labels with no predicted samples. Use `zero_division` parameter to control this behavior.\n",
      "  _warn_prf(average, modifier, f\"{metric.capitalize()} is\", len(result))\n"
     ]
    },
    {
     "data": {
      "text/plain": [
       "(array([0, 0, 0, ..., 0, 0, 0]),\n",
       " array([0.        , 0.        , 0.        , 0.        , 0.        ,\n",
       "        0.        , 0.        , 0.        , 0.        , 0.        ,\n",
       "        0.        , 0.        , 0.        , 0.        , 0.        ,\n",
       "        0.        , 0.        , 0.        , 0.        , 0.        ,\n",
       "        0.        , 0.        , 0.        , 0.        , 0.        ,\n",
       "        0.        , 0.        , 0.        , 0.        , 0.        ,\n",
       "        0.        , 0.        , 0.        , 0.        , 0.        ,\n",
       "        0.        , 0.        , 0.        , 0.        , 0.        ,\n",
       "        0.        , 0.        , 0.        , 0.        , 0.        ,\n",
       "        0.        , 0.        , 0.        , 0.        , 0.        ,\n",
       "        0.        , 0.        , 0.        , 0.        , 0.        ,\n",
       "        0.        , 0.        , 0.        , 0.        , 0.        ,\n",
       "        0.        , 0.        , 0.        , 0.        , 0.        ,\n",
       "        0.        , 0.        , 0.        , 0.        , 0.        ,\n",
       "        0.        , 0.        , 0.        , 0.        , 0.        ,\n",
       "        0.        , 0.        , 0.        , 0.        , 0.        ,\n",
       "        0.        , 0.        , 0.        , 0.        , 0.        ,\n",
       "        0.        , 0.        , 0.        , 0.        , 0.        ,\n",
       "        0.        , 0.        , 0.        , 0.        , 0.        ,\n",
       "        0.        , 0.        , 0.        , 0.        , 0.        ,\n",
       "        0.        , 0.        , 0.        , 0.        , 0.        ,\n",
       "        0.        , 0.        , 0.        , 0.        , 0.        ,\n",
       "        0.        , 0.        , 0.        , 0.        , 0.        ,\n",
       "        0.        , 0.        , 0.        , 0.        , 0.        ,\n",
       "        0.        , 0.        , 0.        , 0.        , 0.        ,\n",
       "        0.        , 0.        , 0.        , 0.        , 0.        ,\n",
       "        0.        , 0.        , 0.        , 0.        , 0.        ,\n",
       "        0.        , 0.        , 0.        , 0.        , 0.        ,\n",
       "        0.        , 0.        , 0.        , 0.        , 0.        ,\n",
       "        0.        , 0.        , 0.        , 0.        , 0.        ,\n",
       "        0.        , 0.        , 0.        , 0.        , 0.        ,\n",
       "        0.        , 0.        , 0.        , 0.        , 0.        ,\n",
       "        0.        , 0.        , 0.        , 0.        , 0.        ,\n",
       "        0.        , 0.        , 0.        , 0.        , 0.        ,\n",
       "        0.        , 0.        , 0.        , 0.        , 0.        ,\n",
       "        0.        , 0.        , 0.        , 0.        , 0.        ,\n",
       "        0.        , 0.        , 0.        , 0.        , 0.        ,\n",
       "        0.        , 0.        , 0.        , 0.        , 0.        ,\n",
       "        0.        , 0.        , 0.        , 0.        , 0.        ,\n",
       "        0.        , 0.        , 0.        , 0.        , 0.        ,\n",
       "        0.        , 0.        , 0.        , 0.        , 0.        ,\n",
       "        0.        , 0.        , 0.        , 0.        , 0.        ,\n",
       "        0.        , 0.        , 0.        , 0.        , 0.        ,\n",
       "        0.        , 0.        , 0.        , 0.        , 0.        ,\n",
       "        0.        , 0.        , 0.        , 0.        , 0.        ,\n",
       "        0.        , 0.        , 0.        , 0.        , 0.        ,\n",
       "        0.        , 0.        , 0.        , 0.        , 0.        ,\n",
       "        0.        , 0.        , 0.        , 0.        , 0.        ,\n",
       "        0.        , 0.        , 0.        , 0.        , 0.        ,\n",
       "        0.        , 0.        , 0.        , 0.        , 0.        ,\n",
       "        0.        , 0.        , 0.        , 0.        , 0.        ,\n",
       "        0.        , 0.        , 0.        , 0.        , 0.        ,\n",
       "        0.        , 0.        , 0.        , 0.        , 0.        ,\n",
       "        0.        , 0.        , 0.        , 0.        , 0.        ,\n",
       "        0.        , 0.        , 0.        , 0.        , 0.        ,\n",
       "        0.        , 0.        , 0.        , 0.        , 0.        ,\n",
       "        0.        , 0.        , 0.        , 0.        , 0.        ,\n",
       "        0.        , 0.        , 0.        , 0.        , 0.        ,\n",
       "        0.        , 0.        , 0.        , 0.        , 0.        ,\n",
       "        0.        , 0.        , 0.        , 0.        , 0.        ,\n",
       "        0.        , 0.        , 0.        , 0.        , 0.        ,\n",
       "        0.        , 0.        , 0.        , 0.        , 0.        ,\n",
       "        0.        , 0.        , 0.        , 0.        , 0.        ,\n",
       "        0.        , 0.        , 0.        , 0.        , 0.        ,\n",
       "        0.        , 0.        , 0.        , 0.        , 0.        ,\n",
       "        0.        , 0.        , 0.        , 0.        , 0.        ,\n",
       "        0.        , 0.        , 0.        , 0.        , 0.        ,\n",
       "        0.        , 0.        , 0.        , 0.        , 0.        ,\n",
       "        0.        , 0.        , 0.        , 0.        , 0.        ,\n",
       "        0.        , 0.        , 0.        , 0.        , 0.        ,\n",
       "        0.        , 0.        , 0.        , 0.        , 0.        ,\n",
       "        0.        , 0.        , 0.        , 0.        , 0.        ,\n",
       "        0.        , 0.        , 0.        , 0.        , 0.        ,\n",
       "        0.        , 0.        , 0.        , 0.        , 0.        ,\n",
       "        0.        , 0.        , 0.        , 0.        , 0.        ,\n",
       "        0.        , 0.        , 0.        , 0.        , 0.        ,\n",
       "        0.        , 0.        , 0.        , 0.        , 0.        ,\n",
       "        0.        , 0.        , 0.        , 0.        , 0.        ,\n",
       "        0.        , 0.        , 0.        , 0.        , 0.        ,\n",
       "        0.        , 0.        , 0.        , 0.        , 0.        ,\n",
       "        0.        , 0.        , 0.        , 0.        , 0.        ,\n",
       "        0.        , 0.        , 0.        , 0.        , 0.        ,\n",
       "        0.        , 0.        , 0.        , 0.        , 0.        ,\n",
       "        0.        , 0.        , 0.        , 0.        , 0.        ,\n",
       "        0.        , 0.        , 0.        , 0.        , 0.        ,\n",
       "        0.        , 0.        , 0.        , 0.        , 0.        ,\n",
       "        0.        , 0.        , 0.        , 0.        , 0.        ,\n",
       "        0.15384615, 0.23076923, 0.38461538, 1.        ]),\n",
       " array([0.00000000e+00, 4.13016632e-06, 2.06508316e-05, 3.71714969e-05,\n",
       "        4.54318295e-05, 5.36921622e-05, 7.84731601e-05, 9.91239917e-05,\n",
       "        1.15644657e-04, 1.44555821e-04, 1.61076487e-04, 2.35419480e-04,\n",
       "        2.39549647e-04, 2.56070312e-04, 2.89111643e-04, 3.13892640e-04,\n",
       "        3.26283139e-04, 3.46933971e-04, 3.51064137e-04, 3.59324470e-04,\n",
       "        3.63454636e-04, 3.79975302e-04, 3.92365801e-04, 3.96495967e-04,\n",
       "        4.37797630e-04, 4.62578628e-04, 4.66708794e-04, 4.95619959e-04,\n",
       "        4.99750125e-04, 5.08010458e-04, 5.24531123e-04, 5.36921622e-04,\n",
       "        5.49312121e-04, 5.78223285e-04, 6.03004283e-04, 6.07134449e-04,\n",
       "        6.19524948e-04, 6.36045614e-04, 6.64956778e-04, 6.73217110e-04,\n",
       "        7.10388607e-04, 7.43429938e-04, 7.68210936e-04, 7.72341102e-04,\n",
       "        7.92991934e-04, 7.97122100e-04, 8.09512599e-04, 8.17772932e-04,\n",
       "        8.50814262e-04, 8.59074595e-04, 8.63204761e-04, 8.71465094e-04,\n",
       "        9.16896923e-04, 9.21027090e-04, 9.41677921e-04, 9.49938254e-04,\n",
       "        9.62328753e-04, 9.91239917e-04, 1.09036391e-03, 1.11101474e-03,\n",
       "        1.11927507e-03, 1.13992590e-03, 1.14818624e-03, 1.17296724e-03,\n",
       "        1.21013873e-03, 1.21426890e-03, 1.25970073e-03, 1.31339289e-03,\n",
       "        1.32991356e-03, 1.33817389e-03, 1.46620904e-03, 1.52816154e-03,\n",
       "        1.60663470e-03, 1.82966368e-03, 1.89161618e-03, 1.97834967e-03,\n",
       "        2.21376915e-03, 2.40788697e-03, 2.46157913e-03, 2.75895110e-03,\n",
       "        3.28761239e-03, 3.82040385e-03, 5.24944140e-03, 5.32378439e-03,\n",
       "        6.06721433e-03, 6.30676397e-03, 7.82666518e-03, 7.86383668e-03,\n",
       "        8.98724192e-03, 9.56546520e-03, 9.98261200e-03, 1.08045151e-02,\n",
       "        1.08499469e-02, 1.10027631e-02, 1.14157797e-02, 1.15272942e-02,\n",
       "        1.18453170e-02, 1.18907488e-02, 1.21385588e-02, 1.21798605e-02,\n",
       "        1.35717265e-02, 1.38732287e-02, 1.39517018e-02, 1.55005142e-02,\n",
       "        1.55665969e-02, 1.57194130e-02, 1.63430681e-02, 1.63471983e-02,\n",
       "        2.20963898e-02, 2.37773675e-02, 2.41986445e-02, 2.42399461e-02,\n",
       "        2.65693599e-02, 2.65858806e-02, 2.65941409e-02, 2.77464573e-02,\n",
       "        2.79116640e-02, 2.79281847e-02, 3.35741220e-02, 3.36691159e-02,\n",
       "        3.40036593e-02, 3.54450874e-02, 5.07060519e-02, 5.07556139e-02,\n",
       "        5.07845251e-02, 5.08423474e-02, 5.23787693e-02, 5.83179485e-02,\n",
       "        5.84046820e-02, 5.95198269e-02, 5.98419798e-02, 5.98832815e-02,\n",
       "        7.33476237e-02, 7.43388636e-02, 7.44462480e-02, 7.54498784e-02,\n",
       "        7.60900541e-02, 7.62139591e-02, 8.04102081e-02, 8.08190946e-02,\n",
       "        9.02565246e-02, 9.25157256e-02, 1.04299090e-01, 1.05864423e-01,\n",
       "        1.05885074e-01, 1.05967677e-01, 1.06302221e-01, 1.07318242e-01,\n",
       "        1.14624506e-01, 1.14669938e-01, 1.14736020e-01, 1.14744281e-01,\n",
       "        1.14773192e-01, 1.16057674e-01, 1.22546165e-01, 1.22579206e-01,\n",
       "        1.24652550e-01, 1.26176581e-01, 1.28109499e-01, 1.28113629e-01,\n",
       "        1.29294857e-01, 1.31661442e-01, 1.36345051e-01, 1.36353311e-01,\n",
       "        1.56087246e-01, 1.56867847e-01, 1.56954581e-01, 1.57359337e-01,\n",
       "        1.57441940e-01, 1.57450201e-01, 1.58011903e-01, 1.58020163e-01,\n",
       "        1.58044944e-01, 1.69625931e-01, 1.70964105e-01, 1.70980625e-01,\n",
       "        1.71814919e-01, 1.71992516e-01, 1.72108161e-01, 2.02382280e-01,\n",
       "        2.07879531e-01, 2.07887792e-01, 2.08561009e-01, 2.08565139e-01,\n",
       "        2.09374652e-01, 2.09378782e-01, 2.09626592e-01, 2.11832100e-01,\n",
       "        2.22380545e-01, 2.22520971e-01, 2.22950508e-01, 2.22954638e-01,\n",
       "        2.23028981e-01, 2.23987180e-01, 2.24032612e-01, 2.24036742e-01,\n",
       "        2.24045002e-01, 2.24049132e-01, 2.24094564e-01, 2.24102825e-01,\n",
       "        2.26134866e-01, 2.27159148e-01, 2.27200449e-01, 2.27204580e-01,\n",
       "        2.29203580e-01, 2.29207710e-01, 2.32197951e-01, 2.32243382e-01,\n",
       "        2.32255773e-01, 2.43097460e-01, 2.43163542e-01, 2.44823869e-01,\n",
       "        2.75056687e-01, 2.75106249e-01, 2.77989105e-01, 2.78389731e-01,\n",
       "        2.79273586e-01, 2.79281847e-01, 2.97718909e-01, 3.02456210e-01,\n",
       "        3.14363479e-01, 3.14371740e-01, 3.14384130e-01, 3.15020176e-01,\n",
       "        3.15024306e-01, 3.16932443e-01, 3.27530450e-01, 3.27542840e-01,\n",
       "        3.27546970e-01, 3.57717835e-01, 3.57730226e-01, 3.57738486e-01,\n",
       "        3.59832480e-01, 3.59840741e-01, 3.59849001e-01, 3.59865522e-01,\n",
       "        3.62430355e-01, 3.62595562e-01, 3.62864023e-01, 3.64416965e-01,\n",
       "        3.64433486e-01, 4.06594224e-01, 4.06602484e-01, 4.65106290e-01,\n",
       "        4.65209544e-01, 4.65213674e-01, 4.65221934e-01, 4.65226065e-01,\n",
       "        4.65242585e-01, 4.99448623e-01, 4.99461013e-01, 4.99477534e-01,\n",
       "        4.99502315e-01, 4.99506445e-01, 4.99696433e-01, 4.99712953e-01,\n",
       "        4.99717084e-01, 4.99741865e-01, 4.99745995e-01, 4.99874030e-01,\n",
       "        4.99878160e-01, 4.99927722e-01, 5.02290177e-01, 5.02298438e-01,\n",
       "        5.02319088e-01, 5.02335609e-01, 5.15911466e-01, 5.15919726e-01,\n",
       "        5.18662157e-01, 5.18724109e-01, 5.18728239e-01, 5.35364549e-01,\n",
       "        5.35372809e-01, 5.35385200e-01, 5.35401721e-01, 5.35414111e-01,\n",
       "        5.35430632e-01, 5.35443022e-01, 5.35451283e-01, 5.35492584e-01,\n",
       "        5.36112109e-01, 5.36120370e-01, 5.36132760e-01, 5.36141020e-01,\n",
       "        5.36145151e-01, 5.36153411e-01, 5.36169932e-01, 5.36178192e-01,\n",
       "        5.37037266e-01, 5.37041397e-01, 5.37049657e-01, 5.37140521e-01,\n",
       "        5.37161171e-01, 5.37169432e-01, 5.37185952e-01, 5.37545277e-01,\n",
       "        5.37570058e-01, 5.37586579e-01, 5.37598969e-01, 5.37619620e-01,\n",
       "        5.37652661e-01, 5.41592840e-01, 5.41601100e-01, 5.41931514e-01,\n",
       "        5.41956295e-01, 5.42146282e-01, 5.43806609e-01, 5.46078201e-01,\n",
       "        5.46102982e-01, 5.46193845e-01, 5.46218626e-01, 5.46231017e-01,\n",
       "        5.49365813e-01, 5.49464937e-01, 5.51765440e-01, 5.51831522e-01,\n",
       "        5.51856303e-01, 5.51876954e-01, 5.72631040e-01, 5.72676472e-01,\n",
       "        5.72705383e-01, 5.72775596e-01, 5.80329670e-01, 5.80337930e-01,\n",
       "        5.84542440e-01, 5.84571351e-01, 5.84691126e-01, 5.95289132e-01,\n",
       "        5.95309783e-01, 5.95334564e-01, 5.95346955e-01, 5.96949459e-01,\n",
       "        6.23060371e-01, 6.24183776e-01, 6.24249859e-01, 6.24258119e-01,\n",
       "        6.24377894e-01, 6.24427456e-01, 6.24435716e-01, 6.24439846e-01,\n",
       "        6.26063002e-01, 6.26091913e-01, 6.26129084e-01, 6.26182776e-01,\n",
       "        6.27000549e-01, 6.27017070e-01, 6.27058372e-01, 6.27070762e-01,\n",
       "        6.27132715e-01, 6.28206558e-01, 6.28305682e-01, 6.28326333e-01,\n",
       "        6.28375895e-01, 6.28392415e-01, 6.28491539e-01, 6.28532841e-01,\n",
       "        6.28586533e-01, 6.28607184e-01, 6.28652616e-01, 6.28760000e-01,\n",
       "        6.28784781e-01, 6.28879775e-01, 6.28912816e-01, 6.28978899e-01,\n",
       "        6.29160626e-01, 6.29284531e-01, 6.29346484e-01, 6.29420827e-01,\n",
       "        6.29586033e-01, 6.29697548e-01, 6.29722329e-01, 6.31072893e-01,\n",
       "        6.43004944e-01, 6.71019862e-01, 6.71102465e-01, 6.71180938e-01,\n",
       "        6.71251151e-01, 6.71470050e-01, 6.71593955e-01, 6.71755032e-01,\n",
       "        6.72015232e-01, 6.72085445e-01, 6.72308474e-01, 6.72382817e-01,\n",
       "        6.72444769e-01, 6.72514982e-01, 6.72667798e-01, 6.72713230e-01,\n",
       "        6.72833005e-01, 6.72915608e-01, 6.72981691e-01, 6.73134507e-01,\n",
       "        6.73266672e-01, 6.81365929e-01, 6.81485703e-01, 6.81626129e-01,\n",
       "        6.81865679e-01, 6.82039146e-01, 6.84364429e-01, 6.84583328e-01,\n",
       "        6.84637020e-01, 6.89593220e-01, 6.89832770e-01, 6.90340780e-01,\n",
       "        6.93033648e-01, 6.93161684e-01, 6.93248417e-01, 6.93417754e-01,\n",
       "        6.93562310e-01, 6.93727516e-01, 6.94231397e-01, 6.94338781e-01,\n",
       "        6.94648543e-01, 6.94722886e-01, 6.94921134e-01, 6.95115252e-01,\n",
       "        6.95243287e-01, 7.04560943e-01, 7.04779841e-01, 7.04878965e-01,\n",
       "        7.50087766e-01, 8.19858666e-01, 8.20131257e-01, 9.08500295e-01,\n",
       "        9.72166809e-01, 9.72253543e-01, 9.72369187e-01, 9.72588086e-01,\n",
       "        9.72984582e-01, 9.73174570e-01, 9.73385208e-01, 9.73554545e-01,\n",
       "        9.73765184e-01, 9.99727409e-01, 1.00000000e+00, 1.00000000e+00,\n",
       "        1.00000000e+00, 1.00000000e+00, 1.00000000e+00]),\n",
       " array([           inf, 9.58247974e-01, 9.47090967e-01, 9.45915110e-01,\n",
       "        9.43657596e-01, 9.27462380e-01, 9.13827181e-01, 9.13595972e-01,\n",
       "        9.05519551e-01, 8.94340139e-01, 8.87339688e-01, 8.85220172e-01,\n",
       "        8.76452372e-01, 8.71854335e-01, 8.62490078e-01, 8.51704250e-01,\n",
       "        8.51662370e-01, 8.50979900e-01, 8.49514895e-01, 8.40748591e-01,\n",
       "        8.31998168e-01, 8.31689631e-01, 8.26812620e-01, 8.15733280e-01,\n",
       "        8.11733948e-01, 7.97068684e-01, 7.94463844e-01, 7.79879389e-01,\n",
       "        7.78268945e-01, 7.62241608e-01, 7.60380844e-01, 7.23328894e-01,\n",
       "        7.15686220e-01, 7.06898811e-01, 6.97320397e-01, 6.95965335e-01,\n",
       "        6.92208026e-01, 6.80958971e-01, 6.75840215e-01, 6.62025235e-01,\n",
       "        6.45647194e-01, 6.41708813e-01, 6.34636080e-01, 6.20373175e-01,\n",
       "        6.16262411e-01, 6.13766676e-01, 6.10713267e-01, 5.81112217e-01,\n",
       "        5.60923954e-01, 5.56067674e-01, 5.49944343e-01, 5.47575919e-01,\n",
       "        5.39400890e-01, 5.30294330e-01, 4.75175642e-01, 4.28349254e-01,\n",
       "        3.51550361e-01, 3.41318585e-01, 3.36983484e-01, 3.34319089e-01,\n",
       "        3.02900208e-01, 7.11888433e-03, 6.30592650e-03, 5.93245717e-03,\n",
       "        5.85314328e-03, 5.56101850e-03, 5.43405620e-03, 5.20507455e-03,\n",
       "        4.91457310e-03, 4.89308996e-03, 4.60186235e-03, 3.97846969e-03,\n",
       "        3.60480683e-03, 3.30195917e-03, 3.29232212e-03, 2.98518890e-03,\n",
       "        2.76824968e-03, 2.63730365e-03, 2.45451668e-03, 2.45089645e-03,\n",
       "        2.40355989e-03, 2.30521213e-03, 2.27428169e-03, 2.21129569e-03,\n",
       "        2.16038631e-03, 2.12095884e-03, 2.11089823e-03, 2.06367569e-03,\n",
       "        2.02166402e-03, 1.95561902e-03, 1.90849167e-03, 1.90012397e-03,\n",
       "        1.87300313e-03, 1.83545153e-03, 1.79100136e-03, 1.79040874e-03,\n",
       "        1.78079815e-03, 1.76046168e-03, 1.64657495e-03, 1.54472542e-03,\n",
       "        1.54408320e-03, 1.54132717e-03, 1.48921685e-03, 1.39873988e-03,\n",
       "        1.38106906e-03, 1.37333391e-03, 1.34515223e-03, 1.33889391e-03,\n",
       "        1.28099043e-03, 1.27724419e-03, 1.22554265e-03, 1.20608002e-03,\n",
       "        1.15787462e-03, 1.14842184e-03, 1.11870596e-03, 1.10560663e-03,\n",
       "        1.09532135e-03, 1.08464738e-03, 1.02272083e-03, 1.00054442e-03,\n",
       "        9.90361246e-04, 9.51731029e-04, 9.31943549e-04, 8.88804756e-04,\n",
       "        8.86520660e-04, 8.59147376e-04, 8.57294889e-04, 8.22226709e-04,\n",
       "        8.16078189e-04, 7.99991776e-04, 7.85774046e-04, 7.64693004e-04,\n",
       "        7.58052930e-04, 7.52881979e-04, 7.36624654e-04, 7.25991887e-04,\n",
       "        7.19202321e-04, 7.14608815e-04, 7.11420179e-04, 7.02083307e-04,\n",
       "        6.94172384e-04, 6.93942435e-04, 6.90213410e-04, 6.82322753e-04,\n",
       "        6.82155194e-04, 6.72289612e-04, 6.66345159e-04, 6.50903257e-04,\n",
       "        6.38137752e-04, 6.36687632e-04, 6.11559782e-04, 6.05479241e-04,\n",
       "        6.05234924e-04, 5.98628093e-04, 5.97309926e-04, 5.96438426e-04,\n",
       "        5.77097184e-04, 5.68887750e-04, 5.59207870e-04, 5.51829474e-04,\n",
       "        5.42347726e-04, 5.35152553e-04, 5.32152721e-04, 5.30912497e-04,\n",
       "        5.21223602e-04, 5.18796617e-04, 5.10256781e-04, 5.01450224e-04,\n",
       "        4.96194951e-04, 4.94976438e-04, 4.89856959e-04, 4.86880919e-04,\n",
       "        4.79563241e-04, 4.74842088e-04, 4.67295628e-04, 4.59137959e-04,\n",
       "        4.44940234e-04, 4.33419330e-04, 4.33200012e-04, 4.28340825e-04,\n",
       "        4.24353361e-04, 4.22334441e-04, 4.20215265e-04, 4.08247088e-04,\n",
       "        3.98937881e-04, 3.94721649e-04, 3.91160770e-04, 3.87612014e-04,\n",
       "        3.83664644e-04, 3.81593601e-04, 3.77962554e-04, 3.71335761e-04,\n",
       "        3.65727427e-04, 3.65716060e-04, 3.63310110e-04, 3.62698258e-04,\n",
       "        3.57112040e-04, 3.55757952e-04, 3.52575684e-04, 3.51351326e-04,\n",
       "        3.44300352e-04, 3.43415071e-04, 3.40571558e-04, 3.39479612e-04,\n",
       "        3.32805785e-04, 3.29250953e-04, 3.16113833e-04, 3.13774733e-04,\n",
       "        3.08508431e-04, 3.04369647e-04, 2.98463760e-04, 2.96200075e-04,\n",
       "        2.91623021e-04, 2.85742364e-04, 2.85323028e-04, 2.84296099e-04,\n",
       "        2.82768932e-04, 2.80743633e-04, 2.78571713e-04, 2.76791711e-04,\n",
       "        2.71938078e-04, 2.70994977e-04, 2.67665210e-04, 2.64216089e-04,\n",
       "        2.63589270e-04, 2.60393323e-04, 2.58089958e-04, 2.57261432e-04,\n",
       "        2.57077562e-04, 2.52106587e-04, 2.50406766e-04, 2.49573003e-04,\n",
       "        2.46598470e-04, 2.46303482e-04, 2.38508159e-04, 2.37053939e-04,\n",
       "        2.36862436e-04, 2.34506515e-04, 2.34034517e-04, 2.31003661e-04,\n",
       "        2.20446561e-04, 2.20329422e-04, 2.18420719e-04, 2.16579133e-04,\n",
       "        2.15212810e-04, 2.14125540e-04, 2.13855540e-04, 2.13855281e-04,\n",
       "        2.13316320e-04, 2.10047091e-04, 2.07268632e-04, 2.06916544e-04,\n",
       "        2.06655624e-04, 2.06525812e-04, 2.05783702e-04, 2.05616873e-04,\n",
       "        2.01925302e-04, 2.01151012e-04, 2.01150753e-04, 2.00840861e-04,\n",
       "        2.00643700e-04, 1.99132655e-04, 1.97614627e-04, 1.95219436e-04,\n",
       "        1.94856094e-04, 1.94733027e-04, 1.94202934e-04, 1.92512364e-04,\n",
       "        1.92167040e-04, 1.91694989e-04, 1.90764037e-04, 1.89711717e-04,\n",
       "        1.89154176e-04, 1.89153917e-04, 1.89035259e-04, 1.89035000e-04,\n",
       "        1.89018388e-04, 1.88796647e-04, 1.88165956e-04, 1.87967855e-04,\n",
       "        1.85723995e-04, 1.84972183e-04, 1.84227587e-04, 1.83879653e-04,\n",
       "        1.83556817e-04, 1.83070833e-04, 1.82495438e-04, 1.78772386e-04,\n",
       "        1.77811519e-04, 1.77762297e-04, 1.76405139e-04, 1.74888538e-04,\n",
       "        1.73491700e-04, 1.72838361e-04, 1.72297195e-04, 1.69337083e-04,\n",
       "        1.69224575e-04, 1.68799474e-04, 1.68736715e-04, 1.68481621e-04,\n",
       "        1.68269719e-04, 1.67763798e-04, 1.67166266e-04, 1.63554838e-04,\n",
       "        1.62494583e-04, 1.61886358e-04, 1.61855907e-04, 1.61679408e-04,\n",
       "        1.60697631e-04, 1.60378497e-04, 1.60193027e-04, 1.58792421e-04,\n",
       "        1.58755815e-04, 1.58097951e-04, 1.56870494e-04, 1.56430300e-04,\n",
       "        1.56241726e-04, 1.55752676e-04, 1.54491981e-04, 1.54199539e-04,\n",
       "        1.53814883e-04, 1.52858816e-04, 1.51479509e-04, 1.49399439e-04,\n",
       "        1.47773695e-04, 1.47571661e-04, 1.47145059e-04, 1.46367231e-04,\n",
       "        1.45640868e-04, 1.43800400e-04, 1.42809580e-04, 1.41628076e-04,\n",
       "        1.41623673e-04, 1.40691761e-04, 1.40454769e-04, 1.39260287e-04,\n",
       "        1.38291034e-04, 1.37766552e-04, 1.37090872e-04, 1.36939113e-04,\n",
       "        1.36533959e-04, 1.36380371e-04, 1.36379335e-04, 1.36059727e-04,\n",
       "        1.35725045e-04, 1.35372057e-04, 1.35357577e-04, 1.34898112e-04,\n",
       "        1.31889603e-04, 1.31884424e-04, 1.31461486e-04, 1.30832131e-04,\n",
       "        1.29772593e-04, 1.29350697e-04, 1.27845189e-04, 1.27499698e-04,\n",
       "        1.26784115e-04, 1.25392583e-04, 1.24067102e-04, 1.23368367e-04,\n",
       "        1.23363187e-04, 1.22228332e-04, 1.21031587e-04, 1.19949837e-04,\n",
       "        1.19465809e-04, 1.19463220e-04, 1.14024025e-04, 1.12485243e-04,\n",
       "        1.12403669e-04, 1.12132273e-04, 1.11587151e-04, 1.10648407e-04,\n",
       "        1.10088271e-04, 1.09496801e-04, 1.08712409e-04, 1.08578267e-04,\n",
       "        1.06159855e-04, 1.04936808e-04, 1.04161240e-04, 1.03647218e-04,\n",
       "        1.02068648e-04, 1.02027216e-04, 9.96179580e-05, 9.95467476e-05,\n",
       "        9.83366936e-05, 9.71175849e-05, 9.69632549e-05, 9.68679639e-05,\n",
       "        9.66403534e-05, 9.53741294e-05, 9.30390189e-05, 9.23551673e-05,\n",
       "        9.17919822e-05, 9.06226345e-05, 8.73896204e-05, 8.53697290e-05,\n",
       "        8.53604077e-05, 8.45758645e-05, 8.33335488e-05, 8.29394689e-05,\n",
       "        8.02570562e-05, 7.96819999e-05, 7.81877945e-05, 7.79625385e-05,\n",
       "        7.77678347e-05, 7.55908955e-05, 7.53457067e-05, 7.47302766e-05,\n",
       "        7.45425670e-05, 7.38655195e-05, 7.31895102e-05, 7.31294437e-05,\n",
       "        7.28594032e-05, 7.19074041e-05, 7.16226080e-05, 7.10745062e-05,\n",
       "        6.83050263e-05, 6.55679523e-05, 6.53354635e-05, 6.47273178e-05,\n",
       "        6.26709258e-05, 6.26025783e-05, 6.24099628e-05, 6.14704474e-05,\n",
       "        6.07403782e-05, 5.85908343e-05, 5.78473152e-05, 5.63918701e-05,\n",
       "        5.52955050e-05, 5.45054016e-05, 5.39211104e-05, 5.30810497e-05,\n",
       "        5.30222845e-05, 5.25521631e-05, 5.24154760e-05, 5.04588955e-05,\n",
       "        4.83565926e-05, 4.37464223e-05, 3.44203238e-07]))"
      ]
     },
     "execution_count": 154,
     "metadata": {},
     "output_type": "execute_result"
    }
   ],
   "source": [
    "evaluate(df_test = df_to_screen, test_var = \"CRC\", y_prob_pred=y_prob_pred, weights=[[1],[1]])"
   ]
  },
  {
   "cell_type": "markdown",
   "metadata": {},
   "source": [
    "---\n",
    "Option #2 Do colonoscopy to everyone"
   ]
  },
  {
   "cell_type": "code",
   "execution_count": null,
   "metadata": {},
   "outputs": [],
   "source": [
    "net.clear_all_evidence()\n",
    "net.set_evidence(\"Screening\", \"FIT\")\n",
    "\n",
    "y_prob_pred = []\n",
    "\n",
    "for i in range(df.shape[0]):\n",
    "    net.clear_evidence(\"Results_of_Screening\")\n",
    "    net.clear_evidence(\"Results_of_Colonoscopy\")\n",
    "    net.clear_evidence(\"Colonoscopy\")\n",
    "    \n",
    "   \n",
    "    sample = df.iloc[i].drop(labels = [\"CRC\"])\n",
    "\n",
    "    sample_dict = sample.to_dict() \n",
    "\n",
    "    for keys, values in sample_dict.items():\n",
    "        net.set_evidence(keys,values)\n",
    "\n",
    "    net.update_beliefs()\n",
    "    \n",
    "    # Get probabilities of predicting or not CRC, choose one randomly using these probs\n",
    "    scr_result_probs = net.get_node_value(\"Results_of_Screening\")\n",
    "\n",
    "    # Note that there is randomness in the method\n",
    "    random_number = np.random.rand()\n",
    "\n",
    "    # Step 2: Determine the category based on cumulative probabilities\n",
    "    cumulative_probabilities = np.cumsum(scr_result_probs)\n",
    "    category = np.argmax(cumulative_probabilities > random_number)\n",
    "\n",
    "    net.set_evidence(\"Results_of_Screening\", category)\n",
    "\n",
    "    # Do a colonoscopy to everyone.\n",
    "        \n",
    "    net.set_evidence(\"Colonoscopy\", \"Colonoscopy\")\n",
    "\n",
    "    net.update_beliefs()\n",
    "    \n",
    "    col_result_probs = net.get_node_value(\"Results_of_Colonoscopy\")\n",
    "    random_number = np.random.rand()\n",
    "\n",
    "    # Step 2: Determine the category based on cumulative probabilities\n",
    "    cumulative_probabilities = np.cumsum(col_result_probs)\n",
    "    category = np.argmax(cumulative_probabilities > random_number)\n",
    "\n",
    "    net.set_evidence(\"Results_of_Colonoscopy\", category)\n",
    "\n",
    "    net.update_beliefs()\n",
    "\n",
    "    crc_probs = net.get_node_value(\"CRC\")\n",
    "\n",
    "    y_prob_pred.append(crc_probs[1])"
   ]
  },
  {
   "cell_type": "code",
   "execution_count": null,
   "metadata": {},
   "outputs": [],
   "source": [
    "evaluate(df_test = df, test_var = \"CRC\", y_prob_pred=y_prob_pred, weights=[[1],[1]])"
   ]
  },
  {
   "cell_type": "markdown",
   "metadata": {},
   "source": [
    "Alternativa: Aumentar la sensibilidad de la clasificación del CRC mediante la red bayesiana a expensas de la especificidad. Después, realizar un test FIT a todos aquellos detectados positivos por la red. Después, hacer colonosocopia a todos los detectados positivos por el FIT. \n",
    "\n",
    "Estaríamos utilizando el valor predictivo de la red como paso previo al FIT (de hecho es el argumento principal del uso de los algoritmos predictivos para el diagnóstico). La idea es buena pero quizás nos encontramos con la limitación de que el FIT y la colonoscopia vienen modelizadas en el mismo contexto (la red bayesiana) que el resto de variables y por lo tanto no sea tan evidente su diferencial capacidad diagnóstica."
   ]
  },
  {
   "cell_type": "markdown",
   "metadata": {},
   "source": [
    "#### Binary cross entropy"
   ]
  }
 ],
 "metadata": {
  "kernelspec": {
   "display_name": "Python 3",
   "language": "python",
   "name": "python3"
  },
  "language_info": {
   "codemirror_mode": {
    "name": "ipython",
    "version": 3
   },
   "file_extension": ".py",
   "mimetype": "text/x-python",
   "name": "python",
   "nbconvert_exporter": "python",
   "pygments_lexer": "ipython3",
   "version": "3.11.9"
  }
 },
 "nbformat": 4,
 "nbformat_minor": 2
}
