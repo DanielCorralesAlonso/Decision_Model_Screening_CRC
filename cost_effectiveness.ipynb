{
 "cells": [
  {
   "cell_type": "code",
   "execution_count": null,
   "metadata": {},
   "outputs": [],
   "source": [
    "import pysmile\n",
    "import pysmile_license\n",
    "import numpy as np\n",
    "import pandas as pd\n",
    "\n",
    "from df_plot import plot_df \n",
    "np.seterr(divide='ignore', invalid = 'ignore')"
   ]
  },
  {
   "cell_type": "code",
   "execution_count": null,
   "metadata": {},
   "outputs": [],
   "source": [
    "# Read the network\n",
    "net = pysmile.Network()\n",
    "net.read_file(\"genie_models/Basic_ID_screening_06032024.xdsl\")\n",
    "\n",
    "net.set_evidence(\"CRC\", False)\n",
    "p_CRC_false = net.prob_evidence()\n",
    "\n",
    "net.set_evidence(\"CRC\", True)\n",
    "p_CRC_true = net.prob_evidence()"
   ]
  },
  {
   "cell_type": "markdown",
   "metadata": {},
   "source": [
    "### Cost efectiveness"
   ]
  },
  {
   "cell_type": "code",
   "execution_count": null,
   "metadata": {},
   "outputs": [
    {
     "data": {
      "text/plain": [
       "['Sex',\n",
       " 'Age',\n",
       " 'SD',\n",
       " 'SES',\n",
       " 'Depression',\n",
       " 'PA',\n",
       " 'Smoking',\n",
       " 'Anxiety',\n",
       " 'Alcohol',\n",
       " 'BMI',\n",
       " 'Hyperchol_',\n",
       " 'Diabetes',\n",
       " 'Hypertension',\n",
       " 'CRC',\n",
       " 'Screening',\n",
       " 'Results_of_Screening',\n",
       " 'Colonoscopy',\n",
       " 'Results_of_Colonoscopy',\n",
       " 'Value_of_CRC_detection',\n",
       " 'Cost_of_Screening',\n",
       " 'Patient_comfort',\n",
       " 'Complications',\n",
       " 'Cost_of_complications',\n",
       " 'Utility']"
      ]
     },
     "metadata": {},
     "output_type": "display_data"
    }
   ],
   "source": [
    "net.get_all_node_ids()"
   ]
  },
  {
   "cell_type": "code",
   "execution_count": null,
   "metadata": {},
   "outputs": [],
   "source": [
    "net.update_beliefs()"
   ]
  },
  {
   "cell_type": "code",
   "execution_count": null,
   "metadata": {},
   "outputs": [
    {
     "data": {
      "text/plain": [
       "['Cost_of_Screening+Cost_of_complications+100*Patient_comfort+3e+06*Value_of_CRC_detection']"
      ]
     },
     "metadata": {},
     "output_type": "display_data"
    }
   ],
   "source": [
    "net.get_mau_expressions(\"Utility\")"
   ]
  },
  {
   "cell_type": "code",
   "execution_count": null,
   "metadata": {},
   "outputs": [],
   "source": [
    "wtp = 10\n",
    "expression = f'1*Cost_of_Screening+{wtp}*Value_of_CRC_detection+Cost_of_complications+Patient_comfort'"
   ]
  },
  {
   "cell_type": "code",
   "execution_count": null,
   "metadata": {},
   "outputs": [],
   "source": [
    "net.set_mau_expressions(node_id = \"Utility\", expressions = [expression])"
   ]
  },
  {
   "cell_type": "code",
   "execution_count": null,
   "metadata": {},
   "outputs": [
    {
     "ename": "SMILEException",
     "evalue": "SMILE Error 1 in function Network.GetValue",
     "output_type": "error",
     "traceback": [
      "\u001b[1;31m---------------------------------------------------------------------------\u001b[0m\n",
      "\n",
      "\u001b[1;31mSMILEException\u001b[0m                            Traceback (most recent call last)\n",
      "\n",
      "Cell \u001b[1;32mIn[18], line 1\u001b[0m\n",
      "\n",
      "\u001b[1;32m----> 1\u001b[0m \u001b[43mnet\u001b[49m\u001b[38;5;241;43m.\u001b[39;49m\u001b[43mget_node_value\u001b[49m\u001b[43m(\u001b[49m\u001b[38;5;124;43m\"\u001b[39;49m\u001b[38;5;124;43mUtility\u001b[39;49m\u001b[38;5;124;43m\"\u001b[39;49m\u001b[43m)\u001b[49m\n",
      "\n",
      "\n",
      "\n",
      "\u001b[1;31mSMILEException\u001b[0m: SMILE Error 1 in function Network.GetValue"
     ]
    }
   ],
   "source": [
    "net.get_node_value(\"Utility\")"
   ]
  },
  {
   "cell_type": "code",
   "execution_count": null,
   "metadata": {},
   "outputs": [],
   "source": [
    "import numpy as np \n",
    "import matplotlib.pyplot as plt\n",
    "import math\n",
    "\n",
    "class Inf_diag_inference:\n",
    "    def __init__(self):\n",
    "        print(\"Starting inference...\")\n",
    "        inf_diag = pysmile.Network()\n",
    "        inf_diag.read_file(\"genie_models/Basic_ID_screening.xdsl\")\n",
    "        \n",
    "        #print(\"No evidence set.\")\n",
    "        #inf_diag.update_beliefs()\n",
    "        #self.print_cost_utility(inf_diag)\n",
    "\n",
    "        node_id = [\"Sex\", \"Age\", \"PA\", \"Smoking\", \"Alcohol\", \"BMI\"]\n",
    "        outcome_id = [\"W\", \"age_5_old_adult\", \"PA_2\", \"sm_3_ex_smoker\", \"low\", \"bmi_4_obese\"]\n",
    "        self.change_evidence_and_update(inf_diag, node_id, outcome_id)\n",
    "\n",
    "        tot_array = self.plot_wtp(inf_diag)\n",
    "\n",
    "        for tool in range(tot_array.shape[1]):\n",
    "            plt.plot(tot_array[:,tool])\n",
    "\n",
    "        '''print(\"Setting Forecast=Good.\")\n",
    "        self.change_evidence_and_update(net, \"Forecast\", \"Good\")\n",
    "        print(\"Adding Economy=Up\")\n",
    "        self.change_evidence_and_update(net, \"Economy\", \"Up\")'''\n",
    "\n",
    "        print(\"Inference complete.\")\n",
    "\n",
    "    def change_evidence_and_update(self, net, node_id, outcome_id):\n",
    "        for i in range(len(node_id)):\n",
    "            if outcome_id[i] is not None:\n",
    "                net.set_evidence(node_id[i], outcome_id[i])\n",
    "            else:\n",
    "                net.clear_evidence(node_id[i])\n",
    "\n",
    "        net.update_beliefs()\n",
    "        self.print_cost_utility(net)\n",
    "\n",
    "    def print_cost_utility(self, net):\n",
    "        expected_utility = net.get_node_value(\"Cost_utility\")\n",
    "        util_parents = net.get_value_indexing_parents(\"Cost_utility\")\n",
    "        self.print_utility_matrix(net, expected_utility, util_parents)\n",
    "\n",
    "    def print_utility_matrix(self, net, mtx, parents):\n",
    "        dim_count = 1 + len(parents)\n",
    "        dim_sizes = [0] * dim_count\n",
    "        for i in range(0, dim_count - 1):\n",
    "            dim_sizes[i] = net.get_outcome_count(parents[i])\n",
    "        dim_sizes[len(dim_sizes) - 1] = 1\n",
    "        coords = [0] * dim_count\n",
    "        for elem_idx in range(0, len(mtx)):\n",
    "            self.index_to_coords(elem_idx, dim_sizes, coords)\n",
    "            str_to_print = \" Utility(\"\n",
    "            if dim_count > 1:\n",
    "                for parent_idx in range(0, len(parents)):\n",
    "                    if parent_idx > 0:\n",
    "                        str_to_print += \",\"\n",
    "                    parent_handle = parents[parent_idx]\n",
    "                    str_to_print += net.get_node_id(parent_handle) + \\\n",
    "                    \"=\" + net.get_outcome_id(parent_handle,\n",
    "                                                coords[parent_idx])\n",
    "            str_to_print += \")=\" + str(mtx[elem_idx])\n",
    "            print(str_to_print)\n",
    "        print(\"\")\n",
    "\n",
    "    def index_to_coords(self, index, dim_sizes, coords):\n",
    "        prod = 1\n",
    "        for i in range(len(dim_sizes) - 1, -1, -1):\n",
    "            coords[i] = int(index / prod) % dim_sizes[i]\n",
    "            prod *= dim_sizes[i]\n",
    "\n",
    "    def plot_wtp(self, net ):\n",
    "        total_array = []\n",
    "        for wtp in range(0, 20, 1):\n",
    "            print(np.log(wtp))\n",
    "            expression = f'1*Cost_of_Screening+{wtp}*Utility_of_Screening+Cost_of_Perforation+Cost_of_Bleeding+Cost_of_other_complications'\n",
    "            net.set_mau_expressions(node_id = \"Cost_utility\", expressions = [expression])\n",
    "            net.update_beliefs()\n",
    "            total_array.append(net.get_node_value(\"Cost_utility\"))\n",
    "\n",
    "        np_tot_array = np.array(total_array)\n",
    "        np_tot_array.reshape(-1,7)\n",
    "        print(np_tot_array)\n",
    "        return np_tot_array\n"
   ]
  },
  {
   "cell_type": "code",
   "execution_count": null,
   "metadata": {},
   "outputs": [
    {
     "name": "stdout",
     "output_type": "stream",
     "text": [
      "Starting inference...\n"
     ]
    },
    {
     "ename": "SMILEException",
     "evalue": "SMILE Error Occured. Invalid node handle: -2",
     "output_type": "error",
     "traceback": [
      "\u001b[1;31m---------------------------------------------------------------------------\u001b[0m\n",
      "\n",
      "\u001b[1;31mSMILEException\u001b[0m                            Traceback (most recent call last)\n",
      "\n",
      "Cell \u001b[1;32mIn[20], line 1\u001b[0m\n",
      "\n",
      "\u001b[1;32m----> 1\u001b[0m \u001b[43mInf_diag_inference\u001b[49m\u001b[43m(\u001b[49m\u001b[43m)\u001b[49m\n",
      "\n",
      "\n",
      "\n",
      "Cell \u001b[1;32mIn[19], line 17\u001b[0m, in \u001b[0;36mInf_diag_inference.__init__\u001b[1;34m(self)\u001b[0m\n",
      "\n",
      "\u001b[0;32m     15\u001b[0m node_id \u001b[38;5;241m=\u001b[39m [\u001b[38;5;124m\"\u001b[39m\u001b[38;5;124mSex\u001b[39m\u001b[38;5;124m\"\u001b[39m, \u001b[38;5;124m\"\u001b[39m\u001b[38;5;124mAge\u001b[39m\u001b[38;5;124m\"\u001b[39m, \u001b[38;5;124m\"\u001b[39m\u001b[38;5;124mPA\u001b[39m\u001b[38;5;124m\"\u001b[39m, \u001b[38;5;124m\"\u001b[39m\u001b[38;5;124mSmoking\u001b[39m\u001b[38;5;124m\"\u001b[39m, \u001b[38;5;124m\"\u001b[39m\u001b[38;5;124mAlcohol\u001b[39m\u001b[38;5;124m\"\u001b[39m, \u001b[38;5;124m\"\u001b[39m\u001b[38;5;124mBMI\u001b[39m\u001b[38;5;124m\"\u001b[39m]\n",
      "\n",
      "\u001b[0;32m     16\u001b[0m outcome_id \u001b[38;5;241m=\u001b[39m [\u001b[38;5;124m\"\u001b[39m\u001b[38;5;124mW\u001b[39m\u001b[38;5;124m\"\u001b[39m, \u001b[38;5;124m\"\u001b[39m\u001b[38;5;124mage_5_old_adult\u001b[39m\u001b[38;5;124m\"\u001b[39m, \u001b[38;5;124m\"\u001b[39m\u001b[38;5;124mPA_2\u001b[39m\u001b[38;5;124m\"\u001b[39m, \u001b[38;5;124m\"\u001b[39m\u001b[38;5;124msm_3_ex_smoker\u001b[39m\u001b[38;5;124m\"\u001b[39m, \u001b[38;5;124m\"\u001b[39m\u001b[38;5;124mlow\u001b[39m\u001b[38;5;124m\"\u001b[39m, \u001b[38;5;124m\"\u001b[39m\u001b[38;5;124mbmi_4_obese\u001b[39m\u001b[38;5;124m\"\u001b[39m]\n",
      "\n",
      "\u001b[1;32m---> 17\u001b[0m \u001b[38;5;28;43mself\u001b[39;49m\u001b[38;5;241;43m.\u001b[39;49m\u001b[43mchange_evidence_and_update\u001b[49m\u001b[43m(\u001b[49m\u001b[43minf_diag\u001b[49m\u001b[43m,\u001b[49m\u001b[43m \u001b[49m\u001b[43mnode_id\u001b[49m\u001b[43m,\u001b[49m\u001b[43m \u001b[49m\u001b[43moutcome_id\u001b[49m\u001b[43m)\u001b[49m\n",
      "\n",
      "\u001b[0;32m     19\u001b[0m tot_array \u001b[38;5;241m=\u001b[39m \u001b[38;5;28mself\u001b[39m\u001b[38;5;241m.\u001b[39mplot_wtp(inf_diag)\n",
      "\n",
      "\u001b[0;32m     21\u001b[0m \u001b[38;5;28;01mfor\u001b[39;00m tool \u001b[38;5;129;01min\u001b[39;00m \u001b[38;5;28mrange\u001b[39m(tot_array\u001b[38;5;241m.\u001b[39mshape[\u001b[38;5;241m1\u001b[39m]):\n",
      "\n",
      "\n",
      "\n",
      "Cell \u001b[1;32mIn[19], line 39\u001b[0m, in \u001b[0;36mInf_diag_inference.change_evidence_and_update\u001b[1;34m(self, net, node_id, outcome_id)\u001b[0m\n",
      "\n",
      "\u001b[0;32m     36\u001b[0m         net\u001b[38;5;241m.\u001b[39mclear_evidence(node_id[i])\n",
      "\n",
      "\u001b[0;32m     38\u001b[0m net\u001b[38;5;241m.\u001b[39mupdate_beliefs()\n",
      "\n",
      "\u001b[1;32m---> 39\u001b[0m \u001b[38;5;28;43mself\u001b[39;49m\u001b[38;5;241;43m.\u001b[39;49m\u001b[43mprint_cost_utility\u001b[49m\u001b[43m(\u001b[49m\u001b[43mnet\u001b[49m\u001b[43m)\u001b[49m\n",
      "\n",
      "\n",
      "\n",
      "Cell \u001b[1;32mIn[19], line 42\u001b[0m, in \u001b[0;36mInf_diag_inference.print_cost_utility\u001b[1;34m(self, net)\u001b[0m\n",
      "\n",
      "\u001b[0;32m     41\u001b[0m \u001b[38;5;28;01mdef\u001b[39;00m \u001b[38;5;21mprint_cost_utility\u001b[39m(\u001b[38;5;28mself\u001b[39m, net):\n",
      "\n",
      "\u001b[1;32m---> 42\u001b[0m     expected_utility \u001b[38;5;241m=\u001b[39m \u001b[43mnet\u001b[49m\u001b[38;5;241;43m.\u001b[39;49m\u001b[43mget_node_value\u001b[49m\u001b[43m(\u001b[49m\u001b[38;5;124;43m\"\u001b[39;49m\u001b[38;5;124;43mCost_utility\u001b[39;49m\u001b[38;5;124;43m\"\u001b[39;49m\u001b[43m)\u001b[49m\n",
      "\n",
      "\u001b[0;32m     43\u001b[0m     util_parents \u001b[38;5;241m=\u001b[39m net\u001b[38;5;241m.\u001b[39mget_value_indexing_parents(\u001b[38;5;124m\"\u001b[39m\u001b[38;5;124mCost_utility\u001b[39m\u001b[38;5;124m\"\u001b[39m)\n",
      "\n",
      "\u001b[0;32m     44\u001b[0m     \u001b[38;5;28mself\u001b[39m\u001b[38;5;241m.\u001b[39mprint_utility_matrix(net, expected_utility, util_parents)\n",
      "\n",
      "\n",
      "\n",
      "\u001b[1;31mSMILEException\u001b[0m: SMILE Error Occured. Invalid node handle: -2"
     ]
    }
   ],
   "source": [
    "Inf_diag_inference()"
   ]
  },
  {
   "cell_type": "code",
   "execution_count": null,
   "metadata": {},
   "outputs": [],
   "source": []
  }
 ],
 "metadata": {
  "language_info": {
   "name": "python"
  }
 },
 "nbformat": 4,
 "nbformat_minor": 2
}
